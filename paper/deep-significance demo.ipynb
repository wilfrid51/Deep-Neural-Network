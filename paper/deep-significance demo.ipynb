{
 "cells": [
  {
   "cell_type": "markdown",
   "metadata": {},
   "source": [
    "# deep-significance Demo"
   ]
  },
  {
   "cell_type": "markdown",
   "metadata": {},
   "source": [
    "**Note: [REDACTED] indicates links that were temporarily removed for peer-reviewing purposes.**\n",
    "\n",
    "In this demo, we will demonstrate some of the functionalities in the deep-significance package using the Cart Pole problem (Barto et al. 1983) as implemented in OpenAI gym. \n",
    "\n",
    "Since this is a demo, we will use an extremely simple approach to tackling reinforcement learning problems with neural networks, namely *Deep Q-networks* (Mnih et al., 2015). Back in 2015, Deep Q-networks where the first approach to obtain competitive scores on many Atari games. In this demo, we will specificly use the package to determine the effect of replay memory on the model. \n",
    "\n",
    "Deep Q-Learning tries to approximate the optimal action-value function defined as \n",
    "\n",
    "\\begin{equation*}\n",
    "    Q^*(s, a) = \\max_\\pi \\mathbb{E}\\big[ r_t + \\gamma r_{t+1} + \\gamma^2 r_{t+2} + \\ldots \\big| s_t = s, a_t = a, \\pi \\big]\n",
    "\\end{equation*}\n",
    "\n",
    "The definition above reads as follow: The optimal action-value function is the policy $\\pi$ that maximizes the future reward $r_t$ at a state $s_t$ by performing an action $a_t$, with subsequent rewards being increasingly discounted by a factor $\\gamma$. The model weights are updated using the following $l_2$ loss:\n",
    "\n",
    "\\begin{equation*}\n",
    "    \\mathcal{L}(\\theta) = \\mathbb{E}_{(s, a, r, s^\\prime) \\sim U(\\text{Buffer})}\\bigg[\\Big(r + \\max_{a^\\prime} Q(s^\\prime, a^\\prime; \\theta^\\text{target}) - Q(s, a; \\theta)\\Big)^2\\bigg]\n",
    "\\end{equation*}\n",
    "\n",
    "Two aspects of this loss function are especially noteworthy: First of all, since we do not know the true value of the $Q$-function in most cases, the predicted value $Q(s, a; \\theta)$ is compared against the reward plus outcome of the greedy action chosen by a *target* network: To avoid having to ``hit a moving target'' (Van Hasselt et al., 2018), the target network is only updated every couple of training steps by copying the main networks parameters. Secondly, the state, action and reward used to compute the loss are not the ones just observed by the model, but instead are uniformly sampled from a *replay buffer*, a sort of memory that past experiences gets added to during training.\n",
    "\n",
    "For that purpose, let us first define the environment along with some project requirements:"
   ]
  },
  {
   "cell_type": "code",
   "execution_count": 1,
   "metadata": {},
   "outputs": [
    {
     "name": "stderr",
     "output_type": "stream",
     "text": [
      "\n"
     ]
    }
   ],
   "source": [
    "# STD\n",
    "import random\n",
    "\n",
    "# EXT\n",
    "import gym\n",
    "import numpy as np\n",
    "import torch\n",
    "import torch.optim as optim\n",
    "import torch.nn as nn\n",
    "import torch.nn.functional as F\n",
    "\n",
    "# Import package functions\n",
    "# To use deepsig in your project, simply use pip install deepsig\n",
    "import sys\n",
    "sys.path.insert(0, \"../\")\n",
    "from deepsig import aso, multi_aso, aso_uncertainty_reduction, bootstrap_power_analysis, bootstrap_test"
   ]
  },
  {
   "cell_type": "code",
   "execution_count": 2,
   "metadata": {},
   "outputs": [],
   "source": [
    "# Set constants\n",
    "SEED = 42\n",
    "\n",
    "# Set hyperparameters\n",
    "NUM_EPISODES = 100\n",
    "TARGET_UPDATE_FREQ = 10\n",
    "MAX_STEPS = 1000\n",
    "BATCH_SIZE = 128\n",
    "DISCOUNT_FACTOR = 0.8\n",
    "LEARN_RATE = 1e-3\n",
    "NUM_HIDDEN = 256\n",
    "MEMORY_SIZE = 10000\n",
    "SHOW_AGENT = False  # Set this to true if you want to see the agent learning\n"
   ]
  },
  {
   "cell_type": "code",
   "execution_count": 3,
   "metadata": {},
   "outputs": [
    {
     "data": {
      "text/plain": [
       "<torch._C.Generator at 0x1073f1bf0>"
      ]
     },
     "execution_count": 3,
     "metadata": {},
     "output_type": "execute_result"
    }
   ],
   "source": [
    "env = gym.envs.make(\"CartPole-v1\")\n",
    "\n",
    "# Seed for replicability\n",
    "env.seed(SEED)\n",
    "random.seed(SEED)\n",
    "torch.manual_seed(SEED)"
   ]
  },
  {
   "cell_type": "markdown",
   "metadata": {},
   "source": [
    "Next, we define a super simple Deep Q-network and replay memory class:"
   ]
  },
  {
   "cell_type": "code",
   "execution_count": 4,
   "metadata": {},
   "outputs": [],
   "source": [
    "class QNetwork(nn.Module):\n",
    "\n",
    "    def __init__(self, n_in, n_out, num_hidden=128):\n",
    "        nn.Module.__init__(self)\n",
    "        self.l1 = nn.Linear(n_in, num_hidden)\n",
    "        self.l2 = nn.Linear(num_hidden, n_out)\n",
    "\n",
    "    def forward(self, x):\n",
    "        out = self.l1(x)\n",
    "        out = F.relu(out)\n",
    "        out = self.l2(out)\n",
    "        return out\n",
    "\n",
    "\n",
    "class ReplayMemory:\n",
    "\n",
    "    def __init__(self, capacity):\n",
    "        self.capacity = capacity\n",
    "        self.memory = []\n",
    "\n",
    "    def push(self, transition):\n",
    "        if self.capacity == len(self.memory):\n",
    "            self.memory.pop(0)\n",
    "        self.memory.append(transition)\n",
    "\n",
    "    def sample(self, batch_size):\n",
    "        return random.sample(self.memory, batch_size)\n",
    "\n",
    "    def __len__(self):\n",
    "        return len(self.memory)"
   ]
  },
  {
   "cell_type": "markdown",
   "metadata": {},
   "source": [
    "Next, we implement some utility functions:"
   ]
  },
  {
   "cell_type": "code",
   "execution_count": 5,
   "metadata": {},
   "outputs": [],
   "source": [
    "def select_action(model, state, epsilon):\n",
    "    with torch.no_grad():\n",
    "        action = model(torch.Tensor(state))\n",
    "        return torch.argmax(action).item() if random.random() > epsilon else random.choice([0,1])\n",
    "\n",
    "def get_epsilon(it):\n",
    "    return 0.05 if it >= 1000 else - 0.00095 * it + 1\n",
    "    \n",
    "def compute_target(model, reward, next_state, done, discount_factor, target_net):\n",
    "\n",
    "    targets = reward + (target_net(next_state).max(1)[0] * discount_factor) * (1 - done.float())\n",
    "    \n",
    "    return targets.unsqueeze(1)\n",
    "\n",
    "def compute_q_val(model, state, action):\n",
    "    q_val = model(state)\n",
    "    q_val = q_val.gather(1, action.unsqueeze(1).view(-1, 1))\n",
    "    return q_val\n"
   ]
  },
  {
   "cell_type": "code",
   "execution_count": 6,
   "metadata": {},
   "outputs": [],
   "source": [
    "def train(model, memory, optimizer, batch_size, discount_factor, target_net):\n",
    "    # don't learn without some decent experience\n",
    "    if len(memory) < batch_size:\n",
    "        return None\n",
    "\n",
    "    # random transition batch is taken from experience replay memory\n",
    "    transitions = memory.sample(batch_size)\n",
    "\n",
    "    # transition is a list of 4-tuples, instead we want 4 vectors (as torch.Tensor's)\n",
    "    state, action, reward, next_state, done = zip(*transitions)\n",
    "\n",
    "    # convert to PyTorch and define types\n",
    "    state = torch.tensor(state, dtype=torch.float)\n",
    "    action = torch.tensor(action, dtype=torch.int64)  # Need 64 bit to use them as index\n",
    "    next_state = torch.tensor(next_state, dtype=torch.float)\n",
    "    reward = torch.tensor(reward, dtype=torch.float)\n",
    "    done = torch.tensor(done, dtype=torch.uint8)  # Boolean\n",
    "    action = action.squeeze()\n",
    "\n",
    "    # compute the q value\n",
    "    q_val = compute_q_val(model, state, action)\n",
    "\n",
    "    with torch.no_grad():  # Don't compute gradient info for the target (semi-gradient)\n",
    "        target = compute_target(model, reward, next_state, done, discount_factor, target_net)\n",
    "\n",
    "    # loss is measured from error between current and newly expected Q values\n",
    "    loss = F.smooth_l1_loss(q_val, target)\n",
    "\n",
    "    # backpropagation of loss to Neural Network (PyTorch magic)\n",
    "    optimizer.zero_grad()\n",
    "    loss.backward()\n",
    "    optimizer.step()\n",
    "\n",
    "    return loss.item()  # Returns a Python scalar, and releases history (similar to .detach())"
   ]
  },
  {
   "cell_type": "code",
   "execution_count": 7,
   "metadata": {},
   "outputs": [],
   "source": [
    "def run_episodes(train, model, memory, env, num_episodes, batch_size, discount_factor, learn_rate, target_net,\n",
    "                 target_update_freq, max_steps, show_agent):\n",
    "    optimizer = optim.Adam(model.parameters(), learn_rate)\n",
    "    global_steps = 0  # Count the steps (do not reset at episode start, to compute epsilon)\n",
    "    episode_rewards = []\n",
    "\n",
    "    for i in range(num_episodes):\n",
    "        steps = 0\n",
    "        state = env.reset()\n",
    "        cum_reward = 0\n",
    "        done = False\n",
    "\n",
    "        while not done:\n",
    "            \n",
    "            if show_agent:\n",
    "                env.render()\n",
    "            \n",
    "            steps += 1\n",
    "\n",
    "            eps = get_epsilon(global_steps)\n",
    "\n",
    "            action = select_action(model, state, eps)\n",
    "\n",
    "            if steps % target_update_freq == 0:\n",
    "                target_net.load_state_dict(model.state_dict())\n",
    "\n",
    "            train(model, memory, optimizer, batch_size, discount_factor, target_net)\n",
    "            next_state, reward, done, _ = env.step(action)\n",
    "            cum_reward += reward\n",
    "\n",
    "            memory.push((state, action, reward, next_state, done))\n",
    "            state = next_state\n",
    "\n",
    "            if steps >= max_steps:\n",
    "                done = True\n",
    "\n",
    "        global_steps += steps\n",
    "        episode_rewards.append(cum_reward)\n",
    "    \n",
    "    if show_agent:\n",
    "        env.close()\n",
    "\n",
    "    return episode_rewards\n",
    "\n",
    "\n",
    "def run_dqn(env, num_episodes, memory_size, num_hidden, batch_size, discount_factor, learn_rate, target_update_freq,\n",
    "            max_steps, show_agent):\n",
    "    memory = ReplayMemory(memory_size)\n",
    "    n_out = env.action_space.n\n",
    "\n",
    "    n_in = len(env.observation_space.low)\n",
    "    model = QNetwork(n_in, n_out, num_hidden)\n",
    "    target_net = QNetwork(n_in, n_out, num_hidden)\n",
    "\n",
    "    cum_reward = run_episodes(\n",
    "        train=train, model=model, memory=memory, env=env, num_episodes=num_episodes, batch_size=batch_size,\n",
    "        discount_factor=discount_factor, learn_rate=learn_rate, target_net=target_net,\n",
    "        target_update_freq=target_update_freq, max_steps=max_steps, show_agent=show_agent\n",
    "    )\n",
    "    return cum_reward"
   ]
  },
  {
   "cell_type": "markdown",
   "metadata": {},
   "source": [
    "With the main code ready, we would now like to perform some experiments. Namely, we would like to find out what kind of effect the number of steps to update the target network has on the cumulative rewards. A first way to do this is to run one agent for two different setting (namely 10 and 20) and compare the distributions over rewards obtained during training:"
   ]
  },
  {
   "cell_type": "code",
   "execution_count": 8,
   "metadata": {},
   "outputs": [
    {
     "name": "stdout",
     "output_type": "stream",
     "text": [
      "[244.0, 175.0, 343.0, 244.0, 371.0, 230.0, 251.0, 284.0, 268.0, 267.0, 231.0, 60.0, 173.0, 303.0, 310.0, 224.0, 500.0, 465.0, 249.0, 308.0]\n",
      "[194.0, 250.0, 213.0, 162.0, 203.0, 337.0, 76.0, 170.0, 208.0, 207.0, 290.0, 212.0, 232.0, 217.0, 175.0, 207.0, 179.0, 209.0, 212.0, 189.0]\n"
     ]
    }
   ],
   "source": [
    "rewards_freq_10 = run_dqn(\n",
    "    env, \n",
    "    batch_size=BATCH_SIZE,\n",
    "    num_episodes=NUM_EPISODES, \n",
    "    memory_size=MEMORY_SIZE, \n",
    "    num_hidden=NUM_HIDDEN, \n",
    "    discount_factor=DISCOUNT_FACTOR, \n",
    "    learn_rate=LEARN_RATE, \n",
    "    target_update_freq=10, \n",
    "    max_steps=MAX_STEPS,\n",
    "    show_agent=SHOW_AGENT\n",
    ")\n",
    "\n",
    "rewards_freq_20 = run_dqn(\n",
    "    env, \n",
    "    batch_size=BATCH_SIZE,\n",
    "    num_episodes=NUM_EPISODES, \n",
    "    memory_size=MEMORY_SIZE, \n",
    "    num_hidden=NUM_HIDDEN, \n",
    "    discount_factor=DISCOUNT_FACTOR, \n",
    "    learn_rate=LEARN_RATE, \n",
    "    target_update_freq=10, \n",
    "    max_steps=MAX_STEPS,\n",
    "    show_agent=SHOW_AGENT\n",
    ")\n",
    "\n",
    "# Print the last 20 rewards for both\n",
    "print(rewards_freq_10[-20:])\n",
    "print(rewards_freq_20[-20:])"
   ]
  },
  {
   "cell_type": "markdown",
   "metadata": {},
   "source": [
    "This looks relatively similar, so which approach was more successful? We can try to answer this question using the Almost Stochastic Order test (ASO). Roughly, it works by comparing the overlap of the two empricial cumulative distribution functions of scores and checking for their overlap - if one approach approach is yielding consistently higher rewards compared to the other one, they should not overlap (and the test score should be close to 0)."
   ]
  },
  {
   "cell_type": "code",
   "execution_count": 9,
   "metadata": {},
   "outputs": [
    {
     "name": "stderr",
     "output_type": "stream",
     "text": [
      "Bootstrap iterations: 100%|█████████████████████████████████████████████████████████████████████████████████████████████████████████████████████████▉| 999/1000 [00:21<00:00, 46.02it/s]\n"
     ]
    },
    {
     "data": {
      "text/plain": [
       "0.02028519498045956"
      ]
     },
     "execution_count": 9,
     "metadata": {},
     "output_type": "execute_result"
    }
   ],
   "source": [
    "aso(rewards_freq_10, rewards_freq_20, num_jobs=4, seed=SEED)"
   ]
  },
  {
   "cell_type": "markdown",
   "metadata": {},
   "source": [
    "Since the test scores is quite low, this gives us an indication that waiting 20 steps to update the target network might be beneficial! Nevertheless, this comes with a caveat - we only checked one model run per value, and neural networks are infamous for being sensitive to their random initialization. Therefore, instead of comparing the reward distributions of two single models per run, let us compare the **distribution over average rewards over multiple runs**. We start by doing 5 runs each."
   ]
  },
  {
   "cell_type": "code",
   "execution_count": 10,
   "metadata": {
    "scrolled": true
   },
   "outputs": [
    {
     "name": "stdout",
     "output_type": "stream",
     "text": [
      "Performing run #1...\n",
      "Performing run #2...\n",
      "Performing run #3...\n",
      "Performing run #4...\n",
      "Performing run #5...\n",
      "[152.92, 107.4, 135.69, 138.38, 170.26]\n",
      "[151.41, 129.96, 146.2, 96.06, 159.39]\n"
     ]
    }
   ],
   "source": [
    "reward_dist_freq_10, reward_dist_freq_20 = [], []\n",
    "\n",
    "for i in range(5):\n",
    "    print(f\"Performing run #{i+1}...\")\n",
    "    reward_dist_freq_10.append(\n",
    "        np.mean(run_dqn(\n",
    "            env, \n",
    "            batch_size=BATCH_SIZE,\n",
    "            num_episodes=NUM_EPISODES, \n",
    "            memory_size=MEMORY_SIZE, \n",
    "            num_hidden=NUM_HIDDEN, \n",
    "            discount_factor=DISCOUNT_FACTOR, \n",
    "            learn_rate=LEARN_RATE, \n",
    "            target_update_freq=10, \n",
    "            max_steps=MAX_STEPS,\n",
    "            show_agent=SHOW_AGENT\n",
    "        ))\n",
    "    )\n",
    "    reward_dist_freq_20.append(\n",
    "        np.mean(run_dqn(\n",
    "            env, \n",
    "            batch_size=BATCH_SIZE,\n",
    "            num_episodes=NUM_EPISODES, \n",
    "            memory_size=MEMORY_SIZE, \n",
    "            num_hidden=NUM_HIDDEN, \n",
    "            discount_factor=DISCOUNT_FACTOR, \n",
    "            learn_rate=LEARN_RATE, \n",
    "            target_update_freq=10, \n",
    "            max_steps=MAX_STEPS,\n",
    "            show_agent=SHOW_AGENT\n",
    "        ))\n",
    "    )\n",
    "    \n",
    "print(reward_dist_freq_10)\n",
    "print(reward_dist_freq_20)"
   ]
  },
  {
   "cell_type": "markdown",
   "metadata": {},
   "source": [
    "It can sometimes be a tricky question to decide whether one has collected enough scores to allow for meaningful comparisons, especially when this question has to be balanced against the cost of compute. When the variance in our scores is too high, we might be faced with misleading results, if it is sufficient, we run more models for no apparent reason. For this purpose, deepsig implements two different functions.\n",
    "\n",
    "First, we will take a look at bootstrap power analysis: It increases all scores in the sample by a certain factor, and then use bootstrapped versions of both samples and perform a significance test. Since the modified, new sample received a lift, the result should come out significant in most cases. If not, this is an indication that the original sample contains too much variance. Let's check that for our scores:"
   ]
  },
  {
   "cell_type": "code",
   "execution_count": 11,
   "metadata": {},
   "outputs": [
    {
     "name": "stderr",
     "output_type": "stream",
     "text": [
      "100%|█████████████████████████████████████████████████████████████████████████████████████████████████████████████████████████████████████████████| 5000/5000 [00:02<00:00, 1816.21it/s]\n"
     ]
    },
    {
     "name": "stdout",
     "output_type": "stream",
     "text": [
      "0.6594\n"
     ]
    },
    {
     "name": "stderr",
     "output_type": "stream",
     "text": [
      "100%|█████████████████████████████████████████████████████████████████████████████████████████████████████████████████████████████████████████████| 5000/5000 [00:02<00:00, 1847.71it/s]"
     ]
    },
    {
     "name": "stdout",
     "output_type": "stream",
     "text": [
      "0.5616\n"
     ]
    },
    {
     "name": "stderr",
     "output_type": "stream",
     "text": [
      "\n"
     ]
    }
   ],
   "source": [
    "print(bootstrap_power_analysis(reward_dist_freq_10, seed=SEED))\n",
    "print(bootstrap_power_analysis(reward_dist_freq_20, seed=SEED))"
   ]
  },
  {
   "cell_type": "markdown",
   "metadata": {},
   "source": [
    "These scores have a direct statistical interpretation, since they signify the *statistical power*. The higher the statistical power, the lower the probability of a Type II error or false negative, i.e. not rejecting the null hypothesis when it should be! A common rule of thumb is to thrive for a power of ~0.8, therefore we might want to collect more samples here. For instance, we could decide to collect 10 or 15 samples in total. \n",
    "\n",
    "Another, ASO-specific way to help us make that decision is the following function:\n"
   ]
  },
  {
   "cell_type": "code",
   "execution_count": 12,
   "metadata": {},
   "outputs": [
    {
     "name": "stdout",
     "output_type": "stream",
     "text": [
      "1.4142135623730951\n",
      "1.7320508075688772\n"
     ]
    }
   ],
   "source": [
    "print(aso_uncertainty_reduction(m_old=5, n_old=5, m_new=10, n_new=10))\n",
    "print(aso_uncertainty_reduction(m_old=5, n_old=5, m_new=15, n_new=15))"
   ]
  },
  {
   "cell_type": "markdown",
   "metadata": {},
   "source": [
    "Since ASO only computes the \"true\" test score value in the limit of infinitely large samples, the estimate obtained using bootstrapping has some inherent variance, which can be reduced by adding more scores to the sample. The function above compute by what factor the uncertainty in the test result is being reduced. \n",
    "\n",
    "We can thus read the above as adding five more samples reducing the uncertainty by a factor of 1.41, while adding ten more sample only reduces it by 1.73. To strike a compromise with our computational budget, we thus only add five more samples each."
   ]
  },
  {
   "cell_type": "code",
   "execution_count": 13,
   "metadata": {
    "scrolled": true
   },
   "outputs": [
    {
     "name": "stdout",
     "output_type": "stream",
     "text": [
      "Performing run #6...\n",
      "Performing run #7...\n",
      "Performing run #8...\n",
      "Performing run #9...\n",
      "Performing run #10...\n"
     ]
    }
   ],
   "source": [
    "for i in range(5):\n",
    "    print(f\"Performing run #{i+6}...\")\n",
    "    reward_dist_freq_10.append(\n",
    "        np.mean(run_dqn(\n",
    "            env, \n",
    "            batch_size=BATCH_SIZE,\n",
    "            num_episodes=NUM_EPISODES, \n",
    "            memory_size=MEMORY_SIZE, \n",
    "            num_hidden=NUM_HIDDEN, \n",
    "            discount_factor=DISCOUNT_FACTOR, \n",
    "            learn_rate=LEARN_RATE, \n",
    "            target_update_freq=10, \n",
    "            max_steps=MAX_STEPS,\n",
    "            show_agent=SHOW_AGENT\n",
    "        ))\n",
    "    )\n",
    "    reward_dist_freq_20.append(\n",
    "        np.mean(run_dqn(\n",
    "            env, \n",
    "            batch_size=BATCH_SIZE,\n",
    "            num_episodes=NUM_EPISODES, \n",
    "            memory_size=MEMORY_SIZE, \n",
    "            num_hidden=NUM_HIDDEN, \n",
    "            discount_factor=DISCOUNT_FACTOR, \n",
    "            learn_rate=LEARN_RATE, \n",
    "            target_update_freq=10, \n",
    "            max_steps=MAX_STEPS,\n",
    "            show_agent=SHOW_AGENT\n",
    "        ))\n",
    "    )"
   ]
  },
  {
   "cell_type": "markdown",
   "metadata": {},
   "source": [
    "As a sanity check, we repeat the bootstrap analysis again:"
   ]
  },
  {
   "cell_type": "code",
   "execution_count": 14,
   "metadata": {},
   "outputs": [
    {
     "name": "stderr",
     "output_type": "stream",
     "text": [
      "100%|█████████████████████████████████████████████████████████████████████████████████████████████████████████████████████████████████████████████| 5000/5000 [00:02<00:00, 1798.92it/s]\n"
     ]
    },
    {
     "name": "stdout",
     "output_type": "stream",
     "text": [
      "0.8356\n"
     ]
    },
    {
     "name": "stderr",
     "output_type": "stream",
     "text": [
      "100%|█████████████████████████████████████████████████████████████████████████████████████████████████████████████████████████████████████████████| 5000/5000 [00:02<00:00, 1776.61it/s]"
     ]
    },
    {
     "name": "stdout",
     "output_type": "stream",
     "text": [
      "0.9248\n"
     ]
    },
    {
     "name": "stderr",
     "output_type": "stream",
     "text": [
      "\n"
     ]
    }
   ],
   "source": [
    "print(bootstrap_power_analysis(reward_dist_freq_10, seed=SEED))\n",
    "print(bootstrap_power_analysis(reward_dist_freq_20, seed=SEED))"
   ]
  },
  {
   "cell_type": "markdown",
   "metadata": {},
   "source": [
    "The power has increased! We now come back to the comparison:"
   ]
  },
  {
   "cell_type": "code",
   "execution_count": 15,
   "metadata": {},
   "outputs": [
    {
     "name": "stderr",
     "output_type": "stream",
     "text": [
      "Bootstrap iterations: 100%|█████████████████████████████████████████████████████████████████████████████████████████████████████████████████████████▉| 999/1000 [00:23<00:00, 42.62it/s]\n"
     ]
    },
    {
     "name": "stdout",
     "output_type": "stream",
     "text": [
      "0.02028519498045956\n",
      "0.005\n"
     ]
    }
   ],
   "source": [
    "print(aso(rewards_freq_10, rewards_freq_20, num_jobs=4, seed=SEED))\n",
    "print(bootstrap_test(rewards_freq_10, rewards_freq_20, num_jobs=4, seed=SEED))"
   ]
  },
  {
   "cell_type": "markdown",
   "metadata": {},
   "source": [
    "Now we can be fairly confident in our assessment! The last part of this demo wants to demonstrate how we could facilitate comparisons between multiple models at once, for which the package also implements a specific function. Let us first train a third kind of model for a number of runs. This time, we do not vary the update frequency of the target network, but instead the discount factor. Not that there is no specific reason we test eight runs here other than two demonstrate that ASO does not require equally-sized samples:"
   ]
  },
  {
   "cell_type": "code",
   "execution_count": 16,
   "metadata": {},
   "outputs": [
    {
     "name": "stdout",
     "output_type": "stream",
     "text": [
      "Performing run #1...\n",
      "Performing run #2...\n",
      "Performing run #3...\n",
      "Performing run #4...\n",
      "Performing run #5...\n",
      "Performing run #6...\n",
      "Performing run #7...\n",
      "Performing run #8...\n"
     ]
    }
   ],
   "source": [
    "reward_dist_discount_06 = []\n",
    "\n",
    "for i in range(8):\n",
    "    print(f\"Performing run #{i+1}...\")\n",
    "    reward_dist_discount_06.append(\n",
    "        np.mean(run_dqn(\n",
    "            env, \n",
    "            batch_size=BATCH_SIZE,\n",
    "            num_episodes=NUM_EPISODES, \n",
    "            memory_size=MEMORY_SIZE, \n",
    "            num_hidden=NUM_HIDDEN, \n",
    "            discount_factor=0.6, \n",
    "            learn_rate=LEARN_RATE, \n",
    "            target_update_freq=10, \n",
    "            max_steps=MAX_STEPS,\n",
    "            show_agent=SHOW_AGENT\n",
    "        ))\n",
    "    )"
   ]
  },
  {
   "cell_type": "code",
   "execution_count": 17,
   "metadata": {},
   "outputs": [
    {
     "name": "stderr",
     "output_type": "stream",
     "text": [
      "Model comparisons: 100%|███████████████████████████████████████████████████████████████████████████████████████████████████████████████████████████▌| 2990/3000 [00:50<00:00, 48.45it/s]"
     ]
    },
    {
     "data": {
      "text/plain": [
       "array([[1., 1., 0.],\n",
       "       [0., 1., 0.],\n",
       "       [1., 1., 1.]])"
      ]
     },
     "execution_count": 17,
     "metadata": {},
     "output_type": "execute_result"
    }
   ],
   "source": [
    "multi_aso([reward_dist_freq_10, reward_dist_freq_20, reward_dist_discount_06], num_jobs=4, seed=SEED)"
   ]
  },
  {
   "cell_type": "markdown",
   "metadata": {},
   "source": [
    "We can read this result as the violation ratio of <row> compared  to <column> is value. Note that by suppling a dictionary as an argument and using `return_df=True`, we can output the result in a more readable form:"
   ]
  },
  {
   "cell_type": "code",
   "execution_count": 18,
   "metadata": {},
   "outputs": [
    {
     "name": "stderr",
     "output_type": "stream",
     "text": [
      "\n",
      "Model comparisons:   0%|                                                                                                                                       | 0/3000 [00:00<?, ?it/s]\u001b[A\n",
      "Model comparisons:   0%|▎                                                                                                                              | 8/3000 [00:00<00:55, 53.72it/s]\u001b[A\n",
      "Model comparisons:   1%|█                                                                                                                             | 24/3000 [00:00<00:49, 59.80it/s]\u001b[A\n",
      "Model comparisons:   1%|█▎                                                                                                                            | 32/3000 [00:00<00:55, 53.49it/s]\u001b[A\n",
      "Model comparisons:   1%|█▋                                                                                                                            | 40/3000 [00:00<00:57, 51.10it/s]\u001b[A\n",
      "Model comparisons:   2%|██                                                                                                                            | 48/3000 [00:00<00:59, 49.62it/s]\u001b[A\n",
      "Model comparisons:   2%|██▎                                                                                                                           | 56/3000 [00:01<00:59, 49.27it/s]\u001b[A\n",
      "Model comparisons:   2%|██▋                                                                                                                           | 64/3000 [00:01<01:01, 47.85it/s]\u001b[A\n",
      "Model comparisons:   2%|███                                                                                                                           | 72/3000 [00:01<01:01, 47.66it/s]\u001b[A\n",
      "Model comparisons:   3%|███▎                                                                                                                          | 80/3000 [00:01<01:01, 47.20it/s]\u001b[A\n",
      "Model comparisons:   3%|███▋                                                                                                                          | 88/3000 [00:01<01:02, 46.41it/s]\u001b[A\n",
      "Model comparisons:   3%|████                                                                                                                          | 96/3000 [00:02<01:08, 42.67it/s]\u001b[A\n",
      "Model comparisons:   3%|████▎                                                                                                                        | 104/3000 [00:02<01:11, 40.77it/s]\u001b[A\n",
      "Model comparisons:   4%|████▋                                                                                                                        | 112/3000 [00:02<01:10, 41.15it/s]\u001b[A\n",
      "Model comparisons:   4%|█████                                                                                                                        | 120/3000 [00:02<01:11, 40.29it/s]\u001b[A\n",
      "Model comparisons:   4%|█████▎                                                                                                                       | 128/3000 [00:02<01:09, 41.48it/s]\u001b[A\n",
      "Model comparisons:   5%|█████▋                                                                                                                       | 136/3000 [00:02<01:06, 43.28it/s]\u001b[A\n",
      "Model comparisons:   5%|██████                                                                                                                       | 144/3000 [00:03<01:03, 44.95it/s]\u001b[A\n",
      "Model comparisons:   5%|██████▎                                                                                                                      | 152/3000 [00:03<01:03, 45.00it/s]\u001b[A\n",
      "Model comparisons:   5%|██████▋                                                                                                                      | 160/3000 [00:03<01:03, 45.08it/s]\u001b[A\n",
      "Model comparisons:   6%|███████                                                                                                                      | 168/3000 [00:03<01:01, 45.74it/s]\u001b[A\n",
      "Model comparisons:   6%|███████▎                                                                                                                     | 176/3000 [00:03<01:00, 46.35it/s]\u001b[A\n",
      "Model comparisons:   6%|███████▋                                                                                                                     | 184/3000 [00:04<01:00, 46.26it/s]\u001b[A\n",
      "Model comparisons:   6%|████████                                                                                                                     | 192/3000 [00:04<01:00, 46.35it/s]\u001b[A\n",
      "Model comparisons:   7%|████████▎                                                                                                                    | 200/3000 [00:04<01:00, 46.61it/s]\u001b[A\n",
      "Model comparisons:   7%|████████▋                                                                                                                    | 208/3000 [00:04<00:59, 46.99it/s]\u001b[A\n",
      "Model comparisons:   7%|█████████                                                                                                                    | 216/3000 [00:04<00:59, 46.44it/s]\u001b[A\n",
      "Model comparisons:   7%|█████████▎                                                                                                                   | 224/3000 [00:04<01:01, 45.29it/s]\u001b[A\n",
      "Model comparisons:   8%|█████████▋                                                                                                                   | 232/3000 [00:05<01:04, 42.80it/s]\u001b[A\n",
      "Model comparisons:   8%|██████████                                                                                                                   | 240/3000 [00:05<01:02, 43.81it/s]\u001b[A\n",
      "Model comparisons:   8%|██████████▎                                                                                                                  | 248/3000 [00:05<01:01, 45.00it/s]\u001b[A\n",
      "Model comparisons:   9%|██████████▋                                                                                                                  | 256/3000 [00:05<00:59, 45.90it/s]\u001b[A\n",
      "Model comparisons:   9%|███████████                                                                                                                  | 264/3000 [00:05<00:59, 45.82it/s]\u001b[A\n",
      "Model comparisons:   9%|███████████▎                                                                                                                 | 272/3000 [00:05<00:59, 45.97it/s]\u001b[A\n",
      "Model comparisons:   9%|███████████▋                                                                                                                 | 280/3000 [00:06<00:58, 46.49it/s]\u001b[A\n",
      "Model comparisons:  10%|████████████                                                                                                                 | 288/3000 [00:06<01:01, 44.06it/s]\u001b[A\n",
      "Model comparisons:  10%|████████████▎                                                                                                                | 296/3000 [00:06<01:02, 43.10it/s]\u001b[A\n",
      "Model comparisons:  10%|████████████▋                                                                                                                | 304/3000 [00:06<01:01, 43.59it/s]\u001b[A\n",
      "Model comparisons:  10%|█████████████                                                                                                                | 312/3000 [00:06<01:02, 42.91it/s]\u001b[A\n",
      "Model comparisons:  11%|█████████████▎                                                                                                               | 320/3000 [00:07<01:02, 42.65it/s]\u001b[A\n",
      "Model comparisons:  11%|█████████████▋                                                                                                               | 328/3000 [00:07<01:02, 42.58it/s]\u001b[A\n",
      "Model comparisons:  11%|██████████████                                                                                                               | 336/3000 [00:07<01:03, 42.18it/s]\u001b[A\n",
      "Model comparisons:  11%|██████████████▎                                                                                                              | 344/3000 [00:07<01:03, 42.10it/s]\u001b[A\n"
     ]
    },
    {
     "name": "stderr",
     "output_type": "stream",
     "text": [
      "Model comparisons:  12%|██████████████▋                                                                                                              | 352/3000 [00:07<01:02, 42.70it/s]\u001b[A\n",
      "Model comparisons:  12%|███████████████                                                                                                              | 360/3000 [00:08<01:02, 42.48it/s]\u001b[A\n",
      "Model comparisons:  12%|███████████████▎                                                                                                             | 368/3000 [00:08<01:02, 41.88it/s]\u001b[A\n",
      "Model comparisons:  13%|███████████████▋                                                                                                             | 376/3000 [00:08<01:06, 39.34it/s]\u001b[A\n",
      "Model comparisons:  13%|████████████████                                                                                                             | 384/3000 [00:08<01:16, 34.37it/s]\u001b[A\n",
      "Model comparisons:  13%|████████████████▎                                                                                                            | 392/3000 [00:08<01:13, 35.26it/s]\u001b[A\n",
      "Model comparisons:  13%|████████████████▋                                                                                                            | 400/3000 [00:09<01:09, 37.30it/s]\u001b[A\n",
      "Model comparisons:  14%|█████████████████                                                                                                            | 408/3000 [00:09<01:05, 39.32it/s]\u001b[A\n",
      "Model comparisons:  14%|█████████████████▎                                                                                                           | 416/3000 [00:09<01:03, 40.59it/s]\u001b[A\n",
      "Model comparisons:  14%|█████████████████▋                                                                                                           | 424/3000 [00:09<01:02, 41.45it/s]\u001b[A\n",
      "Model comparisons:  14%|██████████████████                                                                                                           | 432/3000 [00:09<00:59, 43.43it/s]\u001b[A\n",
      "Model comparisons:  15%|██████████████████▎                                                                                                          | 440/3000 [00:10<00:58, 44.06it/s]\u001b[A\n",
      "Model comparisons:  15%|██████████████████▋                                                                                                          | 448/3000 [00:10<01:00, 42.15it/s]\u001b[A\n",
      "Model comparisons:  15%|███████████████████                                                                                                          | 456/3000 [00:10<01:00, 42.12it/s]\u001b[A\n",
      "Model comparisons:  15%|███████████████████▎                                                                                                         | 464/3000 [00:10<00:58, 43.18it/s]\u001b[A\n",
      "Model comparisons:  16%|███████████████████▋                                                                                                         | 472/3000 [00:10<00:59, 42.45it/s]\u001b[A\n",
      "Model comparisons:  16%|████████████████████                                                                                                         | 480/3000 [00:10<01:00, 41.74it/s]\u001b[A\n",
      "Model comparisons:  16%|████████████████████▎                                                                                                        | 488/3000 [00:11<00:59, 42.17it/s]\u001b[A\n",
      "Model comparisons:  17%|████████████████████▋                                                                                                        | 496/3000 [00:11<00:57, 43.82it/s]\u001b[A\n",
      "Model comparisons:  17%|█████████████████████                                                                                                        | 504/3000 [00:11<01:01, 40.69it/s]\u001b[A\n",
      "Model comparisons:  17%|█████████████████████▎                                                                                                       | 512/3000 [00:11<01:07, 36.85it/s]\u001b[A\n",
      "Model comparisons:  17%|█████████████████████▋                                                                                                       | 520/3000 [00:12<01:08, 35.95it/s]\u001b[A\n",
      "Model comparisons:  18%|██████████████████████                                                                                                       | 528/3000 [00:12<01:09, 35.33it/s]\u001b[A\n",
      "Model comparisons:  18%|██████████████████████▎                                                                                                      | 536/3000 [00:12<01:10, 35.17it/s]\u001b[A\n",
      "Model comparisons:  18%|██████████████████████▋                                                                                                      | 544/3000 [00:12<01:05, 37.46it/s]\u001b[A\n",
      "Model comparisons:  18%|███████████████████████                                                                                                      | 552/3000 [00:12<01:04, 38.03it/s]\u001b[A\n",
      "Model comparisons:  19%|███████████████████████▎                                                                                                     | 560/3000 [00:13<01:01, 39.88it/s]\u001b[A\n",
      "Model comparisons:  19%|███████████████████████▋                                                                                                     | 568/3000 [00:13<00:57, 42.04it/s]\u001b[A\n",
      "Model comparisons:  19%|████████████████████████                                                                                                     | 576/3000 [00:13<00:57, 41.94it/s]\u001b[A\n",
      "Model comparisons:  19%|████████████████████████▎                                                                                                    | 584/3000 [00:13<00:59, 40.66it/s]\u001b[A\n",
      "Model comparisons:  20%|████████████████████████▋                                                                                                    | 592/3000 [00:13<00:57, 42.15it/s]\u001b[A\n",
      "Model comparisons:  20%|█████████████████████████                                                                                                    | 600/3000 [00:14<00:55, 42.89it/s]\u001b[A\n",
      "Model comparisons:  20%|█████████████████████████▎                                                                                                   | 608/3000 [00:14<00:54, 43.64it/s]\u001b[A\n",
      "Model comparisons:  21%|█████████████████████████▋                                                                                                   | 616/3000 [00:14<00:56, 42.28it/s]\u001b[A\n",
      "Model comparisons:  21%|██████████████████████████                                                                                                   | 624/3000 [00:14<00:56, 41.69it/s]\u001b[A\n",
      "Model comparisons:  21%|██████████████████████████▎                                                                                                  | 632/3000 [00:14<00:57, 41.06it/s]\u001b[A\n",
      "Model comparisons:  21%|██████████████████████████▋                                                                                                  | 640/3000 [00:15<01:02, 37.57it/s]\u001b[A\n",
      "Model comparisons:  22%|███████████████████████████                                                                                                  | 648/3000 [00:15<01:03, 37.13it/s]\u001b[A\n",
      "Model comparisons:  22%|███████████████████████████▎                                                                                                 | 656/3000 [00:15<01:03, 36.72it/s]\u001b[A\n",
      "Model comparisons:  22%|███████████████████████████▋                                                                                                 | 664/3000 [00:15<01:06, 35.04it/s]\u001b[A\n",
      "Model comparisons:  22%|████████████████████████████                                                                                                 | 672/3000 [00:15<01:02, 37.13it/s]\u001b[A\n",
      "Model comparisons:  23%|████████████████████████████▎                                                                                                | 680/3000 [00:16<00:59, 39.12it/s]\u001b[A\n",
      "Model comparisons:  23%|████████████████████████████▋                                                                                                | 688/3000 [00:16<00:58, 39.27it/s]\u001b[A\n"
     ]
    },
    {
     "name": "stderr",
     "output_type": "stream",
     "text": [
      "Model comparisons:  23%|█████████████████████████████                                                                                                | 696/3000 [00:16<00:57, 39.76it/s]\u001b[A\n",
      "Model comparisons:  23%|█████████████████████████████▎                                                                                               | 704/3000 [00:16<00:57, 40.17it/s]\u001b[A\n",
      "Model comparisons:  24%|█████████████████████████████▋                                                                                               | 712/3000 [00:16<00:55, 41.12it/s]\u001b[A\n",
      "Model comparisons:  24%|██████████████████████████████                                                                                               | 720/3000 [00:17<00:53, 42.63it/s]\u001b[A\n",
      "Model comparisons:  24%|██████████████████████████████▎                                                                                              | 728/3000 [00:17<00:52, 43.28it/s]\u001b[A\n",
      "Model comparisons:  25%|██████████████████████████████▋                                                                                              | 736/3000 [00:17<00:53, 42.40it/s]\u001b[A\n",
      "Model comparisons:  25%|███████████████████████████████                                                                                              | 744/3000 [00:17<01:00, 37.26it/s]\u001b[A\n",
      "Model comparisons:  25%|███████████████████████████████▎                                                                                             | 752/3000 [00:17<01:01, 36.34it/s]\u001b[A\n",
      "Model comparisons: 100%|███████████████████████████████████████████████████████████████████████████████████████████████████████████████████████████▉| 2997/3000 [01:08<00:00, 48.45it/s]\u001b[A\n",
      "Model comparisons:  26%|████████████████████████████████                                                                                             | 768/3000 [00:18<00:59, 37.71it/s]\u001b[A\n",
      "Model comparisons:  26%|████████████████████████████████▎                                                                                            | 776/3000 [00:18<01:00, 36.75it/s]\u001b[A\n",
      "Model comparisons:  26%|████████████████████████████████▋                                                                                            | 784/3000 [00:18<01:02, 35.63it/s]\u001b[A\n",
      "Model comparisons:  26%|█████████████████████████████████                                                                                            | 792/3000 [00:19<01:05, 33.93it/s]\u001b[A\n",
      "Model comparisons:  27%|█████████████████████████████████▎                                                                                           | 800/3000 [00:19<01:00, 36.14it/s]\u001b[A\n",
      "Model comparisons:  27%|█████████████████████████████████▋                                                                                           | 808/3000 [00:19<00:58, 37.17it/s]\u001b[A\n",
      "Model comparisons:  27%|██████████████████████████████████                                                                                           | 816/3000 [00:19<00:57, 38.03it/s]\u001b[A\n",
      "Model comparisons:  27%|██████████████████████████████████▎                                                                                          | 824/3000 [00:19<00:54, 40.26it/s]\u001b[A\n",
      "Model comparisons:  28%|██████████████████████████████████▋                                                                                          | 832/3000 [00:20<00:51, 41.93it/s]\u001b[A\n",
      "Model comparisons:  28%|███████████████████████████████████                                                                                          | 840/3000 [00:20<00:50, 43.18it/s]\u001b[A\n",
      "Model comparisons:  28%|███████████████████████████████████▎                                                                                         | 848/3000 [00:20<00:50, 42.35it/s]\u001b[A\n",
      "Model comparisons:  29%|███████████████████████████████████▋                                                                                         | 856/3000 [00:20<00:52, 40.99it/s]\u001b[A\n",
      "Model comparisons:  29%|████████████████████████████████████                                                                                         | 864/3000 [00:20<00:53, 39.81it/s]\u001b[A\n",
      "Model comparisons:  29%|████████████████████████████████████▎                                                                                        | 872/3000 [00:21<00:55, 38.10it/s]\u001b[A\n",
      "Model comparisons:  29%|████████████████████████████████████▋                                                                                        | 880/3000 [00:21<00:57, 37.13it/s]\u001b[A\n",
      "Model comparisons:  30%|█████████████████████████████████████                                                                                        | 888/3000 [00:21<00:54, 38.57it/s]\u001b[A\n",
      "Model comparisons:  30%|█████████████████████████████████████▎                                                                                       | 896/3000 [00:21<00:54, 38.75it/s]\u001b[A\n",
      "Model comparisons:  30%|█████████████████████████████████████▋                                                                                       | 904/3000 [00:21<00:56, 36.99it/s]\u001b[A\n",
      "Model comparisons:  30%|██████████████████████████████████████                                                                                       | 912/3000 [00:22<00:58, 35.66it/s]\u001b[A\n",
      "Model comparisons:  31%|██████████████████████████████████████▎                                                                                      | 920/3000 [00:22<00:58, 35.61it/s]\u001b[A\n",
      "Model comparisons:  31%|██████████████████████████████████████▋                                                                                      | 928/3000 [00:22<00:58, 35.17it/s]\u001b[A\n",
      "Model comparisons:  31%|███████████████████████████████████████                                                                                      | 936/3000 [00:22<01:01, 33.73it/s]\u001b[A\n",
      "Model comparisons:  31%|███████████████████████████████████████▎                                                                                     | 944/3000 [00:23<01:00, 34.09it/s]\u001b[A\n",
      "Model comparisons:  32%|███████████████████████████████████████▋                                                                                     | 952/3000 [00:23<00:57, 35.62it/s]\u001b[A\n",
      "Model comparisons:  32%|████████████████████████████████████████                                                                                     | 960/3000 [00:23<00:53, 37.82it/s]\u001b[A\n",
      "Model comparisons:  32%|████████████████████████████████████████▎                                                                                    | 968/3000 [00:23<00:51, 39.12it/s]\u001b[A\n",
      "Model comparisons:  33%|████████████████████████████████████████▋                                                                                    | 976/3000 [00:23<00:49, 40.62it/s]\u001b[A\n",
      "Model comparisons:  33%|█████████████████████████████████████████                                                                                    | 984/3000 [00:24<00:47, 42.10it/s]\u001b[A\n",
      "Model comparisons:  33%|█████████████████████████████████████████▎                                                                                   | 992/3000 [00:24<00:46, 43.36it/s]\u001b[A\n",
      "Model comparisons:  33%|█████████████████████████████████████████▎                                                                                  | 1000/3000 [00:24<01:10, 28.52it/s]\u001b[A\n",
      "Model comparisons:  34%|█████████████████████████████████████████▉                                                                                  | 1015/3000 [00:24<00:49, 40.27it/s]\u001b[A\n",
      "Model comparisons:  34%|██████████████████████████████████████████▎                                                                                 | 1023/3000 [00:25<00:48, 40.67it/s]\u001b[A\n",
      "Model comparisons:  34%|██████████████████████████████████████████▌                                                                                 | 1031/3000 [00:25<00:46, 42.24it/s]\u001b[A\n",
      "Model comparisons:  35%|██████████████████████████████████████████▉                                                                                 | 1039/3000 [00:25<00:44, 44.38it/s]\u001b[A\n"
     ]
    },
    {
     "name": "stderr",
     "output_type": "stream",
     "text": [
      "Model comparisons:  35%|███████████████████████████████████████████▎                                                                                | 1047/3000 [00:25<00:42, 45.64it/s]\u001b[A\n",
      "Model comparisons:  35%|███████████████████████████████████████████▌                                                                                | 1055/3000 [00:25<00:42, 45.88it/s]\u001b[A\n",
      "Model comparisons:  35%|███████████████████████████████████████████▉                                                                                | 1063/3000 [00:25<00:42, 45.36it/s]\u001b[A\n",
      "Model comparisons:  36%|████████████████████████████████████████████▎                                                                               | 1071/3000 [00:26<00:42, 45.92it/s]\u001b[A\n",
      "Model comparisons:  36%|████████████████████████████████████████████▌                                                                               | 1079/3000 [00:26<00:40, 47.63it/s]\u001b[A\n",
      "Model comparisons:  36%|████████████████████████████████████████████▉                                                                               | 1087/3000 [00:26<00:40, 46.86it/s]\u001b[A\n",
      "Model comparisons:  36%|█████████████████████████████████████████████▎                                                                              | 1095/3000 [00:26<00:45, 41.66it/s]\u001b[A\n",
      "Model comparisons:  37%|█████████████████████████████████████████████▌                                                                              | 1103/3000 [00:26<00:44, 42.92it/s]\u001b[A\n",
      "Model comparisons:  37%|█████████████████████████████████████████████▉                                                                              | 1111/3000 [00:27<00:46, 41.05it/s]\u001b[A\n",
      "Model comparisons:  37%|██████████████████████████████████████████████▎                                                                             | 1119/3000 [00:27<00:47, 39.98it/s]\u001b[A\n",
      "Model comparisons:  38%|██████████████████████████████████████████████▌                                                                             | 1127/3000 [00:27<00:45, 40.91it/s]\u001b[A\n",
      "Model comparisons:  38%|██████████████████████████████████████████████▉                                                                             | 1135/3000 [00:27<00:43, 42.53it/s]\u001b[A\n",
      "Model comparisons:  38%|███████████████████████████████████████████████▏                                                                            | 1143/3000 [00:27<00:43, 42.74it/s]\u001b[A\n",
      "Model comparisons:  38%|███████████████████████████████████████████████▌                                                                            | 1151/3000 [00:27<00:42, 43.60it/s]\u001b[A\n",
      "Model comparisons:  39%|███████████████████████████████████████████████▉                                                                            | 1159/3000 [00:28<00:40, 45.53it/s]\u001b[A\n",
      "Model comparisons:  39%|████████████████████████████████████████████████▏                                                                           | 1167/3000 [00:28<00:39, 46.34it/s]\u001b[A\n",
      "Model comparisons:  39%|████████████████████████████████████████████████▌                                                                           | 1175/3000 [00:28<00:38, 47.87it/s]\u001b[A\n",
      "Model comparisons:  39%|████████████████████████████████████████████████▉                                                                           | 1183/3000 [00:28<00:37, 48.68it/s]\u001b[A\n",
      "Model comparisons:  40%|█████████████████████████████████████████████████▏                                                                          | 1191/3000 [00:28<00:37, 48.89it/s]\u001b[A\n",
      "Model comparisons:  40%|█████████████████████████████████████████████████▌                                                                          | 1199/3000 [00:28<00:36, 49.24it/s]\u001b[A\n",
      "Model comparisons:  40%|█████████████████████████████████████████████████▉                                                                          | 1207/3000 [00:29<00:40, 44.07it/s]\u001b[A\n",
      "Model comparisons:  40%|██████████████████████████████████████████████████▏                                                                         | 1215/3000 [00:29<00:41, 43.10it/s]\u001b[A\n",
      "Model comparisons:  41%|██████████████████████████████████████████████████▌                                                                         | 1223/3000 [00:29<00:40, 43.70it/s]\u001b[A\n",
      "Model comparisons:  41%|██████████████████████████████████████████████████▉                                                                         | 1231/3000 [00:29<00:38, 46.21it/s]\u001b[A\n",
      "Model comparisons:  41%|███████████████████████████████████████████████████▏                                                                        | 1239/3000 [00:29<00:37, 47.47it/s]\u001b[A\n",
      "Model comparisons:  42%|███████████████████████████████████████████████████▌                                                                        | 1247/3000 [00:30<00:38, 45.80it/s]\u001b[A\n",
      "Model comparisons:  42%|███████████████████████████████████████████████████▊                                                                        | 1255/3000 [00:30<00:38, 45.05it/s]\u001b[A\n",
      "Model comparisons:  42%|████████████████████████████████████████████████████▏                                                                       | 1263/3000 [00:30<00:38, 45.60it/s]\u001b[A\n",
      "Model comparisons:  42%|████████████████████████████████████████████████████▌                                                                       | 1271/3000 [00:30<00:36, 47.49it/s]\u001b[A\n",
      "Model comparisons:  43%|████████████████████████████████████████████████████▊                                                                       | 1279/3000 [00:30<00:35, 48.03it/s]\u001b[A\n",
      "Model comparisons:  43%|█████████████████████████████████████████████████████▏                                                                      | 1287/3000 [00:30<00:36, 47.17it/s]\u001b[A\n",
      "Model comparisons:  43%|█████████████████████████████████████████████████████▌                                                                      | 1295/3000 [00:31<00:35, 47.76it/s]\u001b[A\n",
      "Model comparisons:  43%|█████████████████████████████████████████████████████▊                                                                      | 1303/3000 [00:31<00:35, 48.14it/s]\u001b[A\n",
      "Model comparisons:  44%|██████████████████████████████████████████████████████▏                                                                     | 1311/3000 [00:31<00:35, 47.67it/s]\u001b[A\n",
      "Model comparisons:  44%|██████████████████████████████████████████████████████▌                                                                     | 1319/3000 [00:31<00:35, 47.28it/s]\u001b[A\n",
      "Model comparisons:  44%|██████████████████████████████████████████████████████▊                                                                     | 1327/3000 [00:31<00:35, 47.08it/s]\u001b[A\n",
      "Model comparisons:  44%|███████████████████████████████████████████████████████▏                                                                    | 1335/3000 [00:31<00:35, 47.15it/s]\u001b[A\n",
      "Model comparisons:  45%|███████████████████████████████████████████████████████▌                                                                    | 1343/3000 [00:32<00:34, 48.72it/s]\u001b[A\n",
      "Model comparisons:  45%|███████████████████████████████████████████████████████▊                                                                    | 1351/3000 [00:32<00:33, 49.59it/s]\u001b[A\n",
      "Model comparisons:  45%|████████████████████████████████████████████████████████▏                                                                   | 1359/3000 [00:32<00:33, 49.64it/s]\u001b[A\n",
      "Model comparisons:  46%|████████████████████████████████████████████████████████▌                                                                   | 1367/3000 [00:32<00:32, 50.29it/s]\u001b[A\n",
      "Model comparisons:  46%|████████████████████████████████████████████████████████▊                                                                   | 1375/3000 [00:32<00:32, 49.32it/s]\u001b[A\n",
      "Model comparisons:  46%|█████████████████████████████████████████████████████████▏                                                                  | 1383/3000 [00:32<00:34, 46.25it/s]\u001b[A\n"
     ]
    },
    {
     "name": "stderr",
     "output_type": "stream",
     "text": [
      "Model comparisons:  46%|█████████████████████████████████████████████████████████▍                                                                  | 1391/3000 [00:33<00:36, 44.23it/s]\u001b[A\n",
      "Model comparisons:  47%|█████████████████████████████████████████████████████████▊                                                                  | 1399/3000 [00:33<00:35, 45.70it/s]\u001b[A\n",
      "Model comparisons:  47%|██████████████████████████████████████████████████████████▏                                                                 | 1407/3000 [00:33<00:33, 46.90it/s]\u001b[A\n",
      "Model comparisons:  47%|██████████████████████████████████████████████████████████▍                                                                 | 1415/3000 [00:33<00:34, 46.40it/s]\u001b[A\n",
      "Model comparisons:  47%|██████████████████████████████████████████████████████████▊                                                                 | 1423/3000 [00:33<00:37, 41.61it/s]\u001b[A\n",
      "Model comparisons:  48%|███████████████████████████████████████████████████████████▏                                                                | 1431/3000 [00:34<00:38, 40.52it/s]\u001b[A\n",
      "Model comparisons:  48%|███████████████████████████████████████████████████████████▍                                                                | 1439/3000 [00:34<00:36, 43.00it/s]\u001b[A\n",
      "Model comparisons:  48%|███████████████████████████████████████████████████████████▊                                                                | 1447/3000 [00:34<00:35, 44.14it/s]\u001b[A\n",
      "Model comparisons:  48%|████████████████████████████████████████████████████████████▏                                                               | 1455/3000 [00:34<00:35, 43.51it/s]\u001b[A\n",
      "Model comparisons:  49%|████████████████████████████████████████████████████████████▍                                                               | 1463/3000 [00:34<00:34, 44.28it/s]\u001b[A\n",
      "Model comparisons:  49%|████████████████████████████████████████████████████████████▊                                                               | 1471/3000 [00:34<00:34, 44.94it/s]\u001b[A\n",
      "Model comparisons:  49%|█████████████████████████████████████████████████████████████▏                                                              | 1479/3000 [00:35<00:32, 46.64it/s]\u001b[A\n",
      "Model comparisons:  50%|█████████████████████████████████████████████████████████████▍                                                              | 1487/3000 [00:35<00:32, 47.17it/s]\u001b[A\n",
      "Model comparisons:  50%|█████████████████████████████████████████████████████████████▊                                                              | 1495/3000 [00:35<00:30, 48.86it/s]\u001b[A\n",
      "Model comparisons:  50%|██████████████████████████████████████████████████████████████                                                              | 1503/3000 [00:35<00:30, 48.78it/s]\u001b[A\n",
      "Model comparisons:  50%|██████████████████████████████████████████████████████████████▍                                                             | 1511/3000 [00:35<00:30, 49.09it/s]\u001b[A\n",
      "Model comparisons:  51%|██████████████████████████████████████████████████████████████▊                                                             | 1519/3000 [00:35<00:31, 47.51it/s]\u001b[A\n",
      "Model comparisons:  51%|███████████████████████████████████████████████████████████████                                                             | 1527/3000 [00:36<00:32, 45.50it/s]\u001b[A\n",
      "Model comparisons:  51%|███████████████████████████████████████████████████████████████▍                                                            | 1535/3000 [00:36<00:31, 46.88it/s]\u001b[A\n",
      "Model comparisons:  51%|███████████████████████████████████████████████████████████████▊                                                            | 1543/3000 [00:36<00:29, 48.58it/s]\u001b[A\n",
      "Model comparisons:  52%|████████████████████████████████████████████████████████████████                                                            | 1551/3000 [00:36<00:29, 49.66it/s]\u001b[A\n",
      "Model comparisons:  52%|████████████████████████████████████████████████████████████████▍                                                           | 1559/3000 [00:36<00:28, 49.78it/s]\u001b[A\n",
      "Model comparisons:  52%|████████████████████████████████████████████████████████████████▊                                                           | 1567/3000 [00:36<00:28, 50.40it/s]\u001b[A\n",
      "Model comparisons:  52%|█████████████████████████████████████████████████████████████████                                                           | 1575/3000 [00:37<00:30, 46.03it/s]\u001b[A\n",
      "Model comparisons:  53%|█████████████████████████████████████████████████████████████████▍                                                          | 1583/3000 [00:37<00:31, 45.47it/s]\u001b[A\n",
      "Model comparisons:  53%|█████████████████████████████████████████████████████████████████▊                                                          | 1591/3000 [00:37<00:30, 45.65it/s]\u001b[A\n",
      "Model comparisons:  53%|██████████████████████████████████████████████████████████████████                                                          | 1599/3000 [00:37<00:30, 46.09it/s]\u001b[A\n",
      "Model comparisons:  54%|██████████████████████████████████████████████████████████████████▍                                                         | 1607/3000 [00:37<00:30, 45.86it/s]\u001b[A\n",
      "Model comparisons:  54%|██████████████████████████████████████████████████████████████████▊                                                         | 1615/3000 [00:37<00:29, 46.40it/s]\u001b[A\n",
      "Model comparisons:  54%|███████████████████████████████████████████████████████████████████                                                         | 1623/3000 [00:38<00:29, 47.34it/s]\u001b[A\n",
      "Model comparisons:  54%|███████████████████████████████████████████████████████████████████▍                                                        | 1631/3000 [00:38<00:27, 49.04it/s]\u001b[A\n",
      "Model comparisons:  55%|███████████████████████████████████████████████████████████████████▋                                                        | 1639/3000 [00:38<00:28, 48.20it/s]\u001b[A\n",
      "Model comparisons:  55%|████████████████████████████████████████████████████████████████████                                                        | 1647/3000 [00:38<00:27, 49.29it/s]\u001b[A\n",
      "Model comparisons:  55%|████████████████████████████████████████████████████████████████████▍                                                       | 1655/3000 [00:38<00:26, 50.45it/s]\u001b[A\n",
      "Model comparisons:  55%|████████████████████████████████████████████████████████████████████▋                                                       | 1663/3000 [00:38<00:27, 48.65it/s]\u001b[A\n",
      "Model comparisons:  56%|█████████████████████████████████████████████████████████████████████                                                       | 1671/3000 [00:39<00:27, 48.18it/s]\u001b[A\n",
      "Model comparisons:  56%|█████████████████████████████████████████████████████████████████████▍                                                      | 1679/3000 [00:39<00:27, 47.80it/s]\u001b[A\n",
      "Model comparisons:  56%|█████████████████████████████████████████████████████████████████████▋                                                      | 1687/3000 [00:39<00:29, 45.24it/s]\u001b[A\n",
      "Model comparisons:  56%|██████████████████████████████████████████████████████████████████████                                                      | 1695/3000 [00:39<00:29, 44.04it/s]\u001b[A\n",
      "Model comparisons:  57%|██████████████████████████████████████████████████████████████████████▍                                                     | 1703/3000 [00:39<00:28, 45.08it/s]\u001b[A\n",
      "Model comparisons:  57%|██████████████████████████████████████████████████████████████████████▋                                                     | 1711/3000 [00:39<00:29, 44.41it/s]\u001b[A\n",
      "Model comparisons:  57%|███████████████████████████████████████████████████████████████████████                                                     | 1719/3000 [00:40<00:28, 45.63it/s]\u001b[A\n",
      "Model comparisons:  58%|███████████████████████████████████████████████████████████████████████▍                                                    | 1727/3000 [00:40<00:26, 47.35it/s]\u001b[A\n"
     ]
    },
    {
     "name": "stderr",
     "output_type": "stream",
     "text": [
      "Model comparisons:  58%|███████████████████████████████████████████████████████████████████████▋                                                    | 1735/3000 [00:40<00:27, 46.70it/s]\u001b[A\n",
      "Model comparisons:  58%|████████████████████████████████████████████████████████████████████████                                                    | 1743/3000 [00:40<00:28, 44.79it/s]\u001b[A\n",
      "Model comparisons:  58%|████████████████████████████████████████████████████████████████████████▎                                                   | 1751/3000 [00:40<00:29, 42.81it/s]\u001b[A\n",
      "Model comparisons:  59%|████████████████████████████████████████████████████████████████████████▋                                                   | 1759/3000 [00:41<00:29, 42.02it/s]\u001b[A\n",
      "Model comparisons:  59%|█████████████████████████████████████████████████████████████████████████                                                   | 1767/3000 [00:41<00:28, 43.76it/s]\u001b[A\n",
      "Model comparisons:  59%|█████████████████████████████████████████████████████████████████████████▎                                                  | 1775/3000 [00:41<00:26, 45.38it/s]\u001b[A\n",
      "Model comparisons:  59%|█████████████████████████████████████████████████████████████████████████▋                                                  | 1783/3000 [00:41<00:25, 47.01it/s]\u001b[A\n",
      "Model comparisons:  60%|██████████████████████████████████████████████████████████████████████████                                                  | 1791/3000 [00:41<00:25, 47.98it/s]\u001b[A\n",
      "Model comparisons:  60%|██████████████████████████████████████████████████████████████████████████▎                                                 | 1799/3000 [00:41<00:23, 50.08it/s]\u001b[A\n",
      "Model comparisons:  60%|██████████████████████████████████████████████████████████████████████████▋                                                 | 1807/3000 [00:41<00:23, 51.27it/s]\u001b[A\n",
      "Model comparisons:  60%|███████████████████████████████████████████████████████████████████████████                                                 | 1815/3000 [00:42<00:23, 50.17it/s]\u001b[A\n",
      "Model comparisons:  61%|███████████████████████████████████████████████████████████████████████████▎                                                | 1823/3000 [00:42<00:23, 50.73it/s]\u001b[A\n",
      "Model comparisons:  61%|███████████████████████████████████████████████████████████████████████████▋                                                | 1831/3000 [00:42<00:23, 50.66it/s]\u001b[A\n",
      "Model comparisons:  61%|████████████████████████████████████████████████████████████████████████████                                                | 1839/3000 [00:42<00:24, 47.75it/s]\u001b[A\n",
      "Model comparisons:  62%|████████████████████████████████████████████████████████████████████████████▎                                               | 1847/3000 [00:42<00:26, 43.44it/s]\u001b[A\n",
      "Model comparisons:  62%|████████████████████████████████████████████████████████████████████████████▋                                               | 1855/3000 [00:43<00:25, 44.92it/s]\u001b[A\n",
      "Model comparisons:  62%|█████████████████████████████████████████████████████████████████████████████                                               | 1863/3000 [00:43<00:24, 47.09it/s]\u001b[A\n",
      "Model comparisons:  62%|█████████████████████████████████████████████████████████████████████████████▎                                              | 1871/3000 [00:43<00:23, 48.47it/s]\u001b[A\n",
      "Model comparisons:  63%|█████████████████████████████████████████████████████████████████████████████▋                                              | 1879/3000 [00:43<00:23, 48.63it/s]\u001b[A\n",
      "Model comparisons:  63%|█████████████████████████████████████████████████████████████████████████████▉                                              | 1887/3000 [00:43<00:23, 46.74it/s]\u001b[A\n",
      "Model comparisons:  63%|██████████████████████████████████████████████████████████████████████████████▎                                             | 1895/3000 [00:43<00:25, 42.74it/s]\u001b[A\n",
      "Model comparisons:  63%|██████████████████████████████████████████████████████████████████████████████▋                                             | 1903/3000 [00:44<00:25, 43.04it/s]\u001b[A\n",
      "Model comparisons:  64%|██████████████████████████████████████████████████████████████████████████████▉                                             | 1911/3000 [00:44<00:25, 41.89it/s]\u001b[A\n",
      "Model comparisons:  64%|███████████████████████████████████████████████████████████████████████████████▎                                            | 1919/3000 [00:44<00:24, 44.58it/s]\u001b[A\n",
      "Model comparisons:  64%|███████████████████████████████████████████████████████████████████████████████▋                                            | 1927/3000 [00:44<00:23, 46.57it/s]\u001b[A\n",
      "Model comparisons:  64%|███████████████████████████████████████████████████████████████████████████████▉                                            | 1935/3000 [00:44<00:22, 47.31it/s]\u001b[A\n",
      "Model comparisons:  65%|████████████████████████████████████████████████████████████████████████████████▎                                           | 1943/3000 [00:44<00:21, 49.36it/s]\u001b[A\n",
      "Model comparisons:  65%|████████████████████████████████████████████████████████████████████████████████▋                                           | 1951/3000 [00:45<00:22, 45.96it/s]\u001b[A\n",
      "Model comparisons:  65%|████████████████████████████████████████████████████████████████████████████████▉                                           | 1959/3000 [00:45<00:22, 45.97it/s]\u001b[A\n",
      "Model comparisons:  66%|█████████████████████████████████████████████████████████████████████████████████▎                                          | 1967/3000 [00:45<00:22, 45.20it/s]\u001b[A\n",
      "Model comparisons:  66%|█████████████████████████████████████████████████████████████████████████████████▋                                          | 1975/3000 [00:45<00:23, 43.62it/s]\u001b[A\n",
      "Model comparisons:  66%|█████████████████████████████████████████████████████████████████████████████████▉                                          | 1983/3000 [00:45<00:22, 45.23it/s]\u001b[A\n",
      "Model comparisons:  66%|██████████████████████████████████████████████████████████████████████████████████▎                                         | 1991/3000 [00:45<00:21, 46.69it/s]\u001b[A\n",
      "Model comparisons:  67%|██████████████████████████████████████████████████████████████████████████████████▋                                         | 1999/3000 [00:46<00:33, 30.00it/s]\u001b[A\n",
      "Model comparisons:  67%|██████████████████████████████████████████████████████████████████████████████████▉                                         | 2006/3000 [00:46<00:28, 35.48it/s]\u001b[A\n",
      "Model comparisons:  67%|███████████████████████████████████████████████████████████████████████████████████▌                                        | 2022/3000 [00:46<00:21, 45.92it/s]\u001b[A\n",
      "Model comparisons:  68%|███████████████████████████████████████████████████████████████████████████████████▉                                        | 2030/3000 [00:46<00:20, 46.51it/s]\u001b[A\n",
      "Model comparisons:  68%|████████████████████████████████████████████████████████████████████████████████████▏                                       | 2038/3000 [00:47<00:21, 45.40it/s]\u001b[A\n",
      "Model comparisons:  68%|████████████████████████████████████████████████████████████████████████████████████▌                                       | 2046/3000 [00:47<00:20, 45.65it/s]\u001b[A\n",
      "Model comparisons:  68%|████████████████████████████████████████████████████████████████████████████████████▉                                       | 2054/3000 [00:47<00:21, 45.02it/s]\u001b[A\n",
      "Model comparisons:  69%|█████████████████████████████████████████████████████████████████████████████████████▏                                      | 2062/3000 [00:47<00:21, 42.99it/s]\u001b[A\n",
      "Model comparisons:  69%|█████████████████████████████████████████████████████████████████████████████████████▌                                      | 2070/3000 [00:47<00:21, 43.57it/s]\u001b[A\n",
      "Model comparisons:  69%|█████████████████████████████████████████████████████████████████████████████████████▉                                      | 2078/3000 [00:48<00:20, 45.93it/s]\u001b[A\n"
     ]
    },
    {
     "name": "stderr",
     "output_type": "stream",
     "text": [
      "Model comparisons:  70%|██████████████████████████████████████████████████████████████████████████████████████▏                                     | 2086/3000 [00:48<00:19, 47.22it/s]\u001b[A\n",
      "Model comparisons:  70%|██████████████████████████████████████████████████████████████████████████████████████▌                                     | 2094/3000 [00:48<00:19, 47.52it/s]\u001b[A\n",
      "Model comparisons:  70%|██████████████████████████████████████████████████████████████████████████████████████▉                                     | 2102/3000 [00:48<00:18, 47.37it/s]\u001b[A\n",
      "Model comparisons:  70%|███████████████████████████████████████████████████████████████████████████████████████▏                                    | 2110/3000 [00:48<00:18, 47.69it/s]\u001b[A\n",
      "Model comparisons:  71%|███████████████████████████████████████████████████████████████████████████████████████▌                                    | 2118/3000 [00:48<00:18, 48.36it/s]\u001b[A\n",
      "Model comparisons:  71%|███████████████████████████████████████████████████████████████████████████████████████▊                                    | 2126/3000 [00:49<00:18, 47.05it/s]\u001b[A\n",
      "Model comparisons:  71%|████████████████████████████████████████████████████████████████████████████████████████▏                                   | 2134/3000 [00:49<00:17, 48.14it/s]\u001b[A\n",
      "Model comparisons:  71%|████████████████████████████████████████████████████████████████████████████████████████▌                                   | 2142/3000 [00:49<00:17, 49.56it/s]\u001b[A\n",
      "Model comparisons:  72%|████████████████████████████████████████████████████████████████████████████████████████▊                                   | 2150/3000 [00:49<00:17, 49.84it/s]\u001b[A\n",
      "Model comparisons:  72%|█████████████████████████████████████████████████████████████████████████████████████████▏                                  | 2158/3000 [00:49<00:17, 49.07it/s]\u001b[A\n",
      "Model comparisons:  72%|█████████████████████████████████████████████████████████████████████████████████████████▌                                  | 2166/3000 [00:49<00:17, 48.80it/s]\u001b[A\n",
      "Model comparisons:  72%|█████████████████████████████████████████████████████████████████████████████████████████▊                                  | 2174/3000 [00:50<00:16, 50.20it/s]\u001b[A\n",
      "Model comparisons:  73%|██████████████████████████████████████████████████████████████████████████████████████████▏                                 | 2182/3000 [00:50<00:16, 50.98it/s]\u001b[A\n",
      "Model comparisons:  73%|██████████████████████████████████████████████████████████████████████████████████████████▌                                 | 2190/3000 [00:50<00:15, 51.29it/s]\u001b[A\n",
      "Model comparisons:  73%|██████████████████████████████████████████████████████████████████████████████████████████▊                                 | 2198/3000 [00:50<00:17, 46.22it/s]\u001b[A\n",
      "Model comparisons:  74%|███████████████████████████████████████████████████████████████████████████████████████████▏                                | 2206/3000 [00:50<00:18, 43.30it/s]\u001b[A\n",
      "Model comparisons:  74%|███████████████████████████████████████████████████████████████████████████████████████████▌                                | 2214/3000 [00:50<00:18, 43.24it/s]\u001b[A\n",
      "Model comparisons:  74%|███████████████████████████████████████████████████████████████████████████████████████████▊                                | 2222/3000 [00:51<00:18, 41.49it/s]\u001b[A\n",
      "Model comparisons:  74%|████████████████████████████████████████████████████████████████████████████████████████████▏                               | 2230/3000 [00:51<00:18, 41.50it/s]\u001b[A\n",
      "Model comparisons:  75%|████████████████████████████████████████████████████████████████████████████████████████████▌                               | 2238/3000 [00:51<00:18, 42.07it/s]\u001b[A\n",
      "Model comparisons:  75%|████████████████████████████████████████████████████████████████████████████████████████████▊                               | 2246/3000 [00:51<00:17, 43.04it/s]\u001b[A\n",
      "Model comparisons:  75%|█████████████████████████████████████████████████████████████████████████████████████████████▏                              | 2254/3000 [00:51<00:17, 42.02it/s]\u001b[A\n",
      "Model comparisons:  75%|█████████████████████████████████████████████████████████████████████████████████████████████▍                              | 2262/3000 [00:52<00:17, 42.75it/s]\u001b[A\n",
      "Model comparisons:  76%|█████████████████████████████████████████████████████████████████████████████████████████████▊                              | 2270/3000 [00:52<00:16, 45.28it/s]\u001b[A\n",
      "Model comparisons:  76%|██████████████████████████████████████████████████████████████████████████████████████████████▏                             | 2278/3000 [00:52<00:15, 45.66it/s]\u001b[A\n",
      "Model comparisons:  76%|██████████████████████████████████████████████████████████████████████████████████████████████▍                             | 2286/3000 [00:52<00:16, 42.67it/s]\u001b[A\n",
      "Model comparisons:  76%|██████████████████████████████████████████████████████████████████████████████████████████████▊                             | 2294/3000 [00:52<00:16, 43.40it/s]\u001b[A\n",
      "Model comparisons:  77%|███████████████████████████████████████████████████████████████████████████████████████████████▏                            | 2302/3000 [00:52<00:15, 43.99it/s]\u001b[A\n",
      "Model comparisons:  77%|███████████████████████████████████████████████████████████████████████████████████████████████▍                            | 2310/3000 [00:53<00:15, 44.93it/s]\u001b[A\n",
      "Model comparisons:  77%|███████████████████████████████████████████████████████████████████████████████████████████████▊                            | 2318/3000 [00:53<00:15, 44.90it/s]\u001b[A\n",
      "Model comparisons:  78%|████████████████████████████████████████████████████████████████████████████████████████████████▏                           | 2326/3000 [00:53<00:14, 47.03it/s]\u001b[A\n",
      "Model comparisons:  78%|████████████████████████████████████████████████████████████████████████████████████████████████▍                           | 2334/3000 [00:53<00:13, 48.46it/s]\u001b[A\n",
      "Model comparisons:  78%|████████████████████████████████████████████████████████████████████████████████████████████████▊                           | 2342/3000 [00:53<00:12, 51.25it/s]\u001b[A\n",
      "Model comparisons:  78%|█████████████████████████████████████████████████████████████████████████████████████████████████▏                          | 2350/3000 [00:53<00:11, 54.48it/s]\u001b[A\n",
      "Model comparisons:  79%|█████████████████████████████████████████████████████████████████████████████████████████████████▍                          | 2358/3000 [00:53<00:11, 57.12it/s]\u001b[A\n",
      "Model comparisons:  79%|█████████████████████████████████████████████████████████████████████████████████████████████████▊                          | 2366/3000 [00:54<00:10, 58.89it/s]\u001b[A\n",
      "Model comparisons:  79%|██████████████████████████████████████████████████████████████████████████████████████████████████▏                         | 2374/3000 [00:54<00:12, 51.37it/s]\u001b[A\n",
      "Model comparisons:  79%|██████████████████████████████████████████████████████████████████████████████████████████████████▍                         | 2382/3000 [00:54<00:11, 51.80it/s]\u001b[A\n",
      "Model comparisons:  80%|██████████████████████████████████████████████████████████████████████████████████████████████████▊                         | 2390/3000 [00:54<00:11, 52.50it/s]\u001b[A\n",
      "Model comparisons:  80%|███████████████████████████████████████████████████████████████████████████████████████████████████                         | 2398/3000 [00:54<00:10, 54.89it/s]\u001b[A\n",
      "Model comparisons:  80%|███████████████████████████████████████████████████████████████████████████████████████████████████▍                        | 2406/3000 [00:54<00:10, 56.24it/s]\u001b[A\n",
      "Model comparisons:  80%|███████████████████████████████████████████████████████████████████████████████████████████████████▊                        | 2414/3000 [00:55<00:10, 57.28it/s]\u001b[A\n",
      "Model comparisons:  81%|████████████████████████████████████████████████████████████████████████████████████████████████████                        | 2422/3000 [00:55<00:09, 59.02it/s]\u001b[A\n"
     ]
    },
    {
     "name": "stderr",
     "output_type": "stream",
     "text": [
      "Model comparisons:  81%|████████████████████████████████████████████████████████████████████████████████████████████████████▍                       | 2430/3000 [00:55<00:09, 60.96it/s]\u001b[A\n",
      "Model comparisons:  81%|████████████████████████████████████████████████████████████████████████████████████████████████████▊                       | 2438/3000 [00:55<00:09, 62.25it/s]\u001b[A\n",
      "Model comparisons:  82%|█████████████████████████████████████████████████████████████████████████████████████████████████████                       | 2446/3000 [00:55<00:08, 63.26it/s]\u001b[A\n",
      "Model comparisons:  82%|█████████████████████████████████████████████████████████████████████████████████████████████████████▍                      | 2454/3000 [00:55<00:08, 63.46it/s]\u001b[A\n",
      "Model comparisons:  82%|█████████████████████████████████████████████████████████████████████████████████████████████████████▊                      | 2462/3000 [00:55<00:08, 63.13it/s]\u001b[A\n",
      "Model comparisons:  82%|██████████████████████████████████████████████████████████████████████████████████████████████████████                      | 2470/3000 [00:55<00:08, 63.54it/s]\u001b[A\n",
      "Model comparisons:  83%|██████████████████████████████████████████████████████████████████████████████████████████████████████▍                     | 2478/3000 [00:56<00:08, 62.78it/s]\u001b[A\n",
      "Model comparisons:  83%|██████████████████████████████████████████████████████████████████████████████████████████████████████▊                     | 2486/3000 [00:56<00:08, 61.36it/s]\u001b[A\n",
      "Model comparisons:  83%|███████████████████████████████████████████████████████████████████████████████████████████████████████                     | 2494/3000 [00:56<00:08, 62.07it/s]\u001b[A\n",
      "Model comparisons:  83%|███████████████████████████████████████████████████████████████████████████████████████████████████████▍                    | 2502/3000 [00:56<00:07, 63.09it/s]\u001b[A\n",
      "Model comparisons:  84%|███████████████████████████████████████████████████████████████████████████████████████████████████████▋                    | 2510/3000 [00:56<00:07, 64.22it/s]\u001b[A\n",
      "Model comparisons:  84%|████████████████████████████████████████████████████████████████████████████████████████████████████████                    | 2518/3000 [00:56<00:07, 64.62it/s]\u001b[A\n",
      "Model comparisons:  84%|████████████████████████████████████████████████████████████████████████████████████████████████████████▍                   | 2526/3000 [00:56<00:07, 63.99it/s]\u001b[A\n",
      "Model comparisons:  84%|████████████████████████████████████████████████████████████████████████████████████████████████████████▋                   | 2534/3000 [00:56<00:07, 63.88it/s]\u001b[A\n",
      "Model comparisons:  85%|█████████████████████████████████████████████████████████████████████████████████████████████████████████                   | 2542/3000 [00:57<00:07, 63.99it/s]\u001b[A\n",
      "Model comparisons:  85%|█████████████████████████████████████████████████████████████████████████████████████████████████████████▍                  | 2550/3000 [00:57<00:07, 63.24it/s]\u001b[A\n",
      "Model comparisons:  85%|█████████████████████████████████████████████████████████████████████████████████████████████████████████▋                  | 2558/3000 [00:57<00:07, 61.98it/s]\u001b[A\n",
      "Model comparisons:  86%|██████████████████████████████████████████████████████████████████████████████████████████████████████████                  | 2566/3000 [00:57<00:07, 61.69it/s]\u001b[A\n",
      "Model comparisons:  86%|██████████████████████████████████████████████████████████████████████████████████████████████████████████▍                 | 2574/3000 [00:57<00:06, 61.57it/s]\u001b[A\n",
      "Model comparisons:  86%|██████████████████████████████████████████████████████████████████████████████████████████████████████████▋                 | 2582/3000 [00:57<00:06, 61.02it/s]\u001b[A\n",
      "Model comparisons:  86%|███████████████████████████████████████████████████████████████████████████████████████████████████████████                 | 2590/3000 [00:57<00:06, 59.91it/s]\u001b[A\n",
      "Model comparisons:  87%|███████████████████████████████████████████████████████████████████████████████████████████████████████████▍                | 2598/3000 [00:57<00:06, 60.68it/s]\u001b[A\n",
      "Model comparisons:  87%|███████████████████████████████████████████████████████████████████████████████████████████████████████████▋                | 2606/3000 [00:58<00:06, 61.56it/s]\u001b[A\n",
      "Model comparisons:  87%|████████████████████████████████████████████████████████████████████████████████████████████████████████████                | 2614/3000 [00:58<00:06, 61.97it/s]\u001b[A\n",
      "Model comparisons:  87%|████████████████████████████████████████████████████████████████████████████████████████████████████████████▍               | 2622/3000 [00:58<00:06, 62.04it/s]\u001b[A\n",
      "Model comparisons:  88%|████████████████████████████████████████████████████████████████████████████████████████████████████████████▋               | 2630/3000 [00:58<00:05, 63.10it/s]\u001b[A\n",
      "Model comparisons:  88%|█████████████████████████████████████████████████████████████████████████████████████████████████████████████               | 2638/3000 [00:58<00:05, 61.76it/s]\u001b[A\n",
      "Model comparisons:  88%|█████████████████████████████████████████████████████████████████████████████████████████████████████████████▎              | 2646/3000 [00:58<00:05, 62.80it/s]\u001b[A\n",
      "Model comparisons:  88%|█████████████████████████████████████████████████████████████████████████████████████████████████████████████▋              | 2654/3000 [00:58<00:05, 59.06it/s]\u001b[A\n",
      "Model comparisons:  89%|██████████████████████████████████████████████████████████████████████████████████████████████████████████████              | 2662/3000 [00:59<00:06, 52.78it/s]\u001b[A\n",
      "Model comparisons:  89%|██████████████████████████████████████████████████████████████████████████████████████████████████████████████▎             | 2670/3000 [00:59<00:06, 51.71it/s]\u001b[A\n",
      "Model comparisons:  89%|██████████████████████████████████████████████████████████████████████████████████████████████████████████████▋             | 2678/3000 [00:59<00:05, 53.93it/s]\u001b[A\n",
      "Model comparisons:  90%|███████████████████████████████████████████████████████████████████████████████████████████████████████████████             | 2686/3000 [00:59<00:05, 54.75it/s]\u001b[A\n",
      "Model comparisons:  90%|███████████████████████████████████████████████████████████████████████████████████████████████████████████████▎            | 2694/3000 [00:59<00:05, 55.24it/s]\u001b[A\n",
      "Model comparisons:  90%|███████████████████████████████████████████████████████████████████████████████████████████████████████████████▋            | 2702/3000 [00:59<00:05, 57.35it/s]\u001b[A\n",
      "Model comparisons:  90%|████████████████████████████████████████████████████████████████████████████████████████████████████████████████            | 2710/3000 [00:59<00:04, 58.45it/s]\u001b[A\n",
      "Model comparisons:  91%|████████████████████████████████████████████████████████████████████████████████████████████████████████████████▎           | 2718/3000 [01:00<00:04, 59.32it/s]\u001b[A\n",
      "Model comparisons:  91%|████████████████████████████████████████████████████████████████████████████████████████████████████████████████▋           | 2726/3000 [01:00<00:04, 60.58it/s]\u001b[A\n",
      "Model comparisons:  91%|█████████████████████████████████████████████████████████████████████████████████████████████████████████████████           | 2734/3000 [01:00<00:04, 60.92it/s]\u001b[A\n",
      "Model comparisons:  91%|█████████████████████████████████████████████████████████████████████████████████████████████████████████████████▎          | 2742/3000 [01:00<00:04, 62.29it/s]\u001b[A\n",
      "Model comparisons:  92%|█████████████████████████████████████████████████████████████████████████████████████████████████████████████████▋          | 2750/3000 [01:00<00:03, 63.46it/s]\u001b[A\n",
      "Model comparisons:  92%|█████████████████████████████████████████████████████████████████████████████████████████████████████████████████▉          | 2758/3000 [01:00<00:03, 64.30it/s]\u001b[A\n",
      "Model comparisons:  92%|██████████████████████████████████████████████████████████████████████████████████████████████████████████████████▎         | 2766/3000 [01:00<00:03, 64.04it/s]\u001b[A\n"
     ]
    },
    {
     "name": "stderr",
     "output_type": "stream",
     "text": [
      "Model comparisons:  92%|██████████████████████████████████████████████████████████████████████████████████████████████████████████████████▋         | 2774/3000 [01:00<00:03, 63.63it/s]\u001b[A\n",
      "Model comparisons:  93%|██████████████████████████████████████████████████████████████████████████████████████████████████████████████████▉         | 2782/3000 [01:01<00:03, 60.11it/s]\u001b[A\n",
      "Model comparisons:  93%|███████████████████████████████████████████████████████████████████████████████████████████████████████████████████▎        | 2790/3000 [01:01<00:03, 57.56it/s]\u001b[A\n",
      "Model comparisons:  93%|███████████████████████████████████████████████████████████████████████████████████████████████████████████████████▋        | 2798/3000 [01:01<00:03, 58.51it/s]\u001b[A\n",
      "Model comparisons:  94%|███████████████████████████████████████████████████████████████████████████████████████████████████████████████████▉        | 2806/3000 [01:01<00:03, 59.70it/s]\u001b[A\n",
      "Model comparisons:  94%|████████████████████████████████████████████████████████████████████████████████████████████████████████████████████▎       | 2814/3000 [01:01<00:03, 58.13it/s]\u001b[A\n",
      "Model comparisons:  94%|████████████████████████████████████████████████████████████████████████████████████████████████████████████████████▋       | 2822/3000 [01:01<00:02, 59.35it/s]\u001b[A\n",
      "Model comparisons:  94%|████████████████████████████████████████████████████████████████████████████████████████████████████████████████████▉       | 2830/3000 [01:01<00:02, 58.24it/s]\u001b[A\n",
      "Model comparisons:  95%|█████████████████████████████████████████████████████████████████████████████████████████████████████████████████████▎      | 2838/3000 [01:02<00:02, 59.53it/s]\u001b[A\n",
      "Model comparisons:  95%|█████████████████████████████████████████████████████████████████████████████████████████████████████████████████████▋      | 2846/3000 [01:02<00:02, 61.26it/s]\u001b[A\n",
      "Model comparisons:  95%|█████████████████████████████████████████████████████████████████████████████████████████████████████████████████████▉      | 2854/3000 [01:02<00:02, 61.89it/s]\u001b[A\n",
      "Model comparisons:  95%|██████████████████████████████████████████████████████████████████████████████████████████████████████████████████████▎     | 2862/3000 [01:02<00:02, 62.88it/s]\u001b[A\n",
      "Model comparisons:  96%|██████████████████████████████████████████████████████████████████████████████████████████████████████████████████████▋     | 2870/3000 [01:02<00:02, 62.61it/s]\u001b[A\n",
      "Model comparisons:  96%|██████████████████████████████████████████████████████████████████████████████████████████████████████████████████████▉     | 2878/3000 [01:02<00:01, 61.40it/s]\u001b[A\n",
      "Model comparisons:  96%|███████████████████████████████████████████████████████████████████████████████████████████████████████████████████████▎    | 2886/3000 [01:02<00:01, 62.31it/s]\u001b[A\n",
      "Model comparisons:  96%|███████████████████████████████████████████████████████████████████████████████████████████████████████████████████████▌    | 2894/3000 [01:02<00:01, 62.19it/s]\u001b[A\n",
      "Model comparisons:  97%|███████████████████████████████████████████████████████████████████████████████████████████████████████████████████████▉    | 2902/3000 [01:03<00:01, 62.47it/s]\u001b[A\n",
      "Model comparisons:  97%|████████████████████████████████████████████████████████████████████████████████████████████████████████████████████████▎   | 2910/3000 [01:03<00:01, 62.47it/s]\u001b[A\n",
      "Model comparisons:  97%|████████████████████████████████████████████████████████████████████████████████████████████████████████████████████████▌   | 2918/3000 [01:03<00:01, 61.52it/s]\u001b[A\n",
      "Model comparisons:  98%|████████████████████████████████████████████████████████████████████████████████████████████████████████████████████████▉   | 2926/3000 [01:03<00:01, 56.89it/s]\u001b[A\n",
      "Model comparisons:  98%|█████████████████████████████████████████████████████████████████████████████████████████████████████████████████████████▎  | 2934/3000 [01:03<00:01, 54.75it/s]\u001b[A\n",
      "Model comparisons:  98%|█████████████████████████████████████████████████████████████████████████████████████████████████████████████████████████▌  | 2942/3000 [01:03<00:01, 54.19it/s]\u001b[A\n",
      "Model comparisons:  98%|█████████████████████████████████████████████████████████████████████████████████████████████████████████████████████████▉  | 2950/3000 [01:03<00:00, 52.56it/s]\u001b[A\n",
      "Model comparisons:  99%|██████████████████████████████████████████████████████████████████████████████████████████████████████████████████████████▎ | 2958/3000 [01:04<00:00, 54.13it/s]\u001b[A\n",
      "Model comparisons:  99%|██████████████████████████████████████████████████████████████████████████████████████████████████████████████████████████▌ | 2966/3000 [01:04<00:00, 56.38it/s]\u001b[A\n",
      "Model comparisons:  99%|██████████████████████████████████████████████████████████████████████████████████████████████████████████████████████████▉ | 2974/3000 [01:04<00:00, 58.54it/s]\u001b[A\n",
      "Model comparisons:  99%|███████████████████████████████████████████████████████████████████████████████████████████████████████████████████████████▎| 2982/3000 [01:04<00:00, 57.84it/s]\u001b[A\n",
      "Model comparisons: 100%|███████████████████████████████████████████████████████████████████████████████████████████████████████████████████████████▌| 2990/3000 [01:04<00:00, 57.00it/s]\u001b[A"
     ]
    }
   ],
   "source": [
    "res_df = multi_aso(\n",
    "    {\n",
    "        \"update freq = 10\": reward_dist_freq_10, \n",
    "        \"update freq = 20\": reward_dist_freq_20, \n",
    "        \"discount factor = 0.6\": reward_dist_discount_06\n",
    "    },\n",
    "    num_jobs=4, seed=SEED, return_df=True\n",
    ")"
   ]
  },
  {
   "cell_type": "code",
   "execution_count": 19,
   "metadata": {},
   "outputs": [
    {
     "data": {
      "text/html": [
       "<div>\n",
       "<style scoped>\n",
       "    .dataframe tbody tr th:only-of-type {\n",
       "        vertical-align: middle;\n",
       "    }\n",
       "\n",
       "    .dataframe tbody tr th {\n",
       "        vertical-align: top;\n",
       "    }\n",
       "\n",
       "    .dataframe thead th {\n",
       "        text-align: right;\n",
       "    }\n",
       "</style>\n",
       "<table border=\"1\" class=\"dataframe\">\n",
       "  <thead>\n",
       "    <tr style=\"text-align: right;\">\n",
       "      <th></th>\n",
       "      <th>update freq = 10</th>\n",
       "      <th>update freq = 20</th>\n",
       "      <th>discount factor = 0.6</th>\n",
       "    </tr>\n",
       "  </thead>\n",
       "  <tbody>\n",
       "    <tr>\n",
       "      <th>update freq = 10</th>\n",
       "      <td>1.0</td>\n",
       "      <td>1.0</td>\n",
       "      <td>0.0</td>\n",
       "    </tr>\n",
       "    <tr>\n",
       "      <th>update freq = 20</th>\n",
       "      <td>0.0</td>\n",
       "      <td>1.0</td>\n",
       "      <td>0.0</td>\n",
       "    </tr>\n",
       "    <tr>\n",
       "      <th>discount factor = 0.6</th>\n",
       "      <td>1.0</td>\n",
       "      <td>1.0</td>\n",
       "      <td>1.0</td>\n",
       "    </tr>\n",
       "  </tbody>\n",
       "</table>\n",
       "</div>"
      ],
      "text/plain": [
       "                       update freq = 10  update freq = 20  \\\n",
       "update freq = 10                    1.0               1.0   \n",
       "update freq = 20                    0.0               1.0   \n",
       "discount factor = 0.6               1.0               1.0   \n",
       "\n",
       "                       discount factor = 0.6  \n",
       "update freq = 10                         0.0  \n",
       "update freq = 20                         0.0  \n",
       "discount factor = 0.6                    1.0  "
      ]
     },
     "execution_count": 19,
     "metadata": {},
     "output_type": "execute_result"
    },
    {
     "name": "stderr",
     "output_type": "stream",
     "text": [
      "\n",
      "Model comparisons: 100%|███████████████████████████████████████████████████████████████████████████████████████████████████████████████████████████▉| 2997/3000 [01:18<00:00, 57.00it/s]\u001b[A"
     ]
    }
   ],
   "source": [
    "res_df"
   ]
  },
  {
   "cell_type": "markdown",
   "metadata": {},
   "source": [
    "Thus, we can conclude here that lowering the discount factor actually seems to have a negative impact on the obtained rewards. \n",
    "\n",
    "First of all, thank for following this demo so far! Before letting you play with the different functions yourself, here a few disclaimers:\n",
    "\n",
    "1. This demo didn't try to put forth a realistic experimental pipeline in Reinforcement learning - the cart pole problem is just a cute problem for demonstration purposes.\n",
    "2. The use of significance threshold is very controversial, and ASO is no exception - instead of marking your results as significant / non-significant, report the output of the scores along with your effect size.\n",
    "3. Significance tests aren't perfect and come with a certain degree of uncertainty, and ASO is no exception\n",
    "    \n",
    "For more information on the functions, check out the documentation under [REDACTED] or leave an issue on the Github repository [REDACTED].\n",
    "\n",
    "\n",
    "### Bibliography\n",
    "\n",
    "* Andrew G Barto, Richard S Sutton, and Charles W Anderson. Neuronlike adaptive elements that cansolve difficult learning control problems.IEEE transactions on systems, man, and cybernetics, (5):834–846, 1983.\n",
    "\n",
    "* Volodymyr Mnih, Koray Kavukcuoglu, David Silver, Andrei A Rusu, Joel Veness, Marc G Bellemare,Alex Graves, Martin Riedmiller, Andreas K Fidjeland, Georg Ostrovski, et al. Human-level controlthrough deep reinforcement learning.nature, 518(7540):529–533, 2015\n",
    "\n",
    "* Hado Van Hasselt,  Yotam Doron,  Florian Strub,  Matteo Hessel,  Nicolas Sonnerat,  and JosephModayil.  Deep reinforcement learning and the deadly triad.arXiv preprint arXiv:1812.02648,2018.\n",
    "\n"
   ]
  }
 ],
 "metadata": {
  "kernelspec": {
   "display_name": "Python 3 (ipykernel)",
   "language": "python",
   "name": "python3"
  },
  "language_info": {
   "codemirror_mode": {
    "name": "ipython",
    "version": 3
   },
   "file_extension": ".py",
   "mimetype": "text/x-python",
   "name": "python",
   "nbconvert_exporter": "python",
   "pygments_lexer": "ipython3",
   "version": "3.9.10"
  }
 },
 "nbformat": 4,
 "nbformat_minor": 4
}
