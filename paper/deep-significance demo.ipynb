{
 "cells": [
  {
   "cell_type": "markdown",
   "metadata": {},
   "source": [
    "# deep-significance Demo"
   ]
  },
  {
   "cell_type": "markdown",
   "metadata": {},
   "source": [
    "**Note: [REDACTED] indicates links that were temporarily removed for peer-reviewing purposes.**\n",
    "\n",
    "In this demo, we will demonstrate some of the functionalities in the deep-significance package using the Cart Pole problem TODO as implemented in OpenAI gym. \n",
    "\n",
    "Since this is a demo, we will use an extremely simple approach to tackling reinforcement learning problems with neural networks, namely *Deep Q-networks*. Back in 2015, Deep Q-networks where the first approach to obtain competitive scores on many Atari games. In this demo, we will specificly use the package to determine the effect of replay memory on the model.\n",
    "\n",
    "TODO: Explain Q-learning\n",
    "TODO: Explain replay memory.\n",
    "\n",
    "For that purpose, let us first define the environment along with some project requirements:"
   ]
  },
  {
   "cell_type": "code",
   "execution_count": 1,
   "metadata": {},
   "outputs": [
    {
     "name": "stderr",
     "output_type": "stream",
     "text": [
      "\n"
     ]
    }
   ],
   "source": [
    "# STD\n",
    "import random\n",
    "\n",
    "# EXT\n",
    "import gym\n",
    "import numpy as np\n",
    "import torch\n",
    "import torch.optim as optim\n",
    "import torch.nn as nn\n",
    "import torch.nn.functional as F\n",
    "\n",
    "# Import package functions\n",
    "# To use deepsig in your project, simply use pip install deepsig\n",
    "import sys\n",
    "sys.path.insert(0, \"../\")\n",
    "from deepsig import aso, multi_aso, aso_uncertainty_reduction, bootstrap_power_analysis, bootstrap_test"
   ]
  },
  {
   "cell_type": "code",
   "execution_count": 2,
   "metadata": {},
   "outputs": [],
   "source": [
    "# Set constants\n",
    "SEED = 42\n",
    "\n",
    "# Set hyperparameters\n",
    "NUM_EPISODES = 100\n",
    "TARGET_UPDATE_FREQ = 10\n",
    "MAX_STEPS = 1000\n",
    "BATCH_SIZE = 128\n",
    "DISCOUNT_FACTOR = 0.8\n",
    "LEARN_RATE = 1e-3\n",
    "NUM_HIDDEN = 256\n",
    "MEMORY_SIZE = 10000\n",
    "SHOW_AGENT = False  # Set this to true if you want to see the agent learning\n"
   ]
  },
  {
   "cell_type": "code",
   "execution_count": 3,
   "metadata": {},
   "outputs": [
    {
     "data": {
      "text/plain": [
       "<torch._C.Generator at 0x110e38c10>"
      ]
     },
     "execution_count": 3,
     "metadata": {},
     "output_type": "execute_result"
    }
   ],
   "source": [
    "env = gym.envs.make(\"CartPole-v1\")\n",
    "\n",
    "# Seed for replicability\n",
    "env.seed(SEED)\n",
    "random.seed(SEED)\n",
    "torch.manual_seed(SEED)"
   ]
  },
  {
   "cell_type": "markdown",
   "metadata": {},
   "source": [
    "Next, we define a super simple Deep Q-network and replay memory class:"
   ]
  },
  {
   "cell_type": "code",
   "execution_count": 4,
   "metadata": {},
   "outputs": [],
   "source": [
    "class QNetwork(nn.Module):\n",
    "\n",
    "    def __init__(self, n_in, n_out, num_hidden=128):\n",
    "        nn.Module.__init__(self)\n",
    "        self.l1 = nn.Linear(n_in, num_hidden)\n",
    "        self.l2 = nn.Linear(num_hidden, n_out)\n",
    "\n",
    "    def forward(self, x):\n",
    "        out = self.l1(x)\n",
    "        out = F.relu(out)\n",
    "        out = self.l2(out)\n",
    "        return out\n",
    "\n",
    "\n",
    "class ReplayMemory:\n",
    "\n",
    "    def __init__(self, capacity):\n",
    "        self.capacity = capacity\n",
    "        self.memory = []\n",
    "\n",
    "    def push(self, transition):\n",
    "        if self.capacity == len(self.memory):\n",
    "            self.memory.pop(0)\n",
    "        self.memory.append(transition)\n",
    "\n",
    "    def sample(self, batch_size):\n",
    "        return random.sample(self.memory, batch_size)\n",
    "\n",
    "    def __len__(self):\n",
    "        return len(self.memory)"
   ]
  },
  {
   "cell_type": "markdown",
   "metadata": {},
   "source": [
    "Next, we implement some utility functions:"
   ]
  },
  {
   "cell_type": "code",
   "execution_count": 5,
   "metadata": {},
   "outputs": [],
   "source": [
    "def select_action(model, state, epsilon):\n",
    "    with torch.no_grad():\n",
    "        action = model(torch.Tensor(state))\n",
    "        return torch.argmax(action).item() if random.random() > epsilon else random.choice([0,1])\n",
    "\n",
    "def get_epsilon(it):\n",
    "    return 0.05 if it >= 1000 else - 0.00095 * it + 1\n",
    "    \n",
    "def compute_target(model, reward, next_state, done, discount_factor, target_net):\n",
    "\n",
    "    targets = reward + (target_net(next_state).max(1)[0] * discount_factor) * (1 - done.float())\n",
    "    \n",
    "    return targets.unsqueeze(1)\n",
    "\n",
    "def compute_q_val(model, state, action):\n",
    "    q_val = model(state)\n",
    "    q_val = q_val.gather(1, action.unsqueeze(1).view(-1, 1))\n",
    "    return q_val\n"
   ]
  },
  {
   "cell_type": "code",
   "execution_count": 6,
   "metadata": {},
   "outputs": [],
   "source": [
    "def train(model, memory, optimizer, batch_size, discount_factor, target_net):\n",
    "    # don't learn without some decent experience\n",
    "    if len(memory) < batch_size:\n",
    "        return None\n",
    "\n",
    "    # random transition batch is taken from experience replay memory\n",
    "    transitions = memory.sample(batch_size)\n",
    "\n",
    "    # transition is a list of 4-tuples, instead we want 4 vectors (as torch.Tensor's)\n",
    "    state, action, reward, next_state, done = zip(*transitions)\n",
    "\n",
    "    # convert to PyTorch and define types\n",
    "    state = torch.tensor(state, dtype=torch.float)\n",
    "    action = torch.tensor(action, dtype=torch.int64)  # Need 64 bit to use them as index\n",
    "    next_state = torch.tensor(next_state, dtype=torch.float)\n",
    "    reward = torch.tensor(reward, dtype=torch.float)\n",
    "    done = torch.tensor(done, dtype=torch.uint8)  # Boolean\n",
    "    action = action.squeeze()\n",
    "\n",
    "    # compute the q value\n",
    "    q_val = compute_q_val(model, state, action)\n",
    "\n",
    "    with torch.no_grad():  # Don't compute gradient info for the target (semi-gradient)\n",
    "        target = compute_target(model, reward, next_state, done, discount_factor, target_net)\n",
    "\n",
    "    # loss is measured from error between current and newly expected Q values\n",
    "    loss = F.smooth_l1_loss(q_val, target)\n",
    "\n",
    "    # backpropagation of loss to Neural Network (PyTorch magic)\n",
    "    optimizer.zero_grad()\n",
    "    loss.backward()\n",
    "    optimizer.step()\n",
    "\n",
    "    return loss.item()  # Returns a Python scalar, and releases history (similar to .detach())"
   ]
  },
  {
   "cell_type": "code",
   "execution_count": 7,
   "metadata": {},
   "outputs": [],
   "source": [
    "def run_episodes(train, model, memory, env, num_episodes, batch_size, discount_factor, learn_rate, target_net,\n",
    "                 target_update_freq, max_steps, show_agent):\n",
    "    optimizer = optim.Adam(model.parameters(), learn_rate)\n",
    "    global_steps = 0  # Count the steps (do not reset at episode start, to compute epsilon)\n",
    "    episode_rewards = []\n",
    "\n",
    "    for i in range(num_episodes):\n",
    "        steps = 0\n",
    "        state = env.reset()\n",
    "        cum_reward = 0\n",
    "        done = False\n",
    "\n",
    "        while not done:\n",
    "            \n",
    "            if show_agent:\n",
    "                env.render()\n",
    "            \n",
    "            steps += 1\n",
    "\n",
    "            eps = get_epsilon(global_steps)\n",
    "\n",
    "            action = select_action(model, state, eps)\n",
    "\n",
    "            if steps % target_update_freq == 0:\n",
    "                target_net.load_state_dict(model.state_dict())\n",
    "\n",
    "            train(model, memory, optimizer, batch_size, discount_factor, target_net)\n",
    "            next_state, reward, done, _ = env.step(action)\n",
    "            cum_reward += reward\n",
    "\n",
    "            memory.push((state, action, reward, next_state, done))\n",
    "            state = next_state\n",
    "\n",
    "            if steps >= max_steps:\n",
    "                done = True\n",
    "\n",
    "        global_steps += steps\n",
    "        episode_rewards.append(cum_reward)\n",
    "    \n",
    "    if show_agent:\n",
    "        env.close()\n",
    "\n",
    "    return episode_rewards\n",
    "\n",
    "\n",
    "def run_dqn(env, num_episodes, memory_size, num_hidden, batch_size, discount_factor, learn_rate, target_update_freq,\n",
    "            max_steps, show_agent):\n",
    "    memory = ReplayMemory(memory_size)\n",
    "    n_out = env.action_space.n\n",
    "\n",
    "    n_in = len(env.observation_space.low)\n",
    "    model = QNetwork(n_in, n_out, num_hidden)\n",
    "    target_net = QNetwork(n_in, n_out, num_hidden)\n",
    "\n",
    "    cum_reward = run_episodes(\n",
    "        train=train, model=model, memory=memory, env=env, num_episodes=num_episodes, batch_size=batch_size,\n",
    "        discount_factor=discount_factor, learn_rate=learn_rate, target_net=target_net,\n",
    "        target_update_freq=target_update_freq, max_steps=max_steps, show_agent=show_agent\n",
    "    )\n",
    "    return cum_reward"
   ]
  },
  {
   "cell_type": "markdown",
   "metadata": {},
   "source": [
    "With the main code ready, we would now like to perform some experiments. Namely, we would like to find out what kind of effect the number of steps to update the target network has on the cumulative rewards. A first way to do this is to run one agent for two different setting (namely 10 and 20) and compare the distributions over rewards obtained during training:"
   ]
  },
  {
   "cell_type": "code",
   "execution_count": 8,
   "metadata": {},
   "outputs": [
    {
     "name": "stdout",
     "output_type": "stream",
     "text": [
      "[244.0, 175.0, 343.0, 244.0, 371.0, 230.0, 251.0, 284.0, 268.0, 267.0, 231.0, 60.0, 173.0, 303.0, 310.0, 224.0, 500.0, 465.0, 249.0, 308.0]\n",
      "[194.0, 250.0, 213.0, 162.0, 203.0, 337.0, 76.0, 170.0, 208.0, 207.0, 290.0, 212.0, 232.0, 217.0, 175.0, 207.0, 179.0, 209.0, 212.0, 189.0]\n"
     ]
    }
   ],
   "source": [
    "rewards_freq_10 = run_dqn(\n",
    "    env, \n",
    "    batch_size=BATCH_SIZE,\n",
    "    num_episodes=NUM_EPISODES, \n",
    "    memory_size=MEMORY_SIZE, \n",
    "    num_hidden=NUM_HIDDEN, \n",
    "    discount_factor=DISCOUNT_FACTOR, \n",
    "    learn_rate=LEARN_RATE, \n",
    "    target_update_freq=10, \n",
    "    max_steps=MAX_STEPS,\n",
    "    show_agent=SHOW_AGENT\n",
    ")\n",
    "\n",
    "rewards_freq_20 = run_dqn(\n",
    "    env, \n",
    "    batch_size=BATCH_SIZE,\n",
    "    num_episodes=NUM_EPISODES, \n",
    "    memory_size=MEMORY_SIZE, \n",
    "    num_hidden=NUM_HIDDEN, \n",
    "    discount_factor=DISCOUNT_FACTOR, \n",
    "    learn_rate=LEARN_RATE, \n",
    "    target_update_freq=10, \n",
    "    max_steps=MAX_STEPS,\n",
    "    show_agent=SHOW_AGENT\n",
    ")\n",
    "\n",
    "# Print the last 20 rewards for both\n",
    "print(rewards_freq_10[-20:])\n",
    "print(rewards_freq_20[-20:])"
   ]
  },
  {
   "cell_type": "markdown",
   "metadata": {},
   "source": [
    "This looks relatively similar, so which approach was more successful? We can try to answer this question using the Almost Stochastic Order test (ASO). Roughly, it works by comparing the overlap of the two empricial cumulative distribution functions of scores and checking for their overlap - if one approach approach is yielding consistently higher rewards compared to the other one, they should not overlap (and the test score should be close to 0)."
   ]
  },
  {
   "cell_type": "code",
   "execution_count": 9,
   "metadata": {},
   "outputs": [
    {
     "name": "stderr",
     "output_type": "stream",
     "text": [
      "Bootstrap iterations: 100%|█████████████████████████████████████████████████████████████████████████████████████████████████████████████████████████▉| 999/1000 [00:28<00:00, 34.82it/s]\n"
     ]
    },
    {
     "data": {
      "text/plain": [
       "0.02028519498045956"
      ]
     },
     "execution_count": 9,
     "metadata": {},
     "output_type": "execute_result"
    }
   ],
   "source": [
    "aso(rewards_freq_10, rewards_freq_20, num_jobs=4, seed=SEED)"
   ]
  },
  {
   "cell_type": "markdown",
   "metadata": {},
   "source": [
    "Since the test scores is quite low, this gives us an indication that waiting 20 steps to update the target network might be beneficial! Nevertheless, this comes with a caveat - we only checked one model run per value, and neural networks are infamous for being sensitive to their random initialization. Therefore, instead of comparing the reward distributions of two single models per run, let us compare the **distribution over average rewards over multiple runs**. We start by doing 5 runs each."
   ]
  },
  {
   "cell_type": "code",
   "execution_count": 10,
   "metadata": {
    "scrolled": true
   },
   "outputs": [
    {
     "name": "stdout",
     "output_type": "stream",
     "text": [
      "Performing run #1...\n",
      "Performing run #2...\n",
      "Performing run #3...\n",
      "Performing run #4...\n",
      "Performing run #5...\n",
      "[152.92, 107.4, 135.69, 138.38, 170.26]\n",
      "[151.41, 129.96, 146.2, 96.06, 159.39]\n"
     ]
    }
   ],
   "source": [
    "reward_dist_freq_10, reward_dist_freq_20 = [], []\n",
    "\n",
    "for i in range(5):\n",
    "    print(f\"Performing run #{i+1}...\")\n",
    "    reward_dist_freq_10.append(\n",
    "        np.mean(run_dqn(\n",
    "            env, \n",
    "            batch_size=BATCH_SIZE,\n",
    "            num_episodes=NUM_EPISODES, \n",
    "            memory_size=MEMORY_SIZE, \n",
    "            num_hidden=NUM_HIDDEN, \n",
    "            discount_factor=DISCOUNT_FACTOR, \n",
    "            learn_rate=LEARN_RATE, \n",
    "            target_update_freq=10, \n",
    "            max_steps=MAX_STEPS,\n",
    "            show_agent=SHOW_AGENT\n",
    "        ))\n",
    "    )\n",
    "    reward_dist_freq_20.append(\n",
    "        np.mean(run_dqn(\n",
    "            env, \n",
    "            batch_size=BATCH_SIZE,\n",
    "            num_episodes=NUM_EPISODES, \n",
    "            memory_size=MEMORY_SIZE, \n",
    "            num_hidden=NUM_HIDDEN, \n",
    "            discount_factor=DISCOUNT_FACTOR, \n",
    "            learn_rate=LEARN_RATE, \n",
    "            target_update_freq=10, \n",
    "            max_steps=MAX_STEPS,\n",
    "            show_agent=SHOW_AGENT\n",
    "        ))\n",
    "    )\n",
    "    \n",
    "print(reward_dist_freq_10)\n",
    "print(reward_dist_freq_20)"
   ]
  },
  {
   "cell_type": "markdown",
   "metadata": {},
   "source": [
    "It can sometimes be a tricky question to decide whether one has collected enough scores to allow for meaningful comparisons, especially when this question has to be balanced against the cost of compute. When the variance in our scores is too high, we might be faced with misleading results, if it is sufficient, we run more models for no apparent reason. For this purpose, deepsig implements two different functions.\n",
    "\n",
    "First, we will take a look at bootstrap power analysis: It increases all scores in the sample by a certain factor, and then use bootstrapped versions of both samples and perform a significance test. Since the modified, new sample received a lift, the result should come out significant in most cases. If not, this is an indication that the original sample contains too much variance. Let's check that for our scores:"
   ]
  },
  {
   "cell_type": "code",
   "execution_count": 11,
   "metadata": {},
   "outputs": [
    {
     "name": "stderr",
     "output_type": "stream",
     "text": [
      "100%|█████████████████████████████████████████████████████████████████████████████████████████████████████████████████████████████████████████████| 5000/5000 [00:03<00:00, 1535.61it/s]\n"
     ]
    },
    {
     "name": "stdout",
     "output_type": "stream",
     "text": [
      "0.6594\n"
     ]
    },
    {
     "name": "stderr",
     "output_type": "stream",
     "text": [
      "100%|█████████████████████████████████████████████████████████████████████████████████████████████████████████████████████████████████████████████| 5000/5000 [00:03<00:00, 1541.85it/s]"
     ]
    },
    {
     "name": "stdout",
     "output_type": "stream",
     "text": [
      "0.5616\n"
     ]
    },
    {
     "name": "stderr",
     "output_type": "stream",
     "text": [
      "\n"
     ]
    }
   ],
   "source": [
    "print(bootstrap_power_analysis(reward_dist_freq_10, seed=SEED))\n",
    "print(bootstrap_power_analysis(reward_dist_freq_20, seed=SEED))"
   ]
  },
  {
   "cell_type": "markdown",
   "metadata": {},
   "source": [
    "These scores have a direct statistical interpretation, since they signify the *statistical power*. The higher the statistical power, the lower the probability of a Type II error or false negative, i.e. not rejecting the null hypothesis when it should be! A common rule of thumb is to thrive for a power of ~0.8, therefore we might want to collect more samples here. For instance, we could decide to collect 10 or 15 samples in total. \n",
    "\n",
    "Another, ASO-specific way to help us make that decision is the following function:\n"
   ]
  },
  {
   "cell_type": "code",
   "execution_count": 12,
   "metadata": {},
   "outputs": [
    {
     "name": "stdout",
     "output_type": "stream",
     "text": [
      "1.4142135623730951\n",
      "1.7320508075688772\n"
     ]
    }
   ],
   "source": [
    "print(aso_uncertainty_reduction(m_old=5, n_old=5, m_new=10, n_new=10))\n",
    "print(aso_uncertainty_reduction(m_old=5, n_old=5, m_new=15, n_new=15))"
   ]
  },
  {
   "cell_type": "markdown",
   "metadata": {},
   "source": [
    "Since ASO only computes the \"true\" test score value in the limit of infinitely large samples, the estimate obtained using bootstrapping has some inherent variance, which can be reduced by adding more scores to the sample. The function above compute by what factor the uncertainty in the test result is being reduced. \n",
    "\n",
    "We can thus read the above as adding five more samples reducing the uncertainty by a factor of 1.41, while adding ten more sample only reduces it by 1.73. To strike a compromise with our computational budget, we thus only add five more samples each."
   ]
  },
  {
   "cell_type": "code",
   "execution_count": 13,
   "metadata": {
    "scrolled": true
   },
   "outputs": [
    {
     "name": "stdout",
     "output_type": "stream",
     "text": [
      "Performing run #6...\n",
      "Performing run #7...\n",
      "Performing run #8...\n",
      "Performing run #9...\n",
      "Performing run #10...\n"
     ]
    }
   ],
   "source": [
    "for i in range(5):\n",
    "    print(f\"Performing run #{i+6}...\")\n",
    "    reward_dist_freq_10.append(\n",
    "        np.mean(run_dqn(\n",
    "            env, \n",
    "            batch_size=BATCH_SIZE,\n",
    "            num_episodes=NUM_EPISODES, \n",
    "            memory_size=MEMORY_SIZE, \n",
    "            num_hidden=NUM_HIDDEN, \n",
    "            discount_factor=DISCOUNT_FACTOR, \n",
    "            learn_rate=LEARN_RATE, \n",
    "            target_update_freq=10, \n",
    "            max_steps=MAX_STEPS,\n",
    "            show_agent=SHOW_AGENT\n",
    "        ))\n",
    "    )\n",
    "    reward_dist_freq_20.append(\n",
    "        np.mean(run_dqn(\n",
    "            env, \n",
    "            batch_size=BATCH_SIZE,\n",
    "            num_episodes=NUM_EPISODES, \n",
    "            memory_size=MEMORY_SIZE, \n",
    "            num_hidden=NUM_HIDDEN, \n",
    "            discount_factor=DISCOUNT_FACTOR, \n",
    "            learn_rate=LEARN_RATE, \n",
    "            target_update_freq=10, \n",
    "            max_steps=MAX_STEPS,\n",
    "            show_agent=SHOW_AGENT\n",
    "        ))\n",
    "    )"
   ]
  },
  {
   "cell_type": "markdown",
   "metadata": {},
   "source": [
    "As a sanity check, we repeat the bootstrap analysis again:"
   ]
  },
  {
   "cell_type": "code",
   "execution_count": 14,
   "metadata": {},
   "outputs": [
    {
     "name": "stderr",
     "output_type": "stream",
     "text": [
      "100%|█████████████████████████████████████████████████████████████████████████████████████████████████████████████████████████████████████████████| 5000/5000 [00:03<00:00, 1581.64it/s]\n"
     ]
    },
    {
     "name": "stdout",
     "output_type": "stream",
     "text": [
      "0.8356\n"
     ]
    },
    {
     "name": "stderr",
     "output_type": "stream",
     "text": [
      "100%|█████████████████████████████████████████████████████████████████████████████████████████████████████████████████████████████████████████████| 5000/5000 [00:03<00:00, 1594.03it/s]"
     ]
    },
    {
     "name": "stdout",
     "output_type": "stream",
     "text": [
      "0.9248\n"
     ]
    },
    {
     "name": "stderr",
     "output_type": "stream",
     "text": [
      "\n"
     ]
    }
   ],
   "source": [
    "print(bootstrap_power_analysis(reward_dist_freq_10, seed=SEED))\n",
    "print(bootstrap_power_analysis(reward_dist_freq_20, seed=SEED))"
   ]
  },
  {
   "cell_type": "markdown",
   "metadata": {},
   "source": [
    "The power has increased! We now come back to the comparison:"
   ]
  },
  {
   "cell_type": "code",
   "execution_count": 20,
   "metadata": {},
   "outputs": [
    {
     "name": "stderr",
     "output_type": "stream",
     "text": [
      "\n",
      "\n",
      "Bootstrap iterations:   0%|                                                                                                                                    | 0/1000 [00:00<?, ?it/s]\u001b[A\u001b[A\n",
      "\n",
      "Bootstrap iterations:   1%|▉                                                                                                                           | 8/1000 [00:03<06:36,  2.50it/s]\u001b[A\u001b[A\n",
      "\n",
      "Bootstrap iterations:   1%|█▍                                                                                                                         | 12/1000 [00:03<04:05,  4.02it/s]\u001b[A\u001b[A\n",
      "\n",
      "Bootstrap iterations:   2%|██▍                                                                                                                        | 20/1000 [00:03<02:01,  8.06it/s]\u001b[A\u001b[A\n",
      "\n",
      "Bootstrap iterations:   3%|███▍                                                                                                                       | 28/1000 [00:03<01:16, 12.64it/s]\u001b[A\u001b[A\n",
      "\n",
      "Bootstrap iterations:   4%|████▍                                                                                                                      | 36/1000 [00:03<00:56, 16.97it/s]\u001b[A\u001b[A\n",
      "\n",
      "Bootstrap iterations:   4%|████▉                                                                                                                      | 40/1000 [00:04<00:50, 18.99it/s]\u001b[A\u001b[A\n",
      "\n",
      "Bootstrap iterations:   5%|█████▉                                                                                                                     | 48/1000 [00:04<00:39, 24.30it/s]\u001b[A\u001b[A\n",
      "\n",
      "Bootstrap iterations:   6%|███████▍                                                                                                                   | 60/1000 [00:04<00:26, 34.82it/s]\u001b[A\u001b[A\n",
      "\n",
      "Bootstrap iterations:   7%|████████▎                                                                                                                  | 68/1000 [00:04<00:24, 37.83it/s]\u001b[A\u001b[A\n",
      "\n",
      "Bootstrap iterations:   8%|█████████▎                                                                                                                 | 76/1000 [00:04<00:24, 38.49it/s]\u001b[A\u001b[A\n",
      "\n",
      "Bootstrap iterations:   8%|██████████▎                                                                                                                | 84/1000 [00:04<00:22, 41.22it/s]\u001b[A\u001b[A\n",
      "\n",
      "Bootstrap iterations:   9%|███████████▎                                                                                                               | 92/1000 [00:05<00:21, 42.96it/s]\u001b[A\u001b[A\n",
      "\n",
      "Bootstrap iterations:  10%|████████████▏                                                                                                             | 100/1000 [00:05<00:20, 44.08it/s]\u001b[A\u001b[A\n",
      "\n",
      "Bootstrap iterations:  11%|█████████████▏                                                                                                            | 108/1000 [00:05<00:19, 44.61it/s]\u001b[A\u001b[A\n",
      "\n",
      "Bootstrap iterations:  12%|██████████████▏                                                                                                           | 116/1000 [00:05<00:19, 44.79it/s]\u001b[A\u001b[A\n",
      "\n",
      "Bootstrap iterations:  12%|███████████████▏                                                                                                          | 124/1000 [00:05<00:18, 46.56it/s]\u001b[A\u001b[A\n",
      "\n",
      "Bootstrap iterations:  13%|████████████████                                                                                                          | 132/1000 [00:05<00:18, 45.77it/s]\u001b[A\u001b[A\n",
      "\n",
      "Bootstrap iterations:  14%|█████████████████                                                                                                         | 140/1000 [00:06<00:18, 46.21it/s]\u001b[A\u001b[A\n",
      "\n",
      "Bootstrap iterations:  15%|██████████████████                                                                                                        | 148/1000 [00:06<00:18, 46.95it/s]\u001b[A\u001b[A\n",
      "\n",
      "Bootstrap iterations:  16%|███████████████████                                                                                                       | 156/1000 [00:06<00:17, 48.19it/s]\u001b[A\u001b[A\n",
      "\n",
      "Bootstrap iterations:  16%|████████████████████                                                                                                      | 164/1000 [00:06<00:17, 47.46it/s]\u001b[A\u001b[A\n",
      "\n",
      "Bootstrap iterations:  17%|████████████████████▉                                                                                                     | 172/1000 [00:06<00:18, 45.36it/s]\u001b[A\u001b[A\n",
      "\n",
      "Bootstrap iterations:  18%|█████████████████████▉                                                                                                    | 180/1000 [00:06<00:18, 45.12it/s]\u001b[A\u001b[A\n",
      "\n",
      "Bootstrap iterations:  19%|██████████████████████▉                                                                                                   | 188/1000 [00:07<00:18, 44.75it/s]\u001b[A\u001b[A\n",
      "\n",
      "Bootstrap iterations:  20%|███████████████████████▉                                                                                                  | 196/1000 [00:07<00:17, 45.37it/s]\u001b[A\u001b[A\n",
      "\n",
      "Bootstrap iterations:  20%|████████████████████████▉                                                                                                 | 204/1000 [00:07<00:17, 46.28it/s]\u001b[A\u001b[A\n",
      "\n",
      "Bootstrap iterations:  21%|█████████████████████████▊                                                                                                | 212/1000 [00:07<00:16, 46.98it/s]\u001b[A\u001b[A\n",
      "\n",
      "Bootstrap iterations:  22%|██████████████████████████▊                                                                                               | 220/1000 [00:07<00:16, 46.77it/s]\u001b[A\u001b[A\n",
      "\n",
      "Bootstrap iterations:  23%|███████████████████████████▊                                                                                              | 228/1000 [00:07<00:16, 46.95it/s]\u001b[A\u001b[A\n",
      "\n",
      "Bootstrap iterations:  24%|████████████████████████████▊                                                                                             | 236/1000 [00:08<00:16, 46.05it/s]\u001b[A\u001b[A\n",
      "\n",
      "Bootstrap iterations:  24%|█████████████████████████████▊                                                                                            | 244/1000 [00:08<00:16, 45.08it/s]\u001b[A\u001b[A\n",
      "\n",
      "Bootstrap iterations:  25%|██████████████████████████████▋                                                                                           | 252/1000 [00:08<00:16, 44.08it/s]\u001b[A\u001b[A\n",
      "\n",
      "Bootstrap iterations:  26%|███████████████████████████████▋                                                                                          | 260/1000 [00:08<00:16, 44.91it/s]\u001b[A\u001b[A\n",
      "\n",
      "Bootstrap iterations:  27%|████████████████████████████████▋                                                                                         | 268/1000 [00:08<00:16, 43.72it/s]\u001b[A\u001b[A\n",
      "\n",
      "Bootstrap iterations:  28%|█████████████████████████████████▋                                                                                        | 276/1000 [00:09<00:16, 43.73it/s]\u001b[A\u001b[A\n",
      "\n",
      "Bootstrap iterations:  28%|██████████████████████████████████▋                                                                                       | 284/1000 [00:09<00:15, 45.73it/s]\u001b[A\u001b[A\n",
      "\n",
      "Bootstrap iterations:  29%|███████████████████████████████████▌                                                                                      | 292/1000 [00:09<00:15, 47.10it/s]\u001b[A\u001b[A\n",
      "\n",
      "Bootstrap iterations:  30%|████████████████████████████████████▌                                                                                     | 300/1000 [00:09<00:15, 44.46it/s]\u001b[A\u001b[A\n",
      "\n",
      "Bootstrap iterations:  31%|█████████████████████████████████████▌                                                                                    | 308/1000 [00:09<00:16, 42.26it/s]\u001b[A\u001b[A\n",
      "\n",
      "Bootstrap iterations:  32%|██████████████████████████████████████▌                                                                                   | 316/1000 [00:10<00:16, 40.93it/s]\u001b[A\u001b[A\n",
      "\n",
      "Bootstrap iterations:  32%|███████████████████████████████████████▌                                                                                  | 324/1000 [00:10<00:16, 40.03it/s]\u001b[A\u001b[A\n",
      "\n"
     ]
    },
    {
     "name": "stderr",
     "output_type": "stream",
     "text": [
      "Bootstrap iterations:  33%|████████████████████████████████████████▌                                                                                 | 332/1000 [00:10<00:16, 39.85it/s]\u001b[A\u001b[A\n",
      "\n",
      "Bootstrap iterations:  34%|█████████████████████████████████████████▍                                                                                | 340/1000 [00:10<00:16, 39.95it/s]\u001b[A\u001b[A\n",
      "\n",
      "Bootstrap iterations:  35%|██████████████████████████████████████████▍                                                                               | 348/1000 [00:10<00:16, 40.09it/s]\u001b[A\u001b[A\n",
      "\n",
      "Bootstrap iterations:  36%|███████████████████████████████████████████▍                                                                              | 356/1000 [00:11<00:16, 38.53it/s]\u001b[A\u001b[A\n",
      "\n",
      "Bootstrap iterations:  36%|████████████████████████████████████████████▍                                                                             | 364/1000 [00:11<00:16, 38.69it/s]\u001b[A\u001b[A\n",
      "\n",
      "Bootstrap iterations:  37%|█████████████████████████████████████████████▍                                                                            | 372/1000 [00:11<00:16, 38.24it/s]\u001b[A\u001b[A\n",
      "\n",
      "Bootstrap iterations:  38%|██████████████████████████████████████████████▎                                                                           | 380/1000 [00:11<00:16, 38.21it/s]\u001b[A\u001b[A\n",
      "\n",
      "Bootstrap iterations:  39%|███████████████████████████████████████████████▎                                                                          | 388/1000 [00:11<00:16, 36.99it/s]\u001b[A\u001b[A\n",
      "\n",
      "Bootstrap iterations:  40%|████████████████████████████████████████████████▎                                                                         | 396/1000 [00:12<00:16, 36.94it/s]\u001b[A\u001b[A\n",
      "\n",
      "Bootstrap iterations:  40%|█████████████████████████████████████████████████▎                                                                        | 404/1000 [00:12<00:15, 37.31it/s]\u001b[A\u001b[A\n",
      "\n",
      "Bootstrap iterations:  41%|██████████████████████████████████████████████████▎                                                                       | 412/1000 [00:12<00:15, 37.54it/s]\u001b[A\u001b[A\n",
      "\n",
      "Bootstrap iterations:  42%|███████████████████████████████████████████████████▏                                                                      | 420/1000 [00:12<00:15, 38.05it/s]\u001b[A\u001b[A\n",
      "\n",
      "Bootstrap iterations:  43%|████████████████████████████████████████████████████▏                                                                     | 428/1000 [00:12<00:14, 38.33it/s]\u001b[A\u001b[A\n",
      "\n",
      "Bootstrap iterations:  44%|█████████████████████████████████████████████████████▏                                                                    | 436/1000 [00:13<00:14, 39.61it/s]\u001b[A\u001b[A\n",
      "\n",
      "Bootstrap iterations:  44%|██████████████████████████████████████████████████████▏                                                                   | 444/1000 [00:13<00:14, 39.46it/s]\u001b[A\u001b[A\n",
      "\n",
      "Bootstrap iterations:  45%|███████████████████████████████████████████████████████▏                                                                  | 452/1000 [00:13<00:14, 38.41it/s]\u001b[A\u001b[A\n",
      "\n",
      "Bootstrap iterations:  46%|████████████████████████████████████████████████████████                                                                  | 460/1000 [00:13<00:13, 38.87it/s]\u001b[A\u001b[A\n",
      "\n",
      "Bootstrap iterations:  47%|█████████████████████████████████████████████████████████                                                                 | 468/1000 [00:13<00:13, 38.53it/s]\u001b[A\u001b[A\n",
      "\n",
      "Bootstrap iterations:  48%|██████████████████████████████████████████████████████████                                                                | 476/1000 [00:14<00:13, 38.03it/s]\u001b[A\u001b[A\n",
      "\n",
      "Bootstrap iterations:  48%|███████████████████████████████████████████████████████████                                                               | 484/1000 [00:14<00:13, 38.39it/s]\u001b[A\u001b[A\n",
      "\n",
      "Bootstrap iterations:  49%|████████████████████████████████████████████████████████████                                                              | 492/1000 [00:14<00:13, 38.18it/s]\u001b[A\u001b[A\n",
      "\n",
      "Bootstrap iterations:  50%|█████████████████████████████████████████████████████████████                                                             | 500/1000 [00:14<00:13, 36.97it/s]\u001b[A\u001b[A\n",
      "\n",
      "Bootstrap iterations:  51%|█████████████████████████████████████████████████████████████▉                                                            | 508/1000 [00:15<00:13, 36.66it/s]\u001b[A\u001b[A\n",
      "\n",
      "Bootstrap iterations:  52%|██████████████████████████████████████████████████████████████▉                                                           | 516/1000 [00:15<00:13, 35.63it/s]\u001b[A\u001b[A\n",
      "\n",
      "Bootstrap iterations:  52%|███████████████████████████████████████████████████████████████▉                                                          | 524/1000 [00:15<00:13, 35.55it/s]\u001b[A\u001b[A\n",
      "\n",
      "Bootstrap iterations:  53%|████████████████████████████████████████████████████████████████▉                                                         | 532/1000 [00:15<00:13, 34.85it/s]\u001b[A\u001b[A\n",
      "\n",
      "Bootstrap iterations:  54%|█████████████████████████████████████████████████████████████████▉                                                        | 540/1000 [00:16<00:13, 34.26it/s]\u001b[A\u001b[A\n",
      "\n",
      "Bootstrap iterations:  55%|██████████████████████████████████████████████████████████████████▊                                                       | 548/1000 [00:16<00:13, 34.21it/s]\u001b[A\u001b[A\n",
      "\n",
      "Bootstrap iterations:  56%|███████████████████████████████████████████████████████████████████▊                                                      | 556/1000 [00:16<00:12, 35.95it/s]\u001b[A\u001b[A\n",
      "\n",
      "Bootstrap iterations:  56%|████████████████████████████████████████████████████████████████████▊                                                     | 564/1000 [00:16<00:11, 36.72it/s]\u001b[A\u001b[A\n",
      "\n",
      "Bootstrap iterations:  57%|█████████████████████████████████████████████████████████████████████▊                                                    | 572/1000 [00:16<00:11, 38.05it/s]\u001b[A\u001b[A\n",
      "\n",
      "Bootstrap iterations:  58%|██████████████████████████████████████████████████████████████████████▊                                                   | 580/1000 [00:17<00:11, 36.92it/s]\u001b[A\u001b[A\n",
      "\n",
      "Bootstrap iterations:  59%|███████████████████████████████████████████████████████████████████████▋                                                  | 588/1000 [00:17<00:11, 36.64it/s]\u001b[A\u001b[A\n",
      "\n",
      "Bootstrap iterations:  60%|████████████████████████████████████████████████████████████████████████▋                                                 | 596/1000 [00:17<00:10, 37.18it/s]\u001b[A\u001b[A\n",
      "\n",
      "Bootstrap iterations:  60%|█████████████████████████████████████████████████████████████████████████▋                                                | 604/1000 [00:17<00:10, 37.77it/s]\u001b[A\u001b[A\n",
      "\n",
      "Bootstrap iterations:  61%|██████████████████████████████████████████████████████████████████████████▋                                               | 612/1000 [00:17<00:10, 36.83it/s]\u001b[A\u001b[A\n",
      "\n",
      "Bootstrap iterations:  62%|███████████████████████████████████████████████████████████████████████████▋                                              | 620/1000 [00:18<00:10, 37.08it/s]\u001b[A\u001b[A\n",
      "\n",
      "Bootstrap iterations:  63%|████████████████████████████████████████████████████████████████████████████▌                                             | 628/1000 [00:18<00:10, 36.97it/s]\u001b[A\u001b[A\n",
      "\n",
      "Bootstrap iterations:  64%|█████████████████████████████████████████████████████████████████████████████▌                                            | 636/1000 [00:18<00:09, 37.65it/s]\u001b[A\u001b[A\n",
      "\n",
      "Bootstrap iterations:  64%|██████████████████████████████████████████████████████████████████████████████▌                                           | 644/1000 [00:18<00:09, 36.42it/s]\u001b[A\u001b[A\n",
      "\n",
      "Bootstrap iterations:  65%|███████████████████████████████████████████████████████████████████████████████▌                                          | 652/1000 [00:19<00:09, 35.37it/s]\u001b[A\u001b[A\n",
      "\n",
      "Bootstrap iterations:  66%|████████████████████████████████████████████████████████████████████████████████▌                                         | 660/1000 [00:19<00:09, 35.53it/s]\u001b[A\u001b[A\n",
      "\n"
     ]
    },
    {
     "name": "stderr",
     "output_type": "stream",
     "text": [
      "Bootstrap iterations:  67%|█████████████████████████████████████████████████████████████████████████████████▍                                        | 668/1000 [00:19<00:09, 35.37it/s]\u001b[A\u001b[A\n",
      "\n",
      "Bootstrap iterations:  68%|██████████████████████████████████████████████████████████████████████████████████▍                                       | 676/1000 [00:19<00:09, 35.51it/s]\u001b[A\u001b[A\n",
      "\n",
      "Bootstrap iterations:  68%|███████████████████████████████████████████████████████████████████████████████████▍                                      | 684/1000 [00:19<00:09, 34.84it/s]\u001b[A\u001b[A\n",
      "\n",
      "Bootstrap iterations:  69%|████████████████████████████████████████████████████████████████████████████████████▍                                     | 692/1000 [00:20<00:08, 34.41it/s]\u001b[A\u001b[A\n",
      "\n",
      "Bootstrap iterations:  70%|█████████████████████████████████████████████████████████████████████████████████████▍                                    | 700/1000 [00:20<00:08, 34.24it/s]\u001b[A\u001b[A\n",
      "\n",
      "Bootstrap iterations:  71%|██████████████████████████████████████████████████████████████████████████████████████▍                                   | 708/1000 [00:20<00:08, 33.43it/s]\u001b[A\u001b[A\n",
      "\n",
      "Bootstrap iterations:  72%|███████████████████████████████████████████████████████████████████████████████████████▎                                  | 716/1000 [00:20<00:08, 33.32it/s]\u001b[A\u001b[A\n",
      "\n",
      "Bootstrap iterations:  72%|████████████████████████████████████████████████████████████████████████████████████████▎                                 | 724/1000 [00:21<00:08, 33.09it/s]\u001b[A\u001b[A\n",
      "\n",
      "Bootstrap iterations:  73%|█████████████████████████████████████████████████████████████████████████████████████████▎                                | 732/1000 [00:21<00:08, 33.07it/s]\u001b[A\u001b[A\n",
      "\n",
      "Bootstrap iterations:  74%|██████████████████████████████████████████████████████████████████████████████████████████▎                               | 740/1000 [00:21<00:07, 33.27it/s]\u001b[A\u001b[A\n",
      "\n",
      "Bootstrap iterations:  75%|███████████████████████████████████████████████████████████████████████████████████████████▎                              | 748/1000 [00:21<00:07, 32.54it/s]\u001b[A\u001b[A\n",
      "\n",
      "Bootstrap iterations:  76%|████████████████████████████████████████████████████████████████████████████████████████████▏                             | 756/1000 [00:22<00:07, 31.57it/s]\u001b[A\u001b[A\n",
      "\n",
      "Bootstrap iterations:  76%|█████████████████████████████████████████████████████████████████████████████████████████████▏                            | 764/1000 [00:22<00:07, 31.27it/s]\u001b[A\u001b[A\n",
      "\n",
      "Bootstrap iterations:  77%|██████████████████████████████████████████████████████████████████████████████████████████████▏                           | 772/1000 [00:22<00:07, 31.79it/s]\u001b[A\u001b[A\n",
      "\n",
      "Bootstrap iterations:  78%|███████████████████████████████████████████████████████████████████████████████████████████████▏                          | 780/1000 [00:22<00:06, 32.87it/s]\u001b[A\u001b[A\n",
      "\n",
      "Bootstrap iterations:  79%|████████████████████████████████████████████████████████████████████████████████████████████████▏                         | 788/1000 [00:23<00:06, 33.30it/s]\u001b[A\u001b[A\n",
      "\n",
      "Bootstrap iterations:  80%|█████████████████████████████████████████████████████████████████████████████████████████████████                         | 796/1000 [00:23<00:06, 33.32it/s]\u001b[A\u001b[A\n",
      "\n",
      "Bootstrap iterations:  80%|██████████████████████████████████████████████████████████████████████████████████████████████████                        | 804/1000 [00:23<00:05, 33.96it/s]\u001b[A\u001b[A\n",
      "\n",
      "Bootstrap iterations:  81%|███████████████████████████████████████████████████████████████████████████████████████████████████                       | 812/1000 [00:23<00:05, 33.92it/s]\u001b[A\u001b[A\n",
      "\n",
      "Bootstrap iterations:  82%|████████████████████████████████████████████████████████████████████████████████████████████████████                      | 820/1000 [00:24<00:05, 34.78it/s]\u001b[A\u001b[A\n",
      "\n",
      "Bootstrap iterations:  83%|█████████████████████████████████████████████████████████████████████████████████████████████████████                     | 828/1000 [00:24<00:04, 35.41it/s]\u001b[A\u001b[A\n",
      "\n",
      "Bootstrap iterations:  84%|█████████████████████████████████████████████████████████████████████████████████████████████████████▉                    | 836/1000 [00:24<00:04, 36.74it/s]\u001b[A\u001b[A\n",
      "\n",
      "Bootstrap iterations:  84%|██████████████████████████████████████████████████████████████████████████████████████████████████████▉                   | 844/1000 [00:24<00:04, 38.40it/s]\u001b[A\u001b[A\n",
      "\n",
      "Bootstrap iterations:  85%|███████████████████████████████████████████████████████████████████████████████████████████████████████▉                  | 852/1000 [00:24<00:03, 38.19it/s]\u001b[A\u001b[A\n",
      "\n",
      "Bootstrap iterations:  86%|████████████████████████████████████████████████████████████████████████████████████████████████████████▉                 | 860/1000 [00:25<00:03, 37.72it/s]\u001b[A\u001b[A\n",
      "\n",
      "Bootstrap iterations:  87%|█████████████████████████████████████████████████████████████████████████████████████████████████████████▉                | 868/1000 [00:25<00:03, 36.86it/s]\u001b[A\u001b[A\n",
      "\n",
      "Bootstrap iterations:  88%|██████████████████████████████████████████████████████████████████████████████████████████████████████████▊               | 876/1000 [00:25<00:03, 38.60it/s]\u001b[A\u001b[A\n",
      "\n",
      "Bootstrap iterations:  88%|███████████████████████████████████████████████████████████████████████████████████████████████████████████▊              | 884/1000 [00:25<00:03, 38.02it/s]\u001b[A\u001b[A\n",
      "\n",
      "Bootstrap iterations:  89%|████████████████████████████████████████████████████████████████████████████████████████████████████████████▊             | 892/1000 [00:25<00:02, 38.41it/s]\u001b[A\u001b[A\n",
      "\n",
      "Bootstrap iterations:  90%|█████████████████████████████████████████████████████████████████████████████████████████████████████████████▊            | 900/1000 [00:26<00:02, 38.74it/s]\u001b[A\u001b[A\n",
      "\n",
      "Bootstrap iterations:  91%|██████████████████████████████████████████████████████████████████████████████████████████████████████████████▊           | 908/1000 [00:26<00:02, 38.16it/s]\u001b[A\u001b[A\n",
      "\n",
      "Bootstrap iterations:  92%|███████████████████████████████████████████████████████████████████████████████████████████████████████████████▊          | 916/1000 [00:26<00:02, 39.17it/s]\u001b[A\u001b[A\n",
      "\n",
      "Bootstrap iterations:  92%|████████████████████████████████████████████████████████████████████████████████████████████████████████████████▋         | 924/1000 [00:26<00:01, 39.85it/s]\u001b[A\u001b[A\n",
      "\n",
      "Bootstrap iterations:  93%|█████████████████████████████████████████████████████████████████████████████████████████████████████████████████▋        | 932/1000 [00:26<00:01, 37.75it/s]\u001b[A\u001b[A\n",
      "\n",
      "Bootstrap iterations:  94%|██████████████████████████████████████████████████████████████████████████████████████████████████████████████████▋       | 940/1000 [00:27<00:01, 36.63it/s]\u001b[A\u001b[A\n",
      "\n",
      "Bootstrap iterations:  95%|███████████████████████████████████████████████████████████████████████████████████████████████████████████████████▋      | 948/1000 [00:27<00:01, 35.72it/s]\u001b[A\u001b[A\n",
      "\n",
      "Bootstrap iterations:  96%|████████████████████████████████████████████████████████████████████████████████████████████████████████████████████▋     | 956/1000 [00:27<00:01, 35.77it/s]\u001b[A\u001b[A\n",
      "\n",
      "Bootstrap iterations:  96%|█████████████████████████████████████████████████████████████████████████████████████████████████████████████████████▌    | 964/1000 [00:27<00:00, 36.37it/s]\u001b[A\u001b[A\n",
      "\n",
      "Bootstrap iterations:  97%|██████████████████████████████████████████████████████████████████████████████████████████████████████████████████████▌   | 972/1000 [00:28<00:00, 33.55it/s]\u001b[A\u001b[A\n",
      "\n",
      "Bootstrap iterations:  98%|███████████████████████████████████████████████████████████████████████████████████████████████████████████████████████▌  | 980/1000 [00:28<00:00, 31.17it/s]\u001b[A\u001b[A\n",
      "\n",
      "Bootstrap iterations:  99%|████████████████████████████████████████████████████████████████████████████████████████████████████████████████████████▌ | 988/1000 [00:28<00:00, 30.94it/s]\u001b[A\u001b[A\n",
      "\n",
      "Bootstrap iterations: 100%|█████████████████████████████████████████████████████████████████████████████████████████████████████████████████████████▉| 999/1000 [00:29<00:00, 34.43it/s]\u001b[A\u001b[A\n"
     ]
    },
    {
     "name": "stdout",
     "output_type": "stream",
     "text": [
      "0.02028519498045956\n",
      "0.005\n"
     ]
    }
   ],
   "source": [
    "print(aso(rewards_freq_10, rewards_freq_20, num_jobs=4, seed=SEED))\n",
    "print(bootstrap_test(rewards_freq_10, rewards_freq_20, num_jobs=4, seed=SEED))"
   ]
  },
  {
   "cell_type": "markdown",
   "metadata": {},
   "source": [
    "Now we can be fairly confident in our assessment! The last part of this demo wants to demonstrate how we could facilitate comparisons between multiple models at once, for which the package also implements a specific function. Let us first train a third kind of model for a number of runs. This time, we do not vary the update frequency of the target network, but instead the discount factor. Not that there is no specific reason we test eight runs here other than two demonstrate that ASO does not require equally-sized samples:"
   ]
  },
  {
   "cell_type": "code",
   "execution_count": 16,
   "metadata": {},
   "outputs": [
    {
     "name": "stdout",
     "output_type": "stream",
     "text": [
      "Performing run #1...\n",
      "Performing run #2...\n",
      "Performing run #3...\n",
      "Performing run #4...\n",
      "Performing run #5...\n",
      "Performing run #6...\n",
      "Performing run #7...\n",
      "Performing run #8...\n"
     ]
    }
   ],
   "source": [
    "reward_dist_discount_06 = []\n",
    "\n",
    "for i in range(8):\n",
    "    print(f\"Performing run #{i+1}...\")\n",
    "    reward_dist_discount_06.append(\n",
    "        np.mean(run_dqn(\n",
    "            env, \n",
    "            batch_size=BATCH_SIZE,\n",
    "            num_episodes=NUM_EPISODES, \n",
    "            memory_size=MEMORY_SIZE, \n",
    "            num_hidden=NUM_HIDDEN, \n",
    "            discount_factor=0.6, \n",
    "            learn_rate=LEARN_RATE, \n",
    "            target_update_freq=10, \n",
    "            max_steps=MAX_STEPS,\n",
    "            show_agent=SHOW_AGENT\n",
    "        ))\n",
    "    )"
   ]
  },
  {
   "cell_type": "code",
   "execution_count": 17,
   "metadata": {},
   "outputs": [
    {
     "name": "stderr",
     "output_type": "stream",
     "text": [
      "Model comparisons: 100%|███████████████████████████████████████████████████████████████████████████████████████████████████████████████████████████▌| 2990/3000 [01:11<00:00, 32.50it/s]"
     ]
    },
    {
     "data": {
      "text/plain": [
       "array([[1., 1., 0.],\n",
       "       [0., 1., 0.],\n",
       "       [1., 1., 1.]])"
      ]
     },
     "execution_count": 17,
     "metadata": {},
     "output_type": "execute_result"
    }
   ],
   "source": [
    "multi_aso([reward_dist_freq_10, reward_dist_freq_20, reward_dist_discount_06], num_jobs=4, seed=SEED)"
   ]
  },
  {
   "cell_type": "markdown",
   "metadata": {},
   "source": [
    "We can read this result as the violation ratio of <row> compared  to <column> is value. Note that by suppling a dictionary as an argument and using `return_df=True`, we can output the result in a more readable form:"
   ]
  },
  {
   "cell_type": "code",
   "execution_count": 18,
   "metadata": {},
   "outputs": [
    {
     "name": "stderr",
     "output_type": "stream",
     "text": [
      "\n",
      "Model comparisons:   0%|                                                                                                                                       | 0/3000 [00:00<?, ?it/s]\u001b[A\n",
      "Model comparisons:   0%|▎                                                                                                                              | 8/3000 [00:00<00:56, 52.84it/s]\u001b[A\n",
      "Model comparisons:   1%|█                                                                                                                             | 24/3000 [00:00<00:53, 55.35it/s]\u001b[A\n",
      "Model comparisons:   1%|█▎                                                                                                                            | 32/3000 [00:00<00:59, 50.13it/s]\u001b[A\n",
      "Model comparisons:   1%|█▋                                                                                                                            | 40/3000 [00:00<01:03, 46.38it/s]\u001b[A\n",
      "Model comparisons:   2%|██                                                                                                                            | 48/3000 [00:01<01:04, 45.82it/s]\u001b[A\n",
      "Model comparisons:   2%|██▎                                                                                                                           | 56/3000 [00:01<01:08, 42.94it/s]\u001b[A\n",
      "Model comparisons:   2%|██▋                                                                                                                           | 64/3000 [00:01<01:11, 40.79it/s]\u001b[A\n",
      "Model comparisons:   2%|███                                                                                                                           | 72/3000 [00:01<01:13, 40.02it/s]\u001b[A\n",
      "Model comparisons:   3%|███▎                                                                                                                          | 80/3000 [00:01<01:13, 39.67it/s]\u001b[A\n",
      "Model comparisons:   3%|███▋                                                                                                                          | 88/3000 [00:02<01:19, 36.86it/s]\u001b[A\n",
      "Model comparisons:   3%|████                                                                                                                          | 96/3000 [00:02<01:21, 35.57it/s]\u001b[A\n",
      "Model comparisons:   3%|████▎                                                                                                                        | 104/3000 [00:02<01:19, 36.52it/s]\u001b[A\n",
      "Model comparisons:   4%|████▋                                                                                                                        | 112/3000 [00:02<01:23, 34.73it/s]\u001b[A\n",
      "Model comparisons:   4%|█████                                                                                                                        | 120/3000 [00:03<01:28, 32.58it/s]\u001b[A\n",
      "Model comparisons:   4%|█████▎                                                                                                                       | 128/3000 [00:03<01:28, 32.30it/s]\u001b[A\n",
      "Model comparisons:   5%|█████▋                                                                                                                       | 136/3000 [00:03<01:29, 32.00it/s]\u001b[A\n",
      "Model comparisons:   5%|██████                                                                                                                       | 144/3000 [00:03<01:27, 32.51it/s]\u001b[A\n",
      "Model comparisons:   5%|██████▎                                                                                                                      | 152/3000 [00:04<01:26, 32.82it/s]\u001b[A\n",
      "Model comparisons:   5%|██████▋                                                                                                                      | 160/3000 [00:04<01:20, 35.50it/s]\u001b[A\n",
      "Model comparisons:   6%|███████                                                                                                                      | 168/3000 [00:04<01:13, 38.62it/s]\u001b[A\n",
      "Model comparisons:   6%|███████▎                                                                                                                     | 176/3000 [00:04<01:09, 40.73it/s]\u001b[A\n",
      "Model comparisons:   6%|███████▋                                                                                                                     | 184/3000 [00:04<01:05, 42.86it/s]\u001b[A\n",
      "Model comparisons:   6%|████████                                                                                                                     | 192/3000 [00:04<01:06, 42.32it/s]\u001b[A\n",
      "Model comparisons:   7%|████████▎                                                                                                                    | 200/3000 [00:05<01:03, 44.26it/s]\u001b[A\n",
      "Model comparisons:   7%|████████▋                                                                                                                    | 208/3000 [00:05<01:02, 44.42it/s]\u001b[A\n",
      "Model comparisons:   7%|█████████                                                                                                                    | 216/3000 [00:05<01:01, 45.37it/s]\u001b[A\n",
      "Model comparisons:   7%|█████████▎                                                                                                                   | 224/3000 [00:05<01:02, 44.61it/s]\u001b[A\n",
      "Model comparisons:   8%|█████████▋                                                                                                                   | 232/3000 [00:05<01:02, 44.62it/s]\u001b[A\n",
      "Model comparisons:   8%|██████████                                                                                                                   | 240/3000 [00:05<01:01, 45.16it/s]\u001b[A\n",
      "Model comparisons:   8%|██████████▎                                                                                                                  | 248/3000 [00:06<01:02, 43.76it/s]\u001b[A\n",
      "Model comparisons:   9%|██████████▋                                                                                                                  | 256/3000 [00:06<01:05, 42.21it/s]\u001b[A\n",
      "Model comparisons:   9%|███████████                                                                                                                  | 264/3000 [00:06<01:03, 42.83it/s]\u001b[A\n",
      "Model comparisons:   9%|███████████▎                                                                                                                 | 272/3000 [00:06<01:03, 42.74it/s]\u001b[A\n",
      "Model comparisons:   9%|███████████▋                                                                                                                 | 280/3000 [00:06<01:04, 42.25it/s]\u001b[A\n",
      "Model comparisons:  10%|████████████                                                                                                                 | 288/3000 [00:07<01:01, 44.18it/s]\u001b[A\n",
      "Model comparisons:  10%|████████████▎                                                                                                                | 296/3000 [00:07<00:59, 45.20it/s]\u001b[A\n",
      "Model comparisons:  10%|████████████▋                                                                                                                | 304/3000 [00:07<00:57, 46.76it/s]\u001b[A\n",
      "Model comparisons:  10%|█████████████                                                                                                                | 312/3000 [00:07<00:57, 46.84it/s]\u001b[A\n",
      "Model comparisons:  11%|█████████████▎                                                                                                               | 320/3000 [00:07<00:59, 45.02it/s]\u001b[A\n",
      "Model comparisons:  11%|█████████████▋                                                                                                               | 328/3000 [00:08<01:01, 43.60it/s]\u001b[A\n",
      "Model comparisons:  11%|██████████████                                                                                                               | 336/3000 [00:08<01:01, 43.40it/s]\u001b[A\n",
      "Model comparisons:  11%|██████████████▎                                                                                                              | 344/3000 [00:08<01:00, 44.06it/s]\u001b[A\n"
     ]
    },
    {
     "name": "stderr",
     "output_type": "stream",
     "text": [
      "Model comparisons:  12%|██████████████▋                                                                                                              | 352/3000 [00:08<00:59, 44.18it/s]\u001b[A\n",
      "Model comparisons:  12%|███████████████                                                                                                              | 360/3000 [00:08<00:58, 45.25it/s]\u001b[A\n",
      "Model comparisons:  12%|███████████████▎                                                                                                             | 368/3000 [00:08<00:58, 45.21it/s]\u001b[A\n",
      "Model comparisons:  13%|███████████████▋                                                                                                             | 376/3000 [00:09<00:59, 43.83it/s]\u001b[A\n",
      "Model comparisons:  13%|████████████████                                                                                                             | 384/3000 [00:09<01:00, 43.42it/s]\u001b[A\n",
      "Model comparisons:  13%|████████████████▎                                                                                                            | 392/3000 [00:09<00:58, 44.71it/s]\u001b[A\n",
      "Model comparisons:  13%|████████████████▋                                                                                                            | 400/3000 [00:09<00:59, 43.87it/s]\u001b[A\n",
      "Model comparisons:  14%|█████████████████                                                                                                            | 408/3000 [00:09<01:00, 42.81it/s]\u001b[A\n",
      "Model comparisons:  14%|█████████████████▎                                                                                                           | 416/3000 [00:10<00:59, 43.41it/s]\u001b[A\n",
      "Model comparisons:  14%|█████████████████▋                                                                                                           | 424/3000 [00:10<01:02, 41.12it/s]\u001b[A\n",
      "Model comparisons:  14%|██████████████████                                                                                                           | 432/3000 [00:10<01:06, 38.54it/s]\u001b[A\n",
      "Model comparisons:  15%|██████████████████▎                                                                                                          | 440/3000 [00:10<01:13, 34.71it/s]\u001b[A\n",
      "Model comparisons:  15%|██████████████████▋                                                                                                          | 448/3000 [00:10<01:13, 34.69it/s]\u001b[A\n",
      "Model comparisons:  15%|███████████████████                                                                                                          | 456/3000 [00:11<01:12, 34.88it/s]\u001b[A\n",
      "Model comparisons:  15%|███████████████████▎                                                                                                         | 464/3000 [00:11<01:08, 37.18it/s]\u001b[A\n",
      "Model comparisons:  16%|███████████████████▋                                                                                                         | 472/3000 [00:11<01:05, 38.71it/s]\u001b[A\n",
      "Model comparisons:  16%|████████████████████                                                                                                         | 480/3000 [00:11<01:02, 40.13it/s]\u001b[A\n",
      "Model comparisons: 100%|███████████████████████████████████████████████████████████████████████████████████████████████████████████████████████████▉| 2997/3000 [01:24<00:00, 32.50it/s]\u001b[A\n",
      "Model comparisons:  17%|████████████████████▋                                                                                                        | 496/3000 [00:12<00:59, 41.86it/s]\u001b[A\n",
      "Model comparisons:  17%|█████████████████████                                                                                                        | 504/3000 [00:12<00:57, 43.13it/s]\u001b[A\n",
      "Model comparisons:  17%|█████████████████████▎                                                                                                       | 512/3000 [00:12<00:57, 43.64it/s]\u001b[A\n",
      "Model comparisons:  17%|█████████████████████▋                                                                                                       | 520/3000 [00:12<00:56, 43.64it/s]\u001b[A\n",
      "Model comparisons:  18%|██████████████████████                                                                                                       | 528/3000 [00:12<00:57, 43.34it/s]\u001b[A\n",
      "Model comparisons:  18%|██████████████████████▎                                                                                                      | 536/3000 [00:13<00:55, 44.49it/s]\u001b[A\n",
      "Model comparisons:  18%|██████████████████████▋                                                                                                      | 544/3000 [00:13<00:54, 44.91it/s]\u001b[A\n",
      "Model comparisons:  18%|███████████████████████                                                                                                      | 552/3000 [00:13<00:53, 46.01it/s]\u001b[A\n",
      "Model comparisons:  19%|███████████████████████▎                                                                                                     | 560/3000 [00:13<00:51, 47.11it/s]\u001b[A\n",
      "Model comparisons:  19%|███████████████████████▋                                                                                                     | 568/3000 [00:13<00:51, 47.64it/s]\u001b[A\n",
      "Model comparisons:  19%|████████████████████████                                                                                                     | 576/3000 [00:13<00:51, 46.85it/s]\u001b[A\n",
      "Model comparisons:  19%|████████████████████████▎                                                                                                    | 584/3000 [00:14<00:54, 44.66it/s]\u001b[A\n",
      "Model comparisons:  20%|████████████████████████▋                                                                                                    | 592/3000 [00:14<00:55, 43.60it/s]\u001b[A\n",
      "Model comparisons:  20%|█████████████████████████                                                                                                    | 600/3000 [00:14<00:54, 43.65it/s]\u001b[A\n",
      "Model comparisons:  20%|█████████████████████████▎                                                                                                   | 608/3000 [00:14<00:54, 44.28it/s]\u001b[A\n",
      "Model comparisons:  21%|█████████████████████████▋                                                                                                   | 616/3000 [00:14<00:51, 46.06it/s]\u001b[A\n",
      "Model comparisons:  21%|██████████████████████████                                                                                                   | 624/3000 [00:14<00:50, 47.43it/s]\u001b[A\n",
      "Model comparisons:  21%|██████████████████████████▎                                                                                                  | 632/3000 [00:15<00:50, 47.32it/s]\u001b[A\n",
      "Model comparisons:  21%|██████████████████████████▋                                                                                                  | 640/3000 [00:15<00:49, 47.69it/s]\u001b[A\n",
      "Model comparisons:  22%|███████████████████████████                                                                                                  | 648/3000 [00:15<00:51, 45.62it/s]\u001b[A\n",
      "Model comparisons:  22%|███████████████████████████▎                                                                                                 | 656/3000 [00:15<00:51, 45.74it/s]\u001b[A\n",
      "Model comparisons:  22%|███████████████████████████▋                                                                                                 | 664/3000 [00:15<00:50, 45.90it/s]\u001b[A\n",
      "Model comparisons:  22%|████████████████████████████                                                                                                 | 672/3000 [00:15<00:49, 46.65it/s]\u001b[A\n",
      "Model comparisons:  23%|████████████████████████████▎                                                                                                | 680/3000 [00:16<00:49, 46.87it/s]\u001b[A\n",
      "Model comparisons:  23%|████████████████████████████▋                                                                                                | 688/3000 [00:16<00:48, 47.90it/s]\u001b[A\n"
     ]
    },
    {
     "name": "stderr",
     "output_type": "stream",
     "text": [
      "Model comparisons:  23%|█████████████████████████████                                                                                                | 696/3000 [00:16<00:48, 47.07it/s]\u001b[A\n",
      "Model comparisons:  23%|█████████████████████████████▎                                                                                               | 704/3000 [00:16<00:47, 48.00it/s]\u001b[A\n",
      "Model comparisons:  24%|█████████████████████████████▋                                                                                               | 712/3000 [00:16<00:50, 45.31it/s]\u001b[A\n",
      "Model comparisons:  24%|██████████████████████████████                                                                                               | 720/3000 [00:16<00:50, 45.39it/s]\u001b[A\n",
      "Model comparisons:  24%|██████████████████████████████▎                                                                                              | 728/3000 [00:17<00:49, 46.35it/s]\u001b[A\n",
      "Model comparisons:  25%|██████████████████████████████▋                                                                                              | 736/3000 [00:17<00:48, 47.05it/s]\u001b[A\n",
      "Model comparisons:  25%|███████████████████████████████                                                                                              | 744/3000 [00:17<00:47, 47.48it/s]\u001b[A\n",
      "Model comparisons:  25%|███████████████████████████████▎                                                                                             | 752/3000 [00:17<00:47, 47.44it/s]\u001b[A\n",
      "Model comparisons:  25%|███████████████████████████████▋                                                                                             | 760/3000 [00:17<00:48, 46.38it/s]\u001b[A\n",
      "Model comparisons:  26%|████████████████████████████████                                                                                             | 768/3000 [00:18<00:50, 44.17it/s]\u001b[A\n",
      "Model comparisons:  26%|████████████████████████████████▎                                                                                            | 776/3000 [00:18<00:52, 42.57it/s]\u001b[A\n",
      "Model comparisons:  26%|████████████████████████████████▋                                                                                            | 784/3000 [00:18<00:55, 40.00it/s]\u001b[A\n",
      "Model comparisons:  26%|█████████████████████████████████                                                                                            | 792/3000 [00:18<01:00, 36.68it/s]\u001b[A\n",
      "Model comparisons:  27%|█████████████████████████████████▎                                                                                           | 800/3000 [00:18<01:01, 35.71it/s]\u001b[A\n",
      "Model comparisons:  27%|█████████████████████████████████▋                                                                                           | 808/3000 [00:19<00:57, 37.98it/s]\u001b[A\n",
      "Model comparisons:  27%|██████████████████████████████████                                                                                           | 816/3000 [00:19<00:59, 36.92it/s]\u001b[A\n",
      "Model comparisons:  27%|██████████████████████████████████▎                                                                                          | 824/3000 [00:19<00:54, 40.12it/s]\u001b[A\n",
      "Model comparisons:  28%|██████████████████████████████████▋                                                                                          | 832/3000 [00:19<00:51, 42.09it/s]\u001b[A\n",
      "Model comparisons:  28%|███████████████████████████████████                                                                                          | 840/3000 [00:19<00:52, 41.40it/s]\u001b[A\n",
      "Model comparisons:  28%|███████████████████████████████████▎                                                                                         | 848/3000 [00:20<00:53, 40.12it/s]\u001b[A\n",
      "Model comparisons:  29%|███████████████████████████████████▋                                                                                         | 856/3000 [00:20<00:53, 40.23it/s]\u001b[A\n",
      "Model comparisons:  29%|████████████████████████████████████                                                                                         | 864/3000 [00:20<00:50, 42.06it/s]\u001b[A\n",
      "Model comparisons:  29%|████████████████████████████████████▎                                                                                        | 872/3000 [00:20<00:47, 44.48it/s]\u001b[A\n",
      "Model comparisons:  29%|████████████████████████████████████▋                                                                                        | 880/3000 [00:20<00:46, 46.01it/s]\u001b[A\n",
      "Model comparisons:  30%|█████████████████████████████████████                                                                                        | 888/3000 [00:20<00:43, 48.31it/s]\u001b[A\n",
      "Model comparisons:  30%|█████████████████████████████████████▎                                                                                       | 896/3000 [00:21<00:42, 49.99it/s]\u001b[A\n",
      "Model comparisons:  30%|█████████████████████████████████████▋                                                                                       | 904/3000 [00:21<00:45, 46.17it/s]\u001b[A\n",
      "Model comparisons:  30%|██████████████████████████████████████                                                                                       | 912/3000 [00:21<00:46, 45.06it/s]\u001b[A\n",
      "Model comparisons:  31%|██████████████████████████████████████▎                                                                                      | 920/3000 [00:21<00:43, 47.59it/s]\u001b[A\n",
      "Model comparisons:  31%|██████████████████████████████████████▋                                                                                      | 928/3000 [00:21<00:43, 47.70it/s]\u001b[A\n",
      "Model comparisons:  31%|███████████████████████████████████████                                                                                      | 936/3000 [00:21<00:44, 46.84it/s]\u001b[A\n",
      "Model comparisons:  31%|███████████████████████████████████████▎                                                                                     | 944/3000 [00:22<00:43, 46.93it/s]\u001b[A\n",
      "Model comparisons:  32%|███████████████████████████████████████▋                                                                                     | 952/3000 [00:22<00:42, 48.20it/s]\u001b[A\n",
      "Model comparisons:  32%|████████████████████████████████████████                                                                                     | 960/3000 [00:22<00:41, 49.11it/s]\u001b[A\n",
      "Model comparisons:  32%|████████████████████████████████████████▎                                                                                    | 968/3000 [00:22<00:41, 48.98it/s]\u001b[A\n",
      "Model comparisons:  33%|████████████████████████████████████████▋                                                                                    | 976/3000 [00:22<00:40, 49.39it/s]\u001b[A\n",
      "Model comparisons:  33%|█████████████████████████████████████████                                                                                    | 984/3000 [00:22<00:39, 50.41it/s]\u001b[A\n",
      "Model comparisons:  33%|█████████████████████████████████████████▎                                                                                   | 992/3000 [00:23<00:39, 51.06it/s]\u001b[A\n",
      "Model comparisons:  33%|█████████████████████████████████████████▎                                                                                  | 1000/3000 [00:23<01:00, 32.94it/s]\u001b[A\n",
      "Model comparisons:  34%|█████████████████████████████████████████▉                                                                                  | 1015/3000 [00:23<00:44, 45.09it/s]\u001b[A\n",
      "Model comparisons:  34%|██████████████████████████████████████████▎                                                                                 | 1023/3000 [00:23<00:42, 46.78it/s]\u001b[A\n",
      "Model comparisons:  34%|██████████████████████████████████████████▌                                                                                 | 1031/3000 [00:24<00:41, 47.79it/s]\u001b[A\n",
      "Model comparisons:  35%|██████████████████████████████████████████▉                                                                                 | 1039/3000 [00:24<00:41, 47.03it/s]\u001b[A\n"
     ]
    },
    {
     "name": "stderr",
     "output_type": "stream",
     "text": [
      "Model comparisons:  35%|███████████████████████████████████████████▎                                                                                | 1047/3000 [00:24<00:40, 47.86it/s]\u001b[A\n",
      "Model comparisons:  35%|███████████████████████████████████████████▌                                                                                | 1055/3000 [00:24<00:39, 49.74it/s]\u001b[A\n",
      "Model comparisons:  35%|███████████████████████████████████████████▉                                                                                | 1063/3000 [00:24<00:37, 52.08it/s]\u001b[A\n",
      "Model comparisons:  36%|████████████████████████████████████████████▎                                                                               | 1071/3000 [00:24<00:36, 52.56it/s]\u001b[A\n",
      "Model comparisons:  36%|████████████████████████████████████████████▌                                                                               | 1079/3000 [00:24<00:36, 52.60it/s]\u001b[A\n",
      "Model comparisons:  36%|████████████████████████████████████████████▉                                                                               | 1087/3000 [00:25<00:36, 53.13it/s]\u001b[A\n",
      "Model comparisons:  36%|█████████████████████████████████████████████▎                                                                              | 1095/3000 [00:25<00:35, 53.92it/s]\u001b[A\n",
      "Model comparisons:  37%|█████████████████████████████████████████████▌                                                                              | 1103/3000 [00:25<00:36, 51.93it/s]\u001b[A\n",
      "Model comparisons:  37%|█████████████████████████████████████████████▉                                                                              | 1111/3000 [00:25<00:36, 51.82it/s]\u001b[A\n",
      "Model comparisons:  37%|██████████████████████████████████████████████▎                                                                             | 1119/3000 [00:25<00:35, 52.98it/s]\u001b[A\n",
      "Model comparisons:  38%|██████████████████████████████████████████████▌                                                                             | 1127/3000 [00:25<00:34, 54.17it/s]\u001b[A\n",
      "Model comparisons:  38%|██████████████████████████████████████████████▉                                                                             | 1135/3000 [00:25<00:33, 55.41it/s]\u001b[A\n",
      "Model comparisons:  38%|███████████████████████████████████████████████▏                                                                            | 1143/3000 [00:26<00:32, 56.60it/s]\u001b[A\n",
      "Model comparisons:  38%|███████████████████████████████████████████████▌                                                                            | 1151/3000 [00:26<00:34, 53.50it/s]\u001b[A\n",
      "Model comparisons:  39%|███████████████████████████████████████████████▉                                                                            | 1159/3000 [00:26<00:35, 52.55it/s]\u001b[A\n",
      "Model comparisons:  39%|████████████████████████████████████████████████▏                                                                           | 1167/3000 [00:26<00:34, 53.90it/s]\u001b[A\n",
      "Model comparisons:  39%|████████████████████████████████████████████████▌                                                                           | 1175/3000 [00:26<00:34, 53.50it/s]\u001b[A\n",
      "Model comparisons:  39%|████████████████████████████████████████████████▉                                                                           | 1183/3000 [00:26<00:33, 54.09it/s]\u001b[A\n",
      "Model comparisons:  40%|█████████████████████████████████████████████████▏                                                                          | 1191/3000 [00:27<00:34, 53.10it/s]\u001b[A\n",
      "Model comparisons:  40%|█████████████████████████████████████████████████▌                                                                          | 1199/3000 [00:27<00:33, 53.96it/s]\u001b[A\n",
      "Model comparisons:  40%|█████████████████████████████████████████████████▉                                                                          | 1207/3000 [00:27<00:33, 53.50it/s]\u001b[A\n",
      "Model comparisons:  40%|██████████████████████████████████████████████████▏                                                                         | 1215/3000 [00:27<00:34, 51.52it/s]\u001b[A\n",
      "Model comparisons:  41%|██████████████████████████████████████████████████▌                                                                         | 1223/3000 [00:27<00:35, 50.56it/s]\u001b[A\n",
      "Model comparisons:  41%|██████████████████████████████████████████████████▉                                                                         | 1231/3000 [00:27<00:35, 50.32it/s]\u001b[A\n",
      "Model comparisons:  41%|███████████████████████████████████████████████████▏                                                                        | 1239/3000 [00:27<00:34, 50.33it/s]\u001b[A\n",
      "Model comparisons:  42%|███████████████████████████████████████████████████▌                                                                        | 1247/3000 [00:28<00:34, 50.61it/s]\u001b[A\n",
      "Model comparisons:  42%|███████████████████████████████████████████████████▊                                                                        | 1255/3000 [00:28<00:34, 50.82it/s]\u001b[A\n",
      "Model comparisons:  42%|████████████████████████████████████████████████████▏                                                                       | 1263/3000 [00:28<00:35, 48.66it/s]\u001b[A\n",
      "Model comparisons:  42%|████████████████████████████████████████████████████▌                                                                       | 1271/3000 [00:28<00:35, 48.14it/s]\u001b[A\n",
      "Model comparisons:  43%|████████████████████████████████████████████████████▊                                                                       | 1279/3000 [00:28<00:34, 50.09it/s]\u001b[A\n",
      "Model comparisons:  43%|█████████████████████████████████████████████████████▏                                                                      | 1287/3000 [00:28<00:34, 49.91it/s]\u001b[A\n",
      "Model comparisons:  43%|█████████████████████████████████████████████████████▌                                                                      | 1295/3000 [00:29<00:34, 49.95it/s]\u001b[A\n",
      "Model comparisons:  43%|█████████████████████████████████████████████████████▊                                                                      | 1303/3000 [00:29<00:33, 51.05it/s]\u001b[A\n",
      "Model comparisons:  44%|██████████████████████████████████████████████████████▏                                                                     | 1311/3000 [00:29<00:35, 47.28it/s]\u001b[A\n",
      "Model comparisons:  44%|██████████████████████████████████████████████████████▌                                                                     | 1319/3000 [00:29<00:35, 47.72it/s]\u001b[A\n",
      "Model comparisons:  44%|██████████████████████████████████████████████████████▊                                                                     | 1327/3000 [00:29<00:40, 41.22it/s]\u001b[A\n",
      "Model comparisons:  44%|███████████████████████████████████████████████████████▏                                                                    | 1335/3000 [00:30<00:44, 37.75it/s]\u001b[A\n",
      "Model comparisons:  45%|███████████████████████████████████████████████████████▌                                                                    | 1343/3000 [00:30<00:42, 39.25it/s]\u001b[A\n",
      "Model comparisons:  45%|███████████████████████████████████████████████████████▊                                                                    | 1351/3000 [00:30<00:41, 39.43it/s]\u001b[A\n",
      "Model comparisons:  45%|████████████████████████████████████████████████████████▏                                                                   | 1359/3000 [00:30<00:39, 41.09it/s]\u001b[A\n",
      "Model comparisons:  46%|████████████████████████████████████████████████████████▌                                                                   | 1367/3000 [00:30<00:37, 43.31it/s]\u001b[A\n",
      "Model comparisons:  46%|████████████████████████████████████████████████████████▊                                                                   | 1375/3000 [00:30<00:35, 45.30it/s]\u001b[A\n",
      "Model comparisons:  46%|█████████████████████████████████████████████████████████▏                                                                  | 1383/3000 [00:31<00:34, 46.34it/s]\u001b[A\n"
     ]
    },
    {
     "name": "stderr",
     "output_type": "stream",
     "text": [
      "Model comparisons:  46%|█████████████████████████████████████████████████████████▍                                                                  | 1391/3000 [00:31<00:34, 46.51it/s]\u001b[A\n",
      "Model comparisons:  47%|█████████████████████████████████████████████████████████▊                                                                  | 1399/3000 [00:31<00:34, 45.80it/s]\u001b[A\n",
      "Model comparisons:  47%|██████████████████████████████████████████████████████████▏                                                                 | 1407/3000 [00:31<00:34, 46.61it/s]\u001b[A\n",
      "Model comparisons:  47%|██████████████████████████████████████████████████████████▍                                                                 | 1415/3000 [00:31<00:33, 47.38it/s]\u001b[A\n",
      "Model comparisons:  47%|██████████████████████████████████████████████████████████▊                                                                 | 1423/3000 [00:31<00:32, 48.16it/s]\u001b[A\n",
      "Model comparisons:  48%|███████████████████████████████████████████████████████████▏                                                                | 1431/3000 [00:32<00:32, 48.81it/s]\u001b[A\n",
      "Model comparisons:  48%|███████████████████████████████████████████████████████████▍                                                                | 1439/3000 [00:32<00:33, 46.60it/s]\u001b[A\n",
      "Model comparisons:  48%|███████████████████████████████████████████████████████████▊                                                                | 1447/3000 [00:32<00:34, 45.48it/s]\u001b[A\n",
      "Model comparisons:  48%|████████████████████████████████████████████████████████████▏                                                               | 1455/3000 [00:32<00:34, 45.26it/s]\u001b[A\n",
      "Model comparisons:  49%|████████████████████████████████████████████████████████████▍                                                               | 1463/3000 [00:32<00:35, 43.69it/s]\u001b[A\n",
      "Model comparisons:  49%|████████████████████████████████████████████████████████████▊                                                               | 1471/3000 [00:33<00:33, 45.77it/s]\u001b[A\n",
      "Model comparisons:  49%|█████████████████████████████████████████████████████████████▏                                                              | 1479/3000 [00:33<00:33, 45.75it/s]\u001b[A\n",
      "Model comparisons:  50%|█████████████████████████████████████████████████████████████▍                                                              | 1487/3000 [00:33<00:32, 46.39it/s]\u001b[A\n",
      "Model comparisons:  50%|█████████████████████████████████████████████████████████████▊                                                              | 1495/3000 [00:33<00:32, 46.60it/s]\u001b[A\n",
      "Model comparisons:  50%|██████████████████████████████████████████████████████████████                                                              | 1503/3000 [00:33<00:31, 46.95it/s]\u001b[A\n",
      "Model comparisons:  50%|██████████████████████████████████████████████████████████████▍                                                             | 1511/3000 [00:33<00:31, 47.60it/s]\u001b[A\n",
      "Model comparisons:  51%|██████████████████████████████████████████████████████████████▊                                                             | 1519/3000 [00:34<00:30, 47.94it/s]\u001b[A\n",
      "Model comparisons:  51%|███████████████████████████████████████████████████████████████                                                             | 1527/3000 [00:34<00:30, 47.89it/s]\u001b[A\n",
      "Model comparisons:  51%|███████████████████████████████████████████████████████████████▍                                                            | 1535/3000 [00:34<00:32, 44.61it/s]\u001b[A\n",
      "Model comparisons:  51%|███████████████████████████████████████████████████████████████▊                                                            | 1543/3000 [00:34<00:31, 46.81it/s]\u001b[A\n",
      "Model comparisons:  52%|████████████████████████████████████████████████████████████████                                                            | 1551/3000 [00:34<00:30, 47.38it/s]\u001b[A\n",
      "Model comparisons:  52%|████████████████████████████████████████████████████████████████▍                                                           | 1559/3000 [00:34<00:29, 48.64it/s]\u001b[A\n",
      "Model comparisons:  52%|████████████████████████████████████████████████████████████████▊                                                           | 1567/3000 [00:35<00:29, 48.95it/s]\u001b[A\n",
      "Model comparisons:  52%|█████████████████████████████████████████████████████████████████                                                           | 1575/3000 [00:35<00:29, 48.70it/s]\u001b[A\n",
      "Model comparisons:  53%|█████████████████████████████████████████████████████████████████▍                                                          | 1583/3000 [00:35<00:28, 49.31it/s]\u001b[A\n",
      "Model comparisons:  53%|█████████████████████████████████████████████████████████████████▊                                                          | 1591/3000 [00:35<00:27, 51.27it/s]\u001b[A\n",
      "Model comparisons:  53%|██████████████████████████████████████████████████████████████████                                                          | 1599/3000 [00:35<00:26, 52.22it/s]\u001b[A\n",
      "Model comparisons:  54%|██████████████████████████████████████████████████████████████████▍                                                         | 1607/3000 [00:35<00:26, 51.61it/s]\u001b[A\n",
      "Model comparisons:  54%|██████████████████████████████████████████████████████████████████▊                                                         | 1615/3000 [00:36<00:27, 50.64it/s]\u001b[A\n",
      "Model comparisons:  54%|███████████████████████████████████████████████████████████████████                                                         | 1623/3000 [00:36<00:26, 51.60it/s]\u001b[A\n",
      "Model comparisons:  54%|███████████████████████████████████████████████████████████████████▍                                                        | 1631/3000 [00:36<00:26, 52.65it/s]\u001b[A\n",
      "Model comparisons:  55%|███████████████████████████████████████████████████████████████████▋                                                        | 1639/3000 [00:36<00:26, 52.25it/s]\u001b[A\n",
      "Model comparisons:  55%|████████████████████████████████████████████████████████████████████                                                        | 1647/3000 [00:36<00:26, 50.26it/s]\u001b[A\n",
      "Model comparisons:  55%|████████████████████████████████████████████████████████████████████▍                                                       | 1655/3000 [00:36<00:26, 50.54it/s]\u001b[A\n",
      "Model comparisons:  55%|████████████████████████████████████████████████████████████████████▋                                                       | 1663/3000 [00:37<00:29, 45.67it/s]\u001b[A\n",
      "Model comparisons:  56%|█████████████████████████████████████████████████████████████████████                                                       | 1671/3000 [00:37<00:30, 43.76it/s]\u001b[A\n",
      "Model comparisons:  56%|█████████████████████████████████████████████████████████████████████▍                                                      | 1679/3000 [00:37<00:30, 42.89it/s]\u001b[A\n",
      "Model comparisons:  56%|█████████████████████████████████████████████████████████████████████▋                                                      | 1687/3000 [00:37<00:30, 42.81it/s]\u001b[A\n",
      "Model comparisons:  56%|██████████████████████████████████████████████████████████████████████                                                      | 1695/3000 [00:37<00:30, 43.45it/s]\u001b[A\n",
      "Model comparisons:  57%|██████████████████████████████████████████████████████████████████████▍                                                     | 1703/3000 [00:37<00:29, 43.98it/s]\u001b[A\n",
      "Model comparisons:  57%|██████████████████████████████████████████████████████████████████████▋                                                     | 1711/3000 [00:38<00:28, 44.79it/s]\u001b[A\n",
      "Model comparisons:  57%|███████████████████████████████████████████████████████████████████████                                                     | 1719/3000 [00:38<00:28, 45.36it/s]\u001b[A\n",
      "Model comparisons:  58%|███████████████████████████████████████████████████████████████████████▍                                                    | 1727/3000 [00:38<00:31, 40.24it/s]\u001b[A\n"
     ]
    },
    {
     "name": "stderr",
     "output_type": "stream",
     "text": [
      "Model comparisons:  58%|███████████████████████████████████████████████████████████████████████▋                                                    | 1735/3000 [00:38<00:33, 37.90it/s]\u001b[A\n",
      "Model comparisons:  58%|████████████████████████████████████████████████████████████████████████                                                    | 1743/3000 [00:38<00:32, 38.38it/s]\u001b[A\n",
      "Model comparisons:  58%|████████████████████████████████████████████████████████████████████████▎                                                   | 1751/3000 [00:39<00:32, 38.83it/s]\u001b[A\n",
      "Model comparisons:  59%|████████████████████████████████████████████████████████████████████████▋                                                   | 1759/3000 [00:39<00:30, 41.09it/s]\u001b[A\n",
      "Model comparisons:  59%|█████████████████████████████████████████████████████████████████████████                                                   | 1767/3000 [00:39<00:28, 42.72it/s]\u001b[A\n",
      "Model comparisons:  59%|█████████████████████████████████████████████████████████████████████████▎                                                  | 1775/3000 [00:39<00:26, 45.38it/s]\u001b[A\n",
      "Model comparisons:  59%|█████████████████████████████████████████████████████████████████████████▋                                                  | 1783/3000 [00:39<00:27, 44.32it/s]\u001b[A\n",
      "Model comparisons:  60%|██████████████████████████████████████████████████████████████████████████                                                  | 1791/3000 [00:40<00:26, 45.85it/s]\u001b[A\n",
      "Model comparisons:  60%|██████████████████████████████████████████████████████████████████████████▎                                                 | 1799/3000 [00:40<00:25, 47.14it/s]\u001b[A\n",
      "Model comparisons:  60%|██████████████████████████████████████████████████████████████████████████▋                                                 | 1807/3000 [00:40<00:25, 47.65it/s]\u001b[A\n",
      "Model comparisons:  60%|███████████████████████████████████████████████████████████████████████████                                                 | 1815/3000 [00:40<00:25, 46.05it/s]\u001b[A\n",
      "Model comparisons:  61%|███████████████████████████████████████████████████████████████████████████▎                                                | 1823/3000 [00:40<00:24, 47.10it/s]\u001b[A\n",
      "Model comparisons:  61%|███████████████████████████████████████████████████████████████████████████▋                                                | 1831/3000 [00:40<00:24, 48.51it/s]\u001b[A\n",
      "Model comparisons:  61%|████████████████████████████████████████████████████████████████████████████                                                | 1839/3000 [00:41<00:23, 48.72it/s]\u001b[A\n",
      "Model comparisons:  62%|████████████████████████████████████████████████████████████████████████████▎                                               | 1847/3000 [00:41<00:24, 47.69it/s]\u001b[A\n",
      "Model comparisons:  62%|████████████████████████████████████████████████████████████████████████████▋                                               | 1855/3000 [00:41<00:24, 47.25it/s]\u001b[A\n",
      "Model comparisons:  62%|█████████████████████████████████████████████████████████████████████████████                                               | 1863/3000 [00:41<00:23, 47.75it/s]\u001b[A\n",
      "Model comparisons:  62%|█████████████████████████████████████████████████████████████████████████████▎                                              | 1871/3000 [00:41<00:22, 49.32it/s]\u001b[A\n",
      "Model comparisons:  63%|█████████████████████████████████████████████████████████████████████████████▋                                              | 1879/3000 [00:41<00:23, 48.04it/s]\u001b[A\n",
      "Model comparisons:  63%|█████████████████████████████████████████████████████████████████████████████▉                                              | 1887/3000 [00:42<00:23, 47.87it/s]\u001b[A\n",
      "Model comparisons:  63%|██████████████████████████████████████████████████████████████████████████████▎                                             | 1895/3000 [00:42<00:22, 49.12it/s]\u001b[A\n",
      "Model comparisons:  63%|██████████████████████████████████████████████████████████████████████████████▋                                             | 1903/3000 [00:42<00:22, 49.83it/s]\u001b[A\n",
      "Model comparisons:  64%|██████████████████████████████████████████████████████████████████████████████▉                                             | 1911/3000 [00:42<00:21, 49.77it/s]\u001b[A\n",
      "Model comparisons:  64%|███████████████████████████████████████████████████████████████████████████████▎                                            | 1919/3000 [00:42<00:21, 50.18it/s]\u001b[A\n",
      "Model comparisons:  64%|███████████████████████████████████████████████████████████████████████████████▋                                            | 1927/3000 [00:42<00:22, 47.66it/s]\u001b[A\n",
      "Model comparisons:  64%|███████████████████████████████████████████████████████████████████████████████▉                                            | 1935/3000 [00:43<00:24, 44.12it/s]\u001b[A\n",
      "Model comparisons:  65%|████████████████████████████████████████████████████████████████████████████████▎                                           | 1943/3000 [00:43<00:27, 38.61it/s]\u001b[A\n",
      "Model comparisons:  65%|████████████████████████████████████████████████████████████████████████████████▋                                           | 1951/3000 [00:43<00:26, 38.89it/s]\u001b[A\n",
      "Model comparisons:  65%|████████████████████████████████████████████████████████████████████████████████▉                                           | 1959/3000 [00:43<00:25, 40.69it/s]\u001b[A\n",
      "Model comparisons:  66%|█████████████████████████████████████████████████████████████████████████████████▎                                          | 1967/3000 [00:43<00:24, 42.29it/s]\u001b[A\n",
      "Model comparisons:  66%|█████████████████████████████████████████████████████████████████████████████████▋                                          | 1975/3000 [00:44<00:22, 44.87it/s]\u001b[A\n",
      "Model comparisons:  66%|█████████████████████████████████████████████████████████████████████████████████▉                                          | 1983/3000 [00:44<00:22, 45.96it/s]\u001b[A\n",
      "Model comparisons:  66%|██████████████████████████████████████████████████████████████████████████████████▎                                         | 1991/3000 [00:44<00:21, 46.80it/s]\u001b[A\n",
      "Model comparisons:  67%|██████████████████████████████████████████████████████████████████████████████████▋                                         | 1999/3000 [00:44<00:33, 29.44it/s]\u001b[A\n",
      "Model comparisons:  67%|██████████████████████████████████████████████████████████████████████████████████▉                                         | 2006/3000 [00:44<00:28, 34.68it/s]\u001b[A\n",
      "Model comparisons:  67%|███████████████████████████████████████████████████████████████████████████████████▌                                        | 2022/3000 [00:45<00:22, 44.26it/s]\u001b[A\n",
      "Model comparisons:  68%|███████████████████████████████████████████████████████████████████████████████████▉                                        | 2030/3000 [00:45<00:20, 46.65it/s]\u001b[A\n",
      "Model comparisons:  68%|████████████████████████████████████████████████████████████████████████████████████▏                                       | 2038/3000 [00:45<00:20, 47.71it/s]\u001b[A\n",
      "Model comparisons:  68%|████████████████████████████████████████████████████████████████████████████████████▌                                       | 2046/3000 [00:45<00:20, 47.66it/s]\u001b[A\n",
      "Model comparisons:  68%|████████████████████████████████████████████████████████████████████████████████████▉                                       | 2054/3000 [00:45<00:19, 47.66it/s]\u001b[A\n",
      "Model comparisons:  69%|█████████████████████████████████████████████████████████████████████████████████████▏                                      | 2062/3000 [00:45<00:19, 49.17it/s]\u001b[A\n",
      "Model comparisons:  69%|█████████████████████████████████████████████████████████████████████████████████████▌                                      | 2070/3000 [00:46<00:19, 48.80it/s]\u001b[A\n",
      "Model comparisons:  69%|█████████████████████████████████████████████████████████████████████████████████████▉                                      | 2078/3000 [00:46<00:19, 46.61it/s]\u001b[A\n"
     ]
    },
    {
     "name": "stderr",
     "output_type": "stream",
     "text": [
      "Model comparisons:  70%|██████████████████████████████████████████████████████████████████████████████████████▏                                     | 2086/3000 [00:46<00:19, 46.47it/s]\u001b[A\n",
      "Model comparisons:  70%|██████████████████████████████████████████████████████████████████████████████████████▌                                     | 2094/3000 [00:46<00:19, 47.41it/s]\u001b[A\n",
      "Model comparisons:  70%|██████████████████████████████████████████████████████████████████████████████████████▉                                     | 2102/3000 [00:46<00:18, 47.66it/s]\u001b[A\n",
      "Model comparisons:  70%|███████████████████████████████████████████████████████████████████████████████████████▏                                    | 2110/3000 [00:47<00:19, 46.43it/s]\u001b[A\n",
      "Model comparisons:  71%|███████████████████████████████████████████████████████████████████████████████████████▌                                    | 2118/3000 [00:47<00:19, 46.18it/s]\u001b[A\n",
      "Model comparisons:  71%|███████████████████████████████████████████████████████████████████████████████████████▊                                    | 2126/3000 [00:47<00:18, 48.17it/s]\u001b[A\n",
      "Model comparisons:  71%|████████████████████████████████████████████████████████████████████████████████████████▏                                   | 2134/3000 [00:47<00:17, 48.72it/s]\u001b[A\n",
      "Model comparisons:  71%|████████████████████████████████████████████████████████████████████████████████████████▌                                   | 2142/3000 [00:47<00:17, 49.18it/s]\u001b[A\n",
      "Model comparisons:  72%|████████████████████████████████████████████████████████████████████████████████████████▊                                   | 2150/3000 [00:47<00:17, 49.69it/s]\u001b[A\n",
      "Model comparisons:  72%|█████████████████████████████████████████████████████████████████████████████████████████▏                                  | 2158/3000 [00:47<00:16, 50.33it/s]\u001b[A\n",
      "Model comparisons:  72%|█████████████████████████████████████████████████████████████████████████████████████████▌                                  | 2166/3000 [00:48<00:16, 50.56it/s]\u001b[A\n",
      "Model comparisons:  72%|█████████████████████████████████████████████████████████████████████████████████████████▊                                  | 2174/3000 [00:48<00:16, 51.44it/s]\u001b[A\n",
      "Model comparisons:  73%|██████████████████████████████████████████████████████████████████████████████████████████▏                                 | 2182/3000 [00:48<00:15, 52.08it/s]\u001b[A\n",
      "Model comparisons:  73%|██████████████████████████████████████████████████████████████████████████████████████████▌                                 | 2190/3000 [00:48<00:15, 53.04it/s]\u001b[A\n",
      "Model comparisons:  73%|██████████████████████████████████████████████████████████████████████████████████████████▊                                 | 2198/3000 [00:48<00:15, 52.51it/s]\u001b[A\n",
      "Model comparisons:  74%|███████████████████████████████████████████████████████████████████████████████████████████▏                                | 2206/3000 [00:48<00:15, 51.43it/s]\u001b[A\n",
      "Model comparisons:  74%|███████████████████████████████████████████████████████████████████████████████████████████▌                                | 2214/3000 [00:49<00:15, 51.56it/s]\u001b[A\n",
      "Model comparisons:  74%|███████████████████████████████████████████████████████████████████████████████████████████▊                                | 2222/3000 [00:49<00:14, 52.49it/s]\u001b[A\n",
      "Model comparisons:  74%|████████████████████████████████████████████████████████████████████████████████████████████▏                               | 2230/3000 [00:49<00:14, 51.57it/s]\u001b[A\n",
      "Model comparisons:  75%|████████████████████████████████████████████████████████████████████████████████████████████▌                               | 2238/3000 [00:49<00:14, 51.43it/s]\u001b[A\n",
      "Model comparisons:  75%|████████████████████████████████████████████████████████████████████████████████████████████▊                               | 2246/3000 [00:49<00:14, 50.82it/s]\u001b[A\n",
      "Model comparisons:  75%|█████████████████████████████████████████████████████████████████████████████████████████████▏                              | 2254/3000 [00:49<00:14, 50.64it/s]\u001b[A\n",
      "Model comparisons:  75%|█████████████████████████████████████████████████████████████████████████████████████████████▍                              | 2262/3000 [00:49<00:14, 52.28it/s]\u001b[A\n",
      "Model comparisons:  76%|█████████████████████████████████████████████████████████████████████████████████████████████▊                              | 2270/3000 [00:50<00:14, 51.76it/s]\u001b[A\n",
      "Model comparisons:  76%|██████████████████████████████████████████████████████████████████████████████████████████████▏                             | 2278/3000 [00:50<00:13, 51.79it/s]\u001b[A\n",
      "Model comparisons:  76%|██████████████████████████████████████████████████████████████████████████████████████████████▍                             | 2286/3000 [00:50<00:14, 48.37it/s]\u001b[A\n",
      "Model comparisons:  76%|██████████████████████████████████████████████████████████████████████████████████████████████▊                             | 2294/3000 [00:50<00:15, 45.66it/s]\u001b[A\n",
      "Model comparisons:  77%|███████████████████████████████████████████████████████████████████████████████████████████████▏                            | 2302/3000 [00:50<00:15, 44.97it/s]\u001b[A\n",
      "Model comparisons:  77%|███████████████████████████████████████████████████████████████████████████████████████████████▍                            | 2310/3000 [00:51<00:14, 46.15it/s]\u001b[A\n",
      "Model comparisons:  77%|███████████████████████████████████████████████████████████████████████████████████████████████▊                            | 2318/3000 [00:51<00:14, 46.14it/s]\u001b[A\n",
      "Model comparisons:  78%|████████████████████████████████████████████████████████████████████████████████████████████████▏                           | 2326/3000 [00:51<00:14, 48.14it/s]\u001b[A\n",
      "Model comparisons:  78%|████████████████████████████████████████████████████████████████████████████████████████████████▍                           | 2334/3000 [00:51<00:13, 49.50it/s]\u001b[A\n",
      "Model comparisons:  78%|████████████████████████████████████████████████████████████████████████████████████████████████▊                           | 2342/3000 [00:51<00:13, 50.05it/s]\u001b[A\n",
      "Model comparisons:  78%|█████████████████████████████████████████████████████████████████████████████████████████████████▏                          | 2350/3000 [00:51<00:13, 48.32it/s]\u001b[A\n",
      "Model comparisons:  79%|█████████████████████████████████████████████████████████████████████████████████████████████████▍                          | 2358/3000 [00:52<00:13, 47.98it/s]\u001b[A\n",
      "Model comparisons:  79%|█████████████████████████████████████████████████████████████████████████████████████████████████▊                          | 2366/3000 [00:52<00:12, 48.97it/s]\u001b[A\n",
      "Model comparisons:  79%|██████████████████████████████████████████████████████████████████████████████████████████████████▏                         | 2374/3000 [00:52<00:12, 48.34it/s]\u001b[A\n",
      "Model comparisons:  79%|██████████████████████████████████████████████████████████████████████████████████████████████████▍                         | 2382/3000 [00:52<00:12, 48.20it/s]\u001b[A\n",
      "Model comparisons:  80%|██████████████████████████████████████████████████████████████████████████████████████████████████▊                         | 2390/3000 [00:52<00:12, 48.40it/s]\u001b[A\n",
      "Model comparisons:  80%|███████████████████████████████████████████████████████████████████████████████████████████████████                         | 2398/3000 [00:52<00:12, 47.49it/s]\u001b[A\n",
      "Model comparisons:  80%|███████████████████████████████████████████████████████████████████████████████████████████████████▍                        | 2406/3000 [00:52<00:12, 48.62it/s]\u001b[A\n",
      "Model comparisons:  80%|███████████████████████████████████████████████████████████████████████████████████████████████████▊                        | 2414/3000 [00:53<00:11, 49.17it/s]\u001b[A\n",
      "Model comparisons:  81%|████████████████████████████████████████████████████████████████████████████████████████████████████                        | 2422/3000 [00:53<00:11, 48.94it/s]\u001b[A\n"
     ]
    },
    {
     "name": "stderr",
     "output_type": "stream",
     "text": [
      "Model comparisons:  81%|████████████████████████████████████████████████████████████████████████████████████████████████████▍                       | 2430/3000 [00:53<00:11, 49.12it/s]\u001b[A\n",
      "Model comparisons:  81%|████████████████████████████████████████████████████████████████████████████████████████████████████▊                       | 2438/3000 [00:53<00:12, 45.74it/s]\u001b[A\n",
      "Model comparisons:  82%|█████████████████████████████████████████████████████████████████████████████████████████████████████                       | 2446/3000 [00:53<00:12, 44.73it/s]\u001b[A\n",
      "Model comparisons:  82%|█████████████████████████████████████████████████████████████████████████████████████████████████████▍                      | 2454/3000 [00:54<00:12, 43.53it/s]\u001b[A\n",
      "Model comparisons:  82%|█████████████████████████████████████████████████████████████████████████████████████████████████████▊                      | 2462/3000 [00:54<00:12, 44.32it/s]\u001b[A\n",
      "Model comparisons:  82%|██████████████████████████████████████████████████████████████████████████████████████████████████████                      | 2470/3000 [00:54<00:11, 44.85it/s]\u001b[A\n",
      "Model comparisons:  83%|██████████████████████████████████████████████████████████████████████████████████████████████████████▍                     | 2478/3000 [00:54<00:11, 47.05it/s]\u001b[A\n",
      "Model comparisons:  83%|██████████████████████████████████████████████████████████████████████████████████████████████████████▊                     | 2486/3000 [00:54<00:10, 49.77it/s]\u001b[A\n",
      "Model comparisons:  83%|███████████████████████████████████████████████████████████████████████████████████████████████████████                     | 2494/3000 [00:54<00:10, 48.79it/s]\u001b[A\n",
      "Model comparisons:  83%|███████████████████████████████████████████████████████████████████████████████████████████████████████▍                    | 2502/3000 [00:55<00:10, 47.69it/s]\u001b[A\n",
      "Model comparisons:  84%|███████████████████████████████████████████████████████████████████████████████████████████████████████▋                    | 2510/3000 [00:55<00:10, 48.94it/s]\u001b[A\n",
      "Model comparisons:  84%|████████████████████████████████████████████████████████████████████████████████████████████████████████                    | 2518/3000 [00:55<00:09, 49.35it/s]\u001b[A\n",
      "Model comparisons:  84%|████████████████████████████████████████████████████████████████████████████████████████████████████████▍                   | 2526/3000 [00:55<00:09, 49.88it/s]\u001b[A\n",
      "Model comparisons:  84%|████████████████████████████████████████████████████████████████████████████████████████████████████████▋                   | 2534/3000 [00:55<00:09, 50.46it/s]\u001b[A\n",
      "Model comparisons:  85%|█████████████████████████████████████████████████████████████████████████████████████████████████████████                   | 2542/3000 [00:55<00:08, 52.78it/s]\u001b[A\n",
      "Model comparisons:  85%|█████████████████████████████████████████████████████████████████████████████████████████████████████████▍                  | 2550/3000 [00:55<00:08, 53.06it/s]\u001b[A\n",
      "Model comparisons:  85%|█████████████████████████████████████████████████████████████████████████████████████████████████████████▋                  | 2558/3000 [00:56<00:08, 51.66it/s]\u001b[A\n",
      "Model comparisons:  86%|██████████████████████████████████████████████████████████████████████████████████████████████████████████                  | 2566/3000 [00:56<00:08, 50.65it/s]\u001b[A\n",
      "Model comparisons:  86%|██████████████████████████████████████████████████████████████████████████████████████████████████████████▍                 | 2574/3000 [00:56<00:08, 49.42it/s]\u001b[A\n",
      "Model comparisons:  86%|██████████████████████████████████████████████████████████████████████████████████████████████████████████▋                 | 2582/3000 [00:56<00:08, 48.79it/s]\u001b[A\n",
      "Model comparisons:  86%|███████████████████████████████████████████████████████████████████████████████████████████████████████████                 | 2590/3000 [00:56<00:08, 45.97it/s]\u001b[A\n",
      "Model comparisons:  87%|███████████████████████████████████████████████████████████████████████████████████████████████████████████▍                | 2598/3000 [00:57<00:08, 45.09it/s]\u001b[A\n",
      "Model comparisons:  87%|███████████████████████████████████████████████████████████████████████████████████████████████████████████▋                | 2606/3000 [00:57<00:08, 46.85it/s]\u001b[A\n",
      "Model comparisons:  87%|████████████████████████████████████████████████████████████████████████████████████████████████████████████                | 2614/3000 [00:57<00:08, 45.39it/s]\u001b[A\n",
      "Model comparisons:  87%|████████████████████████████████████████████████████████████████████████████████████████████████████████████▍               | 2622/3000 [00:57<00:08, 45.23it/s]\u001b[A\n",
      "Model comparisons:  88%|████████████████████████████████████████████████████████████████████████████████████████████████████████████▋               | 2630/3000 [00:57<00:08, 44.48it/s]\u001b[A\n",
      "Model comparisons:  88%|█████████████████████████████████████████████████████████████████████████████████████████████████████████████               | 2638/3000 [00:57<00:08, 42.29it/s]\u001b[A\n",
      "Model comparisons:  88%|█████████████████████████████████████████████████████████████████████████████████████████████████████████████▎              | 2646/3000 [00:58<00:08, 42.43it/s]\u001b[A\n",
      "Model comparisons:  88%|█████████████████████████████████████████████████████████████████████████████████████████████████████████████▋              | 2654/3000 [00:58<00:07, 43.86it/s]\u001b[A\n",
      "Model comparisons:  89%|██████████████████████████████████████████████████████████████████████████████████████████████████████████████              | 2662/3000 [00:58<00:07, 45.58it/s]\u001b[A\n",
      "Model comparisons:  89%|██████████████████████████████████████████████████████████████████████████████████████████████████████████████▎             | 2670/3000 [00:58<00:07, 46.65it/s]\u001b[A\n",
      "Model comparisons:  89%|██████████████████████████████████████████████████████████████████████████████████████████████████████████████▋             | 2678/3000 [00:58<00:06, 46.59it/s]\u001b[A\n",
      "Model comparisons:  90%|███████████████████████████████████████████████████████████████████████████████████████████████████████████████             | 2686/3000 [00:58<00:06, 47.67it/s]\u001b[A\n",
      "Model comparisons:  90%|███████████████████████████████████████████████████████████████████████████████████████████████████████████████▎            | 2694/3000 [00:59<00:06, 45.91it/s]\u001b[A\n",
      "Model comparisons:  90%|███████████████████████████████████████████████████████████████████████████████████████████████████████████████▋            | 2702/3000 [00:59<00:06, 47.41it/s]\u001b[A\n",
      "Model comparisons:  90%|████████████████████████████████████████████████████████████████████████████████████████████████████████████████            | 2710/3000 [00:59<00:06, 48.10it/s]\u001b[A\n",
      "Model comparisons:  91%|████████████████████████████████████████████████████████████████████████████████████████████████████████████████▎           | 2718/3000 [00:59<00:06, 46.78it/s]\u001b[A\n",
      "Model comparisons:  91%|████████████████████████████████████████████████████████████████████████████████████████████████████████████████▋           | 2726/3000 [00:59<00:05, 46.64it/s]\u001b[A\n",
      "Model comparisons:  91%|█████████████████████████████████████████████████████████████████████████████████████████████████████████████████           | 2734/3000 [00:59<00:05, 47.48it/s]\u001b[A\n",
      "Model comparisons:  91%|█████████████████████████████████████████████████████████████████████████████████████████████████████████████████▎          | 2742/3000 [01:00<00:05, 47.36it/s]\u001b[A\n",
      "Model comparisons:  92%|█████████████████████████████████████████████████████████████████████████████████████████████████████████████████▋          | 2750/3000 [01:00<00:05, 48.53it/s]\u001b[A\n",
      "Model comparisons:  92%|█████████████████████████████████████████████████████████████████████████████████████████████████████████████████▉          | 2758/3000 [01:00<00:04, 50.17it/s]\u001b[A\n",
      "Model comparisons:  92%|██████████████████████████████████████████████████████████████████████████████████████████████████████████████████▎         | 2766/3000 [01:00<00:04, 50.79it/s]\u001b[A\n"
     ]
    },
    {
     "name": "stderr",
     "output_type": "stream",
     "text": [
      "Model comparisons:  92%|██████████████████████████████████████████████████████████████████████████████████████████████████████████████████▋         | 2774/3000 [01:00<00:04, 51.13it/s]\u001b[A\n",
      "Model comparisons:  93%|██████████████████████████████████████████████████████████████████████████████████████████████████████████████████▉         | 2782/3000 [01:00<00:04, 51.72it/s]\u001b[A\n",
      "Model comparisons:  93%|███████████████████████████████████████████████████████████████████████████████████████████████████████████████████▎        | 2790/3000 [01:01<00:04, 51.26it/s]\u001b[A\n",
      "Model comparisons:  93%|███████████████████████████████████████████████████████████████████████████████████████████████████████████████████▋        | 2798/3000 [01:01<00:03, 50.66it/s]\u001b[A\n",
      "Model comparisons:  94%|███████████████████████████████████████████████████████████████████████████████████████████████████████████████████▉        | 2806/3000 [01:01<00:03, 49.63it/s]\u001b[A\n",
      "Model comparisons:  94%|████████████████████████████████████████████████████████████████████████████████████████████████████████████████████▎       | 2814/3000 [01:01<00:03, 50.54it/s]\u001b[A\n",
      "Model comparisons:  94%|████████████████████████████████████████████████████████████████████████████████████████████████████████████████████▋       | 2822/3000 [01:01<00:03, 51.80it/s]\u001b[A\n",
      "Model comparisons:  94%|████████████████████████████████████████████████████████████████████████████████████████████████████████████████████▉       | 2830/3000 [01:01<00:03, 51.30it/s]\u001b[A\n",
      "Model comparisons:  95%|█████████████████████████████████████████████████████████████████████████████████████████████████████████████████████▎      | 2838/3000 [01:02<00:03, 48.88it/s]\u001b[A\n",
      "Model comparisons:  95%|█████████████████████████████████████████████████████████████████████████████████████████████████████████████████████▋      | 2846/3000 [01:02<00:03, 48.89it/s]\u001b[A\n",
      "Model comparisons:  95%|█████████████████████████████████████████████████████████████████████████████████████████████████████████████████████▉      | 2854/3000 [01:02<00:03, 46.55it/s]\u001b[A\n",
      "Model comparisons:  95%|██████████████████████████████████████████████████████████████████████████████████████████████████████████████████████▎     | 2862/3000 [01:02<00:03, 43.69it/s]\u001b[A\n",
      "Model comparisons:  96%|██████████████████████████████████████████████████████████████████████████████████████████████████████████████████████▋     | 2870/3000 [01:02<00:03, 38.77it/s]\u001b[A\n",
      "Model comparisons:  96%|██████████████████████████████████████████████████████████████████████████████████████████████████████████████████████▉     | 2878/3000 [01:03<00:03, 35.94it/s]\u001b[A\n",
      "Model comparisons:  96%|███████████████████████████████████████████████████████████████████████████████████████████████████████████████████████▎    | 2886/3000 [01:03<00:03, 36.60it/s]\u001b[A\n",
      "Model comparisons:  96%|███████████████████████████████████████████████████████████████████████████████████████████████████████████████████████▌    | 2894/3000 [01:03<00:02, 39.08it/s]\u001b[A\n",
      "Model comparisons:  97%|███████████████████████████████████████████████████████████████████████████████████████████████████████████████████████▉    | 2902/3000 [01:03<00:02, 42.53it/s]\u001b[A\n",
      "Model comparisons:  97%|████████████████████████████████████████████████████████████████████████████████████████████████████████████████████████▎   | 2910/3000 [01:03<00:02, 43.80it/s]\u001b[A\n",
      "Model comparisons:  97%|████████████████████████████████████████████████████████████████████████████████████████████████████████████████████████▌   | 2918/3000 [01:03<00:01, 44.12it/s]\u001b[A\n",
      "Model comparisons:  98%|████████████████████████████████████████████████████████████████████████████████████████████████████████████████████████▉   | 2926/3000 [01:04<00:01, 44.86it/s]\u001b[A\n",
      "Model comparisons:  98%|█████████████████████████████████████████████████████████████████████████████████████████████████████████████████████████▎  | 2934/3000 [01:04<00:01, 45.61it/s]\u001b[A\n",
      "Model comparisons:  98%|█████████████████████████████████████████████████████████████████████████████████████████████████████████████████████████▌  | 2942/3000 [01:04<00:01, 46.35it/s]\u001b[A\n",
      "Model comparisons:  98%|█████████████████████████████████████████████████████████████████████████████████████████████████████████████████████████▉  | 2950/3000 [01:04<00:01, 47.83it/s]\u001b[A\n",
      "Model comparisons:  99%|██████████████████████████████████████████████████████████████████████████████████████████████████████████████████████████▎ | 2958/3000 [01:04<00:00, 47.86it/s]\u001b[A\n",
      "Model comparisons:  99%|██████████████████████████████████████████████████████████████████████████████████████████████████████████████████████████▌ | 2966/3000 [01:04<00:00, 46.22it/s]\u001b[A\n",
      "Model comparisons:  99%|██████████████████████████████████████████████████████████████████████████████████████████████████████████████████████████▉ | 2974/3000 [01:05<00:00, 46.86it/s]\u001b[A\n",
      "Model comparisons:  99%|███████████████████████████████████████████████████████████████████████████████████████████████████████████████████████████▎| 2982/3000 [01:05<00:00, 48.45it/s]\u001b[A\n",
      "Model comparisons: 100%|███████████████████████████████████████████████████████████████████████████████████████████████████████████████████████████▌| 2990/3000 [01:05<00:00, 48.88it/s]\u001b[A"
     ]
    }
   ],
   "source": [
    "res_df = multi_aso(\n",
    "    {\n",
    "        \"update freq = 10\": reward_dist_freq_10, \n",
    "        \"update freq = 20\": reward_dist_freq_20, \n",
    "        \"discount factor = 0.6\": reward_dist_discount_06\n",
    "    },\n",
    "    num_jobs=4, seed=SEED, return_df=True\n",
    ")"
   ]
  },
  {
   "cell_type": "code",
   "execution_count": 19,
   "metadata": {},
   "outputs": [
    {
     "data": {
      "text/html": [
       "<div>\n",
       "<style scoped>\n",
       "    .dataframe tbody tr th:only-of-type {\n",
       "        vertical-align: middle;\n",
       "    }\n",
       "\n",
       "    .dataframe tbody tr th {\n",
       "        vertical-align: top;\n",
       "    }\n",
       "\n",
       "    .dataframe thead th {\n",
       "        text-align: right;\n",
       "    }\n",
       "</style>\n",
       "<table border=\"1\" class=\"dataframe\">\n",
       "  <thead>\n",
       "    <tr style=\"text-align: right;\">\n",
       "      <th></th>\n",
       "      <th>update freq = 10</th>\n",
       "      <th>update freq = 20</th>\n",
       "      <th>discount factor = 0.6</th>\n",
       "    </tr>\n",
       "  </thead>\n",
       "  <tbody>\n",
       "    <tr>\n",
       "      <th>update freq = 10</th>\n",
       "      <td>1.0</td>\n",
       "      <td>1.0</td>\n",
       "      <td>0.0</td>\n",
       "    </tr>\n",
       "    <tr>\n",
       "      <th>update freq = 20</th>\n",
       "      <td>0.0</td>\n",
       "      <td>1.0</td>\n",
       "      <td>0.0</td>\n",
       "    </tr>\n",
       "    <tr>\n",
       "      <th>discount factor = 0.6</th>\n",
       "      <td>1.0</td>\n",
       "      <td>1.0</td>\n",
       "      <td>1.0</td>\n",
       "    </tr>\n",
       "  </tbody>\n",
       "</table>\n",
       "</div>"
      ],
      "text/plain": [
       "                       update freq = 10  update freq = 20  \\\n",
       "update freq = 10                    1.0               1.0   \n",
       "update freq = 20                    0.0               1.0   \n",
       "discount factor = 0.6               1.0               1.0   \n",
       "\n",
       "                       discount factor = 0.6  \n",
       "update freq = 10                         0.0  \n",
       "update freq = 20                         0.0  \n",
       "discount factor = 0.6                    1.0  "
      ]
     },
     "execution_count": 19,
     "metadata": {},
     "output_type": "execute_result"
    },
    {
     "name": "stderr",
     "output_type": "stream",
     "text": [
      "\n",
      "Model comparisons: 100%|███████████████████████████████████████████████████████████████████████████████████████████████████████████████████████████▉| 2997/3000 [01:22<00:00, 48.88it/s]\u001b[A"
     ]
    }
   ],
   "source": [
    "res_df"
   ]
  },
  {
   "cell_type": "markdown",
   "metadata": {},
   "source": [
    "Thus, we can conclude here that lowering the discount factor actually seems to have a negative impact on the obtained rewards. \n",
    "\n",
    "First of all, thank for following this demo so far! Before letting you play with the different functions yourself, here a few disclaimers:\n",
    "\n",
    "    1. This demo didn't try to put forth a realistic experimental pipeline in Reinforcement learning - the cart pole problem is just a cute problem for demonstration purposes.\n",
    "    2. The use of significance threshold is very controversial, and ASO is no exception - instead of marking your results as significant / non-significant, report the output of the scores along with your effect size.\n",
    "    3. Significance tests aren't perfect and come with a certain degree of uncertainty, and ASO is no exception\n",
    "    \n",
    "For more information on the functions, check out the documentation under [REDACTED] or leave an issue on the Github repository [REDACTED].\n",
    "\n",
    "\n",
    "### Bibliography"
   ]
  }
 ],
 "metadata": {
  "kernelspec": {
   "display_name": "Python 3 (ipykernel)",
   "language": "python",
   "name": "python3"
  },
  "language_info": {
   "codemirror_mode": {
    "name": "ipython",
    "version": 3
   },
   "file_extension": ".py",
   "mimetype": "text/x-python",
   "name": "python",
   "nbconvert_exporter": "python",
   "pygments_lexer": "ipython3",
   "version": "3.9.10"
  }
 },
 "nbformat": 4,
 "nbformat_minor": 4
}
